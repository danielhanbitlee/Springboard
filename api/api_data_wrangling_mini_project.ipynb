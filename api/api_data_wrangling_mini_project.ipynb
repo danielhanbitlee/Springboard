{
 "cells": [
  {
   "cell_type": "markdown",
   "metadata": {},
   "source": [
    "# JSON Mini Project\n",
    "\n",
    "### Daniel Lee\n",
    "### June 25,2018"
   ]
  },
  {
   "cell_type": "markdown",
   "metadata": {},
   "source": [
    "This exercise will require you to pull some data from the Quandl API. Qaundl is currently the most widely used aggregator of financial market data."
   ]
  },
  {
   "cell_type": "markdown",
   "metadata": {},
   "source": [
    "As a first step, you will need to register a free account on the http://www.quandl.com website."
   ]
  },
  {
   "cell_type": "markdown",
   "metadata": {},
   "source": [
    "After you register, you will be provided with a unique API key, that you should store:"
   ]
  },
  {
   "cell_type": "code",
   "execution_count": 169,
   "metadata": {},
   "outputs": [],
   "source": [
    "# retrieve stored API_KEY\n",
    "%store -r API_KEY"
   ]
  },
  {
   "cell_type": "markdown",
   "metadata": {},
   "source": [
    "Qaundl has a large number of data sources, but, unfortunately, most of them require a Premium subscription. Still, there are also a good number of free datasets."
   ]
  },
  {
   "cell_type": "markdown",
   "metadata": {},
   "source": [
    "For this mini project, we will focus on equities data from the Frankfurt Stock Exhange (FSE), which is available for free. We'll try and analyze the stock prices of a company called Carl Zeiss Meditec, which manufactures tools for eye examinations, as well as medical lasers for laser eye surgery: https://www.zeiss.com/meditec/int/home.html. The company is listed under the stock ticker AFX_X."
   ]
  },
  {
   "cell_type": "markdown",
   "metadata": {},
   "source": [
    "You can find the detailed Quandl API instructions here: https://docs.quandl.com/docs/time-series"
   ]
  },
  {
   "cell_type": "markdown",
   "metadata": {},
   "source": [
    "While there is a dedicated Python package for connecting to the Quandl API, we would prefer that you use the *requests* package, which can be easily downloaded using *pip* or *conda*. You can find the documentation for the package here: http://docs.python-requests.org/en/master/ "
   ]
  },
  {
   "cell_type": "markdown",
   "metadata": {},
   "source": [
    "Finally, apart from the *requests* package, you are encouraged to not use any third party Python packages, such as *pandas*, and instead focus on what's available in the Python Standard Library (the *collections* module might come in handy: https://pymotw.com/3/collections/).\n",
    "Also, since you won't have access to DataFrames, you are encouraged to us Python's native data structures - preferably dictionaries, though some questions can also be answered using lists.\n",
    "You can read more on these data structures here: https://docs.python.org/3/tutorial/datastructures.html"
   ]
  },
  {
   "cell_type": "markdown",
   "metadata": {},
   "source": [
    "Keep in mind that the JSON responses you will be getting from the API map almost one-to-one to Python's dictionaries. Unfortunately, they can be very nested, so make sure you read up on indexing dictionaries in the documentation provided above."
   ]
  },
  {
   "cell_type": "code",
   "execution_count": 170,
   "metadata": {},
   "outputs": [],
   "source": [
    "# First, import the relevant modules\n",
    "import requests"
   ]
  },
  {
   "cell_type": "code",
   "execution_count": 171,
   "metadata": {},
   "outputs": [],
   "source": [
    "# Now, call the Quandl API and pull out a small sample of the data (only one day) to get a glimpse\n",
    "# into the JSON structure that will be returned\n",
    "r = requests.get('https://www.quandl.com/api/v3/datasets/FSE/AFX_X.json?start_date=2018-06-25&end_date=2018-06-25&api_key={}'.format(API_KEY))"
   ]
  },
  {
   "cell_type": "code",
   "execution_count": 172,
   "metadata": {},
   "outputs": [
    {
     "name": "stdout",
     "output_type": "stream",
     "text": [
      "{'dataset': {'id': 10095370, 'dataset_code': 'AFX_X', 'database_code': 'FSE', 'name': 'Carl Zeiss Meditec (AFX_X)', 'description': 'Stock Prices for Carl Zeiss Meditec (AFX) from the Frankfurt Stock Exchange.<br><br>Trading System: Xetra<br><br>ISIN: DE0005313704', 'refreshed_at': '2018-06-25T22:28:48.902Z', 'newest_available_date': '2018-06-25', 'oldest_available_date': '2000-06-07', 'column_names': ['Date', 'Open', 'High', 'Low', 'Close', 'Change', 'Traded Volume', 'Turnover', 'Last Price of the Day', 'Daily Traded Units', 'Daily Turnover'], 'frequency': 'daily', 'type': 'Time Series', 'premium': False, 'limit': None, 'transform': None, 'column_index': None, 'start_date': '2018-06-25', 'end_date': '2018-06-25', 'data': [['2018-06-25', None, 59.75, 58.75, 58.75, None, 52522.0, 3112244.0, None, None, None]], 'collapse': None, 'order': None, 'database_id': 6129}}\n"
     ]
    }
   ],
   "source": [
    "# Inspect the JSON structure of the object you created, and take note of how nested it is,\n",
    "# as well as the overall structure\n",
    "print(r.json())"
   ]
  },
  {
   "cell_type": "markdown",
   "metadata": {},
   "source": [
    "### 1. Collect data from the Franfurt Stock Exchange, for the ticker AFX_X, for the whole year 2017 (keep in mind that the date format is YYYY-MM-DD)."
   ]
  },
  {
   "cell_type": "code",
   "execution_count": 173,
   "metadata": {},
   "outputs": [],
   "source": [
    "r = requests.get('https://www.quandl.com/api/v3/datasets/FSE/AFX_X.json?start_date=2017-01-01&end_date=2017-12-31&api_key={}'.format(API_KEY))"
   ]
  },
  {
   "cell_type": "markdown",
   "metadata": {},
   "source": [
    "### 2. Convert the returned JSON object into a Python dictionary."
   ]
  },
  {
   "cell_type": "code",
   "execution_count": 174,
   "metadata": {},
   "outputs": [],
   "source": [
    "afx = dict(r.json())"
   ]
  },
  {
   "cell_type": "markdown",
   "metadata": {},
   "source": [
    "### 3. Calculate what the highest and lowest opening prices were for the stock in this period."
   ]
  },
  {
   "cell_type": "code",
   "execution_count": 175,
   "metadata": {},
   "outputs": [
    {
     "name": "stdout",
     "output_type": "stream",
     "text": [
      "The index of the \"Open\" column in the dataset is 1\n",
      "\n",
      "The number of entries of \"Open\" values are 255. \n",
      "        This number will be used for looping over in list comprehension to collect all the 'Open' values.\n",
      "\n",
      "Here's the first ten numbers of all the opening values for the stock price:\n",
      "[51.76, 51.65, 51.45, 51.05, 51.16, 51.88, 52.73, 52.37, 52.7, 53.11]\n",
      "\n",
      "The maximum value is 53.11. The minimum value is 34.0\n"
     ]
    }
   ],
   "source": [
    "# get the index of the open values in the data\n",
    "open_idx = afx['dataset']['column_names'].index('Open')\n",
    "\n",
    "print('The index of the \"Open\" column in the dataset is {}\\n'.format(open_idx))\n",
    "\n",
    "# get the length of the data (number of days the stock was traded in the market)\n",
    "afx_data_len = len(afx['dataset']['data'])\n",
    "\n",
    "print(\"\"\"The number of entries of \"Open\" values are {}. \n",
    "        This number will be used for looping over in list comprehension to collect all the 'Open' values.\\n\"\"\".format(afx_data_len))\n",
    "\n",
    "# get the list of opening values of the stock (exclude empty values)\n",
    "open_values = [entry[open_idx] for entry in afx['dataset']['data'] if entry[open_idx]]\n",
    "\n",
    "print(\"\"\"Here's the first ten numbers of all the opening values for the stock price:\\n{}\\n\"\"\".format(open_values[:10]))\n",
    "\n",
    "print(\"\"\"The maximum value is {}. The minimum value is {}\"\"\".format(max(open_values), min(open_values)))"
   ]
  },
  {
   "cell_type": "markdown",
   "metadata": {},
   "source": [
    "### 4. What was the largest change in any one day (based on High and Low price)?"
   ]
  },
  {
   "cell_type": "markdown",
   "metadata": {},
   "source": [
    "### 5. What was the largest change between any two days (based on Closing Price)?"
   ]
  },
  {
   "cell_type": "code",
   "execution_count": 176,
   "metadata": {},
   "outputs": [],
   "source": [
    "# get the index of the high values in the data\n",
    "high_idx = afx['dataset']['column_names'].index('High')\n",
    "\n",
    "# get the index of the low values in the data\n",
    "low_idx = afx['dataset']['column_names'].index('Low')\n",
    "\n",
    "# get the list of change in values of the stock (exclude entries that has either empty high values or empty low values)\n",
    "change_values = [entry[high_idx] - entry[low_idx] for entry in afx['dataset']['data'] if entry[high_idx] and entry[low_idx]]"
   ]
  },
  {
   "cell_type": "code",
   "execution_count": 177,
   "metadata": {},
   "outputs": [
    {
     "data": {
      "text/plain": [
       "[0.4899999999999949,\n",
       " 0.39000000000000057,\n",
       " 1.1300000000000026,\n",
       " 0.5799999999999983,\n",
       " 0.6200000000000045]"
      ]
     },
     "execution_count": 177,
     "metadata": {},
     "output_type": "execute_result"
    }
   ],
   "source": [
    "# first five entries of change in values per day\n",
    "change_values[:5]"
   ]
  },
  {
   "cell_type": "code",
   "execution_count": 178,
   "metadata": {},
   "outputs": [
    {
     "data": {
      "text/plain": [
       "2.8100000000000023"
      ]
     },
     "execution_count": 178,
     "metadata": {},
     "output_type": "execute_result"
    }
   ],
   "source": [
    "max(change_values)"
   ]
  },
  {
   "cell_type": "code",
   "execution_count": 179,
   "metadata": {},
   "outputs": [
    {
     "data": {
      "text/plain": [
       "0.18999999999999773"
      ]
     },
     "execution_count": 179,
     "metadata": {},
     "output_type": "execute_result"
    }
   ],
   "source": [
    "min(change_values)"
   ]
  },
  {
   "cell_type": "code",
   "execution_count": 180,
   "metadata": {},
   "outputs": [
    {
     "name": "stdout",
     "output_type": "stream",
     "text": [
      "The maximum change in one day is 2.8100000000000023. The minimum change in one day is 0.18999999999999773\n"
     ]
    }
   ],
   "source": [
    "print(\"\"\"The maximum change in one day is {}. The minimum change in one day is {}\"\"\".format(max(change_values), min(change_values)))"
   ]
  },
  {
   "cell_type": "markdown",
   "metadata": {},
   "source": [
    "### 6. What was the average daily trading volume during this year?"
   ]
  },
  {
   "cell_type": "code",
   "execution_count": 181,
   "metadata": {},
   "outputs": [
    {
     "name": "stdout",
     "output_type": "stream",
     "text": [
      "[34640.0, 40660.0, 57452.0, 71165.0, 120649.0]\n",
      "The stock's average daily traded volume in 2017 is 89124.33725490196.\n"
     ]
    }
   ],
   "source": [
    "# get index for stock's daily traded volumes\n",
    "volume_idx = afx['dataset']['column_names'].index('Traded Volume')\n",
    "\n",
    "# create list of the stocks daily traded volumes\n",
    "traded_volume = [entry[volume_idx] for entry in afx['dataset']['data'] if entry[volume_idx]]\n",
    "\n",
    "# first five elements of traded volumes\n",
    "print(traded_volume[:5])\n",
    "\n",
    "# the stock's average traded volume during this year\n",
    "sum(traded_volume) / len(traded_volume)\n",
    "\n",
    "print(\"\"\"The stock's average daily traded volume in 2017 is {}.\"\"\".format(sum(traded_volume) / len(traded_volume)))"
   ]
  },
  {
   "cell_type": "markdown",
   "metadata": {},
   "source": [
    "7. (Optional) What was the median trading volume during this year. (Note: you may need to implement your own function for calculating the median.)"
   ]
  },
  {
   "cell_type": "markdown",
   "metadata": {},
   "source": [
    "Since median is the 50th percentile, median represents the middle number of the sorted data. If there is an odd number of entries in the list, then median is the middle number. If there is an even number of entries in the list, then median is the average of the two middle numbers."
   ]
  },
  {
   "cell_type": "code",
   "execution_count": 182,
   "metadata": {},
   "outputs": [
    {
     "data": {
      "text/plain": [
       "127"
      ]
     },
     "execution_count": 182,
     "metadata": {},
     "output_type": "execute_result"
    }
   ],
   "source": [
    "# get index of median value by floor-dividing the length of trading volume list\n",
    "median_idx = len((traded_volume))//2\n",
    "median_idx"
   ]
  },
  {
   "cell_type": "code",
   "execution_count": 183,
   "metadata": {},
   "outputs": [
    {
     "name": "stdout",
     "output_type": "stream",
     "text": [
      "The stock's median daily traded volume in 2017 is 76286.0.\n"
     ]
    }
   ],
   "source": [
    "median = sorted(traded_volume)[median_idx]\n",
    "print(\"\"\"The stock's median daily traded volume in 2017 is {}.\"\"\".format(median))"
   ]
  }
 ],
 "metadata": {
  "kernelspec": {
   "display_name": "Python 3",
   "language": "python",
   "name": "python3"
  },
  "language_info": {
   "codemirror_mode": {
    "name": "ipython",
    "version": 3
   },
   "file_extension": ".py",
   "mimetype": "text/x-python",
   "name": "python",
   "nbconvert_exporter": "python",
   "pygments_lexer": "ipython3",
   "version": "3.6.5"
  }
 },
 "nbformat": 4,
 "nbformat_minor": 2
}
