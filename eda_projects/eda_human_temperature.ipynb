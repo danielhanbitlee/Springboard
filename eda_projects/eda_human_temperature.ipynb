{
 "cells": [
  {
   "cell_type": "markdown",
   "metadata": {},
   "source": [
    "# What is the True Normal Human Body Temperature? \n",
    "\n",
    "## Daniel Lee\n",
    "\n",
    "### July 10, 2018\n",
    "\n",
    "#### Background\n",
    "\n",
    "The mean normal body temperature was held to be 37$^{\\circ}$C or 98.6$^{\\circ}$F for more than 120 years since it was first conceptualized and reported by Carl Wunderlich in a famous 1868 book. But, is this value statistically correct?"
   ]
  },
  {
   "cell_type": "markdown",
   "metadata": {},
   "source": [
    "<h3>Exercises</h3>\n",
    "\n",
    "<p>In this exercise, you will analyze a dataset of human body temperatures and employ the concepts of hypothesis testing, confidence intervals, and statistical significance.</p>\n",
    "\n",
    "<p>Answer the following questions <b>in this notebook below and submit to your Github account</b>.</p> \n",
    "\n",
    "<ol>\n",
    "<li>  Is the distribution of body temperatures normal? \n",
    "    <ul>\n",
    "    <li> Although this is not a requirement for the Central Limit Theorem to hold (read the introduction on Wikipedia's page about the CLT carefully: https://en.wikipedia.org/wiki/Central_limit_theorem), it gives us some peace of mind that the population may also be normally distributed if we assume that this sample is representative of the population.\n",
    "    <li> Think about the way you're going to check for the normality of the distribution. Graphical methods are usually used first, but there are also other ways: https://en.wikipedia.org/wiki/Normality_test\n",
    "    </ul>\n",
    "<li>  Is the sample size large? Are the observations independent?\n",
    "    <ul>\n",
    "    <li> Remember that this is a condition for the Central Limit Theorem, and hence the statistical tests we are using, to apply.\n",
    "    </ul>\n",
    "<li>  Is the true population mean really 98.6 degrees F?\n",
    "    <ul>\n",
    "    <li> First, try a bootstrap hypothesis test.\n",
    "    <li> Now, let's try frequentist statistical testing. Would you use a one-sample or two-sample test? Why?\n",
    "    <li> In this situation, is it appropriate to use the $t$ or $z$ statistic? \n",
    "    <li> Now try using the other test. How is the result be different? Why?\n",
    "    </ul>\n",
    "<li>  Draw a small sample of size 10 from the data and repeat both frequentist tests. \n",
    "    <ul>\n",
    "    <li> Which one is the correct one to use? \n",
    "    <li> What do you notice? What does this tell you about the difference in application of the $t$ and $z$ statistic?\n",
    "    </ul>\n",
    "<li>  At what temperature should we consider someone's temperature to be \"abnormal\"?\n",
    "    <ul>\n",
    "    <li> As in the previous example, try calculating everything using the boostrap approach, as well as the frequentist approach.\n",
    "    <li> Start by computing the margin of error and confidence interval. When calculating the confidence interval, keep in mind that you should use the appropriate formula for one draw, and not N draws.\n",
    "    </ul>\n",
    "<li>  Is there a significant difference between males and females in normal temperature?\n",
    "    <ul>\n",
    "    <li> What testing approach did you use and why?\n",
    "    <li> Write a story with your conclusion in the context of the original problem.\n",
    "    </ul>\n",
    "</ol>\n",
    "\n",
    "You can include written notes in notebook cells using Markdown: \n",
    "   - In the control panel at the top, choose Cell > Cell Type > Markdown\n",
    "   - Markdown syntax: http://nestacms.com/docs/creating-content/markdown-cheat-sheet\n",
    "\n",
    "#### Resources\n",
    "\n",
    "+ Information and data sources: http://www.amstat.org/publications/jse/datasets/normtemp.txt, http://www.amstat.org/publications/jse/jse_data_archive.htm\n",
    "+ Markdown syntax: http://nestacms.com/docs/creating-content/markdown-cheat-sheet\n",
    "\n",
    "****"
   ]
  },
  {
   "cell_type": "code",
   "execution_count": 177,
   "metadata": {},
   "outputs": [],
   "source": [
    "import pandas as pd\n",
    "import matplotlib.pyplot as plt\n",
    "import numpy as np\n",
    "import seaborn as sns\n",
    "import statistics\n",
    "import statsmodels.api as sm\n",
    "from scipy import stats\n",
    "from scipy.stats import t\n",
    "from scipy.stats import norm\n",
    "from scipy.stats import f\n",
    "from scipy.stats import ttest_ind"
   ]
  },
  {
   "cell_type": "code",
   "execution_count": 178,
   "metadata": {},
   "outputs": [],
   "source": [
    "df = pd.read_csv('data_human_temperature/human_body_temperature.csv')"
   ]
  },
  {
   "cell_type": "markdown",
   "metadata": {},
   "source": [
    "## 1. Is the distribution of body temperatures normal? \n",
    "   \n",
    "* Although this is not a requirement for the Central Limit Theorem to hold (read the introduction on Wikipedia's page about the CLT carefully: https://en.wikipedia.org/wiki/Central_limit_theorem), it gives us some peace of mind that the population may also be normally distributed if we assume that this sample is representative of the population.\n",
    "* Think about the way you're going to check for the normality of the distribution. Graphical methods are usually used first, but there are also other ways: https://en.wikipedia.org/wiki/Normality_test\n",
    "\n"
   ]
  },
  {
   "cell_type": "markdown",
   "metadata": {},
   "source": [
    "To test for normality, I will perform graphical methods as well as a hypothesis test.\n",
    "\n",
    "1. Plot the histogram of the sample and compare it to a histogram of a theoretical normal distribution.\n",
    "2. Plot the ECDF of the sample and compare it to the CDF of a theoretical normal distribution.\n",
    "3. Create a qq-plot where I compare the quantiles of the sample to the quantiles of a theoretical normal distribution.\n",
    "4. Run the Shapiro-Wilk test at the 0.05 significance level."
   ]
  },
  {
   "cell_type": "code",
   "execution_count": 179,
   "metadata": {},
   "outputs": [],
   "source": [
    "def ecdf(data):\n",
    "    \"\"\"Compute ECDF for a one-dimensional array of measurements.\"\"\"\n",
    "    # Number of data points: n\n",
    "    n = len(data)\n",
    "\n",
    "    # x-data for the ECDF: x\n",
    "    x = np.sort(data)\n",
    "\n",
    "    # y-data for the ECDF: y\n",
    "    y = np.arange(1, n + 1) / n\n",
    "\n",
    "    return x, y"
   ]
  },
  {
   "cell_type": "code",
   "execution_count": 180,
   "metadata": {},
   "outputs": [
    {
     "data": {
      "text/plain": [
       "130"
      ]
     },
     "execution_count": 180,
     "metadata": {},
     "output_type": "execute_result"
    }
   ],
   "source": [
    "# create temperature object that contains all the temperatures\n",
    "temperature = df.temperature\n",
    "len(temperature)"
   ]
  },
  {
   "cell_type": "code",
   "execution_count": 181,
   "metadata": {},
   "outputs": [],
   "source": [
    "# create x and y values for ecdf\n",
    "x_ecdf, y_ecdf = ecdf(temperature)"
   ]
  },
  {
   "cell_type": "code",
   "execution_count": 182,
   "metadata": {},
   "outputs": [],
   "source": [
    "# calculate mean and standard deviation of sample to create samples from normal distribution with same mean and sd as sample\n",
    "temp_mean = np.mean(temperature)\n",
    "temp_sd = statistics.stdev(temperature) # sample sd\n",
    "temp_theo = np.random.normal(loc = temp_mean, scale = temp_sd, size = len(temperature))"
   ]
  },
  {
   "cell_type": "code",
   "execution_count": 183,
   "metadata": {},
   "outputs": [
    {
     "name": "stderr",
     "output_type": "stream",
     "text": [
      "/root/anaconda3/lib/python3.6/site-packages/matplotlib/axes/_axes.py:6462: UserWarning: The 'normed' kwarg is deprecated, and has been replaced by the 'density' kwarg.\n",
      "  warnings.warn(\"The 'normed' kwarg is deprecated, and has been \"\n",
      "/root/anaconda3/lib/python3.6/site-packages/matplotlib/axes/_axes.py:6462: UserWarning: The 'normed' kwarg is deprecated, and has been replaced by the 'density' kwarg.\n",
      "  warnings.warn(\"The 'normed' kwarg is deprecated, and has been \"\n"
     ]
    },
    {
     "data": {
      "image/png": "[encoded data removed]",
      "text/plain": [
       "<Figure size 864x432 with 1 Axes>"
      ]
     },
     "metadata": {},
     "output_type": "display_data"
    }
   ],
   "source": [
    "# create histogram of theoretical normal distribution vs sample distribution\n",
    "_ = sns.distplot(temp_theo)\n",
    "_ = sns.distplot(temperature, norm_hist = True)\n",
    "_ = plt.title('Histogram of Temperatures From Sample')\n",
    "_ = plt.ylabel('Density')\n",
    "_ = plt.legend(('Theoretical\\nNormal\\nDistribution', 'Sample\\nDistribution'), bbox_to_anchor = (0.65, 1))\n",
    "plt.show()"
   ]
  },
  {
   "cell_type": "markdown",
   "metadata": {},
   "source": [
    "From a sample size of 130, it seems that the distribution of temperatures are pretty normally distributed. I see some deviation in that the sample distribution might have a slightly long right tail (slightly right-skewed)."
   ]
  },
  {
   "cell_type": "code",
   "execution_count": 184,
   "metadata": {},
   "outputs": [
    {
     "data": {
      "image/png": "[encoded data removed]",
      "text/plain": [
       "<Figure size 864x432 with 1 Axes>"
      ]
     },
     "metadata": {},
     "output_type": "display_data"
    }
   ],
   "source": [
    "# Compute ECDFs for both theoretical normal distribution and sample\n",
    "x_theo, y_theo = ecdf(temp_theo)\n",
    "x_actual, y_actual = ecdf(temperature)\n",
    "\n",
    "# Plot both ECDFs on the same plot\n",
    "_ = plt.plot(x_theo, y_theo, marker = '.', linestyle = 'none', color = 'orange')\n",
    "_ = plt.plot(x_actual, y_actual, marker = '.', linestyle = \"none\", color = 'teal')\n",
    "_ = plt.legend(('Theoretical Normal Distribution', 'Sample Distribution'))\n",
    "_ = plt.title('CDF of Normal Distribution vs ECDF of Sample Distribution')\n",
    "_ = plt.xlabel('Temperatures (degrees F)')\n",
    "_ = plt.ylabel('CDF')\n",
    "plt.show()"
   ]
  },
  {
   "cell_type": "markdown",
   "metadata": {},
   "source": [
    "From the comparison of ECDF to the theoretical CDF of a normal distribution with the same mean and standard deviation, I see that there's a slight deviation. The sample distribution has most of its mass concentrated in the center and also has a few outliers at the right tail end."
   ]
  },
  {
   "cell_type": "markdown",
   "metadata": {},
   "source": [
    "Another way to test for normality graphically is by generating a QQ-plot and inspecting the distributions visually."
   ]
  },
  {
   "cell_type": "code",
   "execution_count": 185,
   "metadata": {},
   "outputs": [
    {
     "data": {
      "image/png": "[encoded data removed]",
      "text/plain": [
       "<Figure size 864x432 with 1 Axes>"
      ]
     },
     "metadata": {},
     "output_type": "display_data"
    }
   ],
   "source": [
    "_ = sm.qqplot(temperature, line = 'q')\n",
    "_ = plt.title('QQ-Plot of Sample Distribution and\\nTheoretical Normal Distribution')\n",
    "plt.show()"
   ]
  },
  {
   "cell_type": "markdown",
   "metadata": {},
   "source": [
    "From the QQ-plot, I see that at the left tail of the distribution, the sample quantiles are lower than the expected values if they were normally distributed. At the right tail, I see that three points are higher than the expected values if they were normally distributed. This indicates that the sample distribution has longer tails than the theoretical normal distribution. But the deviation from the normal distribution is small. So, it seems that the sample distribution is more-or-less normal."
   ]
  },
  {
   "cell_type": "markdown",
   "metadata": {},
   "source": [
    "Another way to examine if the distribution is normal is by performing the Shapiro-Wilk Test.\n",
    "\n",
    "1. Null Hypothesis: The sample temperatures were sampled from a normal distribution.\n",
    "2. Alternative Hypothesis: The sample temperatures were not sampled from a normal distribution."
   ]
  },
  {
   "cell_type": "code",
   "execution_count": 186,
   "metadata": {},
   "outputs": [
    {
     "data": {
      "text/plain": [
       "(0.9865770936012268, 0.233174666762352)"
      ]
     },
     "execution_count": 186,
     "metadata": {},
     "output_type": "execute_result"
    }
   ],
   "source": [
    "# run the shapiro-wilk test\n",
    "stats.shapiro(temperature)"
   ]
  },
  {
   "cell_type": "markdown",
   "metadata": {},
   "source": [
    "The results of the Shapiro-Wilk test shows the test statistic of 0.99 and a p-value of 0.23. So, at the 0.05 significance level, I do not reject the null hypothesis that the sample distribution seems to be coming from a population that is normally distributed."
   ]
  },
  {
   "cell_type": "markdown",
   "metadata": {},
   "source": [
    "## 2. Is the sample size large? Are the observations independent?\n",
    "Remember that this is a condition for the Central Limit Theorem, and hence the statistical tests we are using, to apply."
   ]
  },
  {
   "cell_type": "code",
   "execution_count": 187,
   "metadata": {},
   "outputs": [
    {
     "data": {
      "text/plain": [
       "130"
      ]
     },
     "execution_count": 187,
     "metadata": {},
     "output_type": "execute_result"
    }
   ],
   "source": [
    "len(temperature)"
   ]
  },
  {
   "cell_type": "markdown",
   "metadata": {},
   "source": [
    "Sample size is 130, which is a sufficient size to think that the sample can be an adequate representation of the population. The observations are assumed to be coming from a random sample, so I can assume that the samples are independent."
   ]
  },
  {
   "cell_type": "markdown",
   "metadata": {},
   "source": [
    "## 3. Is the true population mean really 98.6 degrees F?\n",
    "* First, try a bootstrap hypothesis test.\n",
    "* Now, let's try frequentist statistical testing. Would you use a one-sample or two-sample test? Why?\n",
    "* In this situation, is it appropriate to use the  tt  or  zz  statistic?\n",
    "* Now try using the other test. How is the result be different? Why?"
   ]
  },
  {
   "cell_type": "markdown",
   "metadata": {},
   "source": [
    "### Bootstrap Hypothesis Test\n",
    "\n",
    "* Null Hypothesis: The true population mean is 98.6 degrees F\n",
    "* Alternative Hypothesis: The true population mean is not 98.6 degrees F"
   ]
  },
  {
   "cell_type": "markdown",
   "metadata": {},
   "source": [
    "Procedure:\n",
    "\n",
    "1. Recenter the data so that the mean is 98.6 degrees F."
   ]
  },
  {
   "cell_type": "code",
   "execution_count": 188,
   "metadata": {},
   "outputs": [],
   "source": [
    "# Make an array of translated temperatures to center the data at 98.6 degrees: translated_temperature\n",
    "translated_temperature = temperature - np.mean(temperature) + 98.6"
   ]
  },
  {
   "cell_type": "markdown",
   "metadata": {},
   "source": [
    "2. Sample with replacement *n* times using the original sample of size *n* and calculate the mean.\n",
    "3. Repeat step 2 *B* times. In this case, *B* is 10,000. So now, I have 10,000 means."
   ]
  },
  {
   "cell_type": "code",
   "execution_count": 189,
   "metadata": {},
   "outputs": [],
   "source": [
    "# define functions to use for bootstrapping\n",
    "def bootstrap_replicate_1d(data, func):\n",
    "    \"\"\"Generate bootstrap replicate of 1d data\"\"\"\n",
    "    return func(np.random.choice(data, size=len(data)))\n",
    "\n",
    "def draw_bs_reps(data, func, size=1):\n",
    "    \"\"\"Draw bootstrap replicates.\"\"\"\n",
    "    return np.array([bootstrap_replicate_1d(data, func) for _ in range(size)])\n",
    "\n",
    "# Take bootstrap replicates of translated temperatures: bs_replicates\n",
    "bs_replicates = draw_bs_reps(translated_temperature, np.mean, 10000)"
   ]
  },
  {
   "cell_type": "markdown",
   "metadata": {},
   "source": [
    "4. Count the number of times the bootstrap means are less than or equal to the observed mean of 98.25 degrees F. Also, since I am doing a two-sided test, count the number of times the bootstrap means are greater than or equal to 98.95 degrees F, which is the temperature that is same distance from 98.6 degrees as the sample mean of 98.25 degrees F, but 98.95 is greater than 98.6 by 0.35 degrees. \n",
    "5. Calculate the p-value by dividng the number from step 4 by *B*, which is 10,000 in this case."
   ]
  },
  {
   "cell_type": "code",
   "execution_count": 190,
   "metadata": {},
   "outputs": [
    {
     "name": "stdout",
     "output_type": "stream",
     "text": [
      "p-value =  0.0\n"
     ]
    },
    {
     "name": "stderr",
     "output_type": "stream",
     "text": [
      "/root/anaconda3/lib/python3.6/site-packages/matplotlib/axes/_axes.py:6462: UserWarning: The 'normed' kwarg is deprecated, and has been replaced by the 'density' kwarg.\n",
      "  warnings.warn(\"The 'normed' kwarg is deprecated, and has been \"\n"
     ]
    },
    {
     "data": {
      "image/png": "[encoded data removed]",
      "text/plain": [
       "<Figure size 864x432 with 1 Axes>"
      ]
     },
     "metadata": {},
     "output_type": "display_data"
    }
   ],
   "source": [
    "# Compute fraction of replicates that are less than the observed sample mean temperature and greater than 98.95: p_value\n",
    "p_value = np.sum((bs_replicates <= temp_mean) & (bs_replicates >= 98.6 + (98.6 - temp_mean))) / 10000\n",
    "\n",
    "# Print the p-value\n",
    "print('p-value = ', p_value)\n",
    "\n",
    "# Create a histogram of the bootstrap replicates of mean when recentered at 98.6 degrees\n",
    "# Add a vertical line at observed mean value from sample temperatures\n",
    "_ = sns.distplot(bs_replicates, norm_hist = True)\n",
    "_ = plt.axvline(x=np.mean(temperature), color = 'red')\n",
    "plt.show()"
   ]
  },
  {
   "cell_type": "markdown",
   "metadata": {},
   "source": [
    "6. From p-value and significance level $\\alpha$, draw conclusion.\n",
    "\n",
    "    From the bootstrap hypothesis test, I see that the p-value is zero, so I would reject the null hypothesis that the mean of the true population is 98.6 degrees F."
   ]
  },
  {
   "cell_type": "markdown",
   "metadata": {},
   "source": [
    "### One-Sample Frequentist Hypothesis Test: T-Test\n",
    "\n",
    "* Null Hypothesis: The true population mean is 98.6 degrees F. That is  \n",
    "\n",
    "$$\\mu_{H_0} = 98.6\\:degrees\\:F$$  \n",
    "\n",
    "* Alternative Hypothesis: The true population mean is not 98.6 degrees F. That is  \n",
    "\n",
    "$$\\mu_{H_A} \\neq 98.6\\:degrees\\:F$$  \n",
    "\n",
    "This is a two-sided test."
   ]
  },
  {
   "cell_type": "markdown",
   "metadata": {},
   "source": [
    "Since the population standard deviation is not known, using the t-distribution to obtain the p-value would be appropriate here. However, since the sample size is 130, using the normal distribution to generate the p-value should also be okay. I will do both to demonstrate.\n",
    "\n",
    "I would use the one-sample test as opposed to a two-sample test because I am testing the population mean with a known mean of 98.6 degrees F. If I were testing two unknown population means to see if they were equal, then I would do a two-sample test."
   ]
  },
  {
   "cell_type": "markdown",
   "metadata": {},
   "source": [
    "Procedure:\n",
    "\n",
    "1. Calculate the test statistic by using the following equation:\n",
    "\n",
    "$$test\\:statistic = \\frac{\\overline{x} - \\mu_{H_0}}{s.e.(\\,\\overline{x}\\,)}$$\n",
    "\n",
    "where\n",
    "\n",
    "$$s.e.(\\,\\overline{x}\\,) = \\frac{standard\\:deviation(\\,\\overline{x}\\,)}{\\sqrt{n}}$$\n",
    "\n",
    "where $n$ is the sample size."
   ]
  },
  {
   "cell_type": "code",
   "execution_count": 191,
   "metadata": {},
   "outputs": [
    {
     "name": "stdout",
     "output_type": "stream",
     "text": [
      "Test statistic is -5.4548.\n"
     ]
    }
   ],
   "source": [
    "# calculate test statistic\n",
    "test_statistic = (temp_mean - 98.6) / (temp_sd / np.sqrt(len(temperature)))\n",
    "print('Test statistic is {}.'.format(round(test_statistic, 4)))"
   ]
  },
  {
   "cell_type": "markdown",
   "metadata": {},
   "source": [
    "2. Calculate the degrees of freedom using $n - 1$. Then, calculate the p-value using the t-distribution."
   ]
  },
  {
   "cell_type": "code",
   "execution_count": 192,
   "metadata": {},
   "outputs": [
    {
     "name": "stdout",
     "output_type": "stream",
     "text": [
      "Degrees of freedom is 129 and p-value is 2.4e-07.\n"
     ]
    }
   ],
   "source": [
    "# calculate p-value using the t-distribution\n",
    "degf = len(temperature) - 1\n",
    "p_value = t.cdf(test_statistic, df = degf) * 2\n",
    "print('Degrees of freedom is {} and p-value is {}.'.format(degf, round(p_value, 8)))"
   ]
  },
  {
   "cell_type": "markdown",
   "metadata": {},
   "source": [
    "3. Draw conclusion based on the significance level $\\alpha$.\n",
    "\n",
    "    Here, we have a very small p-value. At the 0.05 significance level, I reject the null hypothesis that the sample comes from a distribution with mean 98.6 degrees F."
   ]
  },
  {
   "cell_type": "markdown",
   "metadata": {},
   "source": [
    "Let's see this graphically."
   ]
  },
  {
   "cell_type": "code",
   "execution_count": 193,
   "metadata": {},
   "outputs": [
    {
     "name": "stderr",
     "output_type": "stream",
     "text": [
      "/root/anaconda3/lib/python3.6/site-packages/matplotlib/axes/_axes.py:6462: UserWarning: The 'normed' kwarg is deprecated, and has been replaced by the 'density' kwarg.\n",
      "  warnings.warn(\"The 'normed' kwarg is deprecated, and has been \"\n"
     ]
    },
    {
     "data": {
      "image/png": "[encoded data removed]",
      "text/plain": [
       "<Figure size 864x432 with 1 Axes>"
      ]
     },
     "metadata": {},
     "output_type": "display_data"
    }
   ],
   "source": [
    "# sample 100000 times from a standard t distribution with df = 129\n",
    "t_distribution = np.random.standard_t(df = degf, size = 100000)\n",
    "\n",
    "# generate plot\n",
    "_ = sns.distplot(t_distribution, norm_hist = True)\n",
    "_ = plt.axvline(x=test_statistic, color = 'red')\n",
    "_ = plt.title('T Distribution\\nUnder Null Hypothesis')\n",
    "_ = plt.xlabel('t Values')\n",
    "_ = plt.ylabel('Density')\n",
    "_ = plt.xlim(-6, 6)\n",
    "_ = plt.annotate('Critical\\nValue\\nat {}\\n(Two-Sided\\nTest)'.format(round(test_statistic, 3)), \n",
    "                 xy = (test_statistic, 0.25), \n",
    "                 xytext = (-4, .255), \n",
    "                 arrowprops = dict(facecolor = 'black'))\n",
    "_ = plt.axvline(x=-test_statistic, color = 'red')\n",
    "_ = plt.annotate('Critical\\nValue\\nat {}\\n(Two-Sided\\nTest)'.format(round(-test_statistic, 3)), \n",
    "                 xy = (-test_statistic, .25), \n",
    "                 xytext = (2.5, .255), \n",
    "                 arrowprops = dict(facecolor = 'black'))\n",
    "plt.show()"
   ]
  },
  {
   "cell_type": "markdown",
   "metadata": {},
   "source": [
    "From the graph, we can see that the p-value is very small."
   ]
  },
  {
   "cell_type": "markdown",
   "metadata": {},
   "source": [
    "### One-Sample Frequentist Hypothesis Test: Z-Test\n",
    "\n",
    "* Null Hypothesis: The true population mean is 98.6 degrees F\n",
    "* Alternative Hypothesis: The true population mean is not 98.6 degrees F\n",
    "\n",
    "Procedure:\n",
    "\n",
    "1. Calculate the test statistic by using the following equation:\n",
    "\n",
    "$$test\\:statistic = \\frac{\\overline{x} - \\mu_{H_0}}{s.e.(\\,\\overline{x}\\,)}$$\n",
    "\n",
    "where\n",
    "\n",
    "$$s.e.(\\,\\overline{x}\\,) = \\frac{standard\\:deviation(\\,\\overline{x}\\,)}{\\sqrt{n}}$$\n",
    "\n",
    "where $n$ is the sample size.\n",
    "    \n",
    "The test statistic was already calculated above while doing the t-test. So, proceed to calculating the p-value."
   ]
  },
  {
   "cell_type": "markdown",
   "metadata": {},
   "source": [
    "2. Calculate the p-value using the normal distribution."
   ]
  },
  {
   "cell_type": "code",
   "execution_count": 194,
   "metadata": {},
   "outputs": [
    {
     "name": "stdout",
     "output_type": "stream",
     "text": [
      "p-value is 5e-08.\n"
     ]
    }
   ],
   "source": [
    "# calculate p-value\n",
    "p_value = norm.cdf(test_statistic) * 2\n",
    "print('p-value is {}.'.format(round(p_value, 8)))"
   ]
  },
  {
   "cell_type": "markdown",
   "metadata": {},
   "source": [
    "3. Draw conclusion based on the significance level $\\alpha$.\n",
    "\n",
    "    Here, we have a very small p-value. At the 0.05 significance level, I reject the null hypothesis that the sample comes from a distribution with mean 98.6 degrees F."
   ]
  },
  {
   "cell_type": "markdown",
   "metadata": {},
   "source": [
    "Let's see this graphically."
   ]
  },
  {
   "cell_type": "code",
   "execution_count": 195,
   "metadata": {},
   "outputs": [
    {
     "name": "stderr",
     "output_type": "stream",
     "text": [
      "/root/anaconda3/lib/python3.6/site-packages/matplotlib/axes/_axes.py:6462: UserWarning: The 'normed' kwarg is deprecated, and has been replaced by the 'density' kwarg.\n",
      "  warnings.warn(\"The 'normed' kwarg is deprecated, and has been \"\n"
     ]
    },
    {
     "data": {
      "image/png": "[encoded data removed]",
      "text/plain": [
       "<Figure size 864x432 with 1 Axes>"
      ]
     },
     "metadata": {},
     "output_type": "display_data"
    }
   ],
   "source": [
    "# sample 100000 times from a standard normal distribution\n",
    "normal_distribution = np.random.normal(size = 100000)\n",
    "\n",
    "# generate plot\n",
    "_ = sns.distplot(normal_distribution, norm_hist = True)\n",
    "_ = plt.axvline(x=test_statistic, color = 'red')\n",
    "_ = plt.title('Normal Distribution\\nUnder Null Hypothesis')\n",
    "_ = plt.xlabel('z Values')\n",
    "_ = plt.ylabel('Density')\n",
    "_ = plt.xlim(-6, 6)\n",
    "_ = plt.annotate('Critical\\nValue\\nat {}\\n(Two-Sided\\nTest)'.format(round(test_statistic, 3)), \n",
    "                 xy = (test_statistic, 0.25), \n",
    "                 xytext = (-4, .255), \n",
    "                 arrowprops = dict(facecolor = 'black'))\n",
    "_ = plt.axvline(x=-test_statistic, color = 'red')\n",
    "_ = plt.annotate('Critical\\nValue\\nat {}\\n(Two-Sided\\nTest)'.format(round(-test_statistic, 3)), \n",
    "                 xy = (-test_statistic, .25), \n",
    "                 xytext = (2.5, .255), \n",
    "                 arrowprops = dict(facecolor = 'black'))\n",
    "plt.show()"
   ]
  },
  {
   "cell_type": "markdown",
   "metadata": {},
   "source": [
    "From the visualization, we can see that the p-value using the normal distribution is also very small."
   ]
  },
  {
   "cell_type": "markdown",
   "metadata": {},
   "source": [
    "Although both the t statistic and the z statistic led me to reject the null hypothesis, the t statistic led to a larger p-value. This is to account for the increase in uncertainty that results in estimating the standard deviation of the population. Therefore, by using the t-distribution, p-value would be greater because the t-distribution has fatter tails than a normal distribution."
   ]
  },
  {
   "cell_type": "markdown",
   "metadata": {},
   "source": [
    "## 4. Draw a small sample of size 10 from the data and repeat both frequentist tests.\n",
    "* Which one is the correct one to use?\n",
    "    * In this case, since the sample size is small, it would be appropriate to use the t statistic.\n",
    "* What do you notice? What does this tell you about the difference in application of the  tt  and  zz  statistic?"
   ]
  },
  {
   "cell_type": "code",
   "execution_count": 196,
   "metadata": {},
   "outputs": [],
   "source": [
    "# take 10 random samples with replacement from data and calculate mean and sd\n",
    "sample = np.random.choice(temperature, size = 10)\n",
    "sample_mean = np.mean(sample)\n",
    "sample_sd = statistics.stdev(sample)"
   ]
  },
  {
   "cell_type": "code",
   "execution_count": 197,
   "metadata": {},
   "outputs": [
    {
     "name": "stdout",
     "output_type": "stream",
     "text": [
      "test statistic: -1.9673\n"
     ]
    }
   ],
   "source": [
    "# calculate test statistic\n",
    "test_statistic = (sample_mean - 98.6) / (sample_sd / np.sqrt(len(sample)))\n",
    "print('test statistic: {}'.format(round(test_statistic, 4)))"
   ]
  },
  {
   "cell_type": "code",
   "execution_count": 198,
   "metadata": {},
   "outputs": [
    {
     "name": "stdout",
     "output_type": "stream",
     "text": [
      "z test p-value: 0.0491\n"
     ]
    }
   ],
   "source": [
    "# z-test\n",
    "p_value = norm.cdf(test_statistic) * 2\n",
    "print('z test p-value: {}'.format(round(p_value, 4)))"
   ]
  },
  {
   "cell_type": "code",
   "execution_count": 199,
   "metadata": {},
   "outputs": [
    {
     "name": "stdout",
     "output_type": "stream",
     "text": [
      "t test p-value: 0.0807\n"
     ]
    }
   ],
   "source": [
    "# t test\n",
    "p_value = t.cdf(test_statistic, df = len(sample) - 1) * 2\n",
    "print('t test p-value: {}'.format(round(p_value, 4)))"
   ]
  },
  {
   "cell_type": "markdown",
   "metadata": {},
   "source": [
    "The p-values for the two tests are similar. However, the p-value for t-test is larger than the p-value for z-test. This tells me that if the population is normal, then choosing between t statistic and z statistic wouldn't have too big of a difference."
   ]
  },
  {
   "cell_type": "markdown",
   "metadata": {},
   "source": [
    "We can also see this graphically."
   ]
  },
  {
   "cell_type": "code",
   "execution_count": 203,
   "metadata": {},
   "outputs": [
    {
     "name": "stderr",
     "output_type": "stream",
     "text": [
      "/root/anaconda3/lib/python3.6/site-packages/matplotlib/axes/_axes.py:6462: UserWarning: The 'normed' kwarg is deprecated, and has been replaced by the 'density' kwarg.\n",
      "  warnings.warn(\"The 'normed' kwarg is deprecated, and has been \"\n",
      "/root/anaconda3/lib/python3.6/site-packages/matplotlib/axes/_axes.py:6462: UserWarning: The 'normed' kwarg is deprecated, and has been replaced by the 'density' kwarg.\n",
      "  warnings.warn(\"The 'normed' kwarg is deprecated, and has been \"\n",
      "/root/anaconda3/lib/python3.6/site-packages/matplotlib/figure.py:459: UserWarning: matplotlib is currently using a non-GUI backend, so cannot show the figure\n",
      "  \"matplotlib is currently using a non-GUI backend, \"\n"
     ]
    },
    {
     "data": {
      "image/png": "[encoded data removed]",
      "text/plain": [
       "<Figure size 864x360 with 2 Axes>"
      ]
     },
     "metadata": {},
     "output_type": "display_data"
    }
   ],
   "source": [
    "# create plot with two subplots\n",
    "fig, (z_test, t_test) = plt.subplots(1, 2, figsize = (12, 5))\n",
    "    \n",
    "# first plot: standard normal distribution\n",
    "sns.distplot(normal_distribution, norm_hist = True, ax = z_test)\n",
    "z_test.axvline(x=test_statistic, color = 'red')\n",
    "z_test.set_title('Normal Distribution\\nUnder Null Hypothesis')\n",
    "z_test.set_xlabel('z Values')\n",
    "z_test.set_ylabel('Density')\n",
    "z_test.annotate('Critical\\nValue\\nat {}\\n(Two-Sided\\nTest)'.format(round(test_statistic, 3)), \n",
    "                 xy = (test_statistic, 0.25), \n",
    "                 xytext = (-4.2, .255), \n",
    "                 arrowprops = dict(facecolor = 'black'))\n",
    "z_test.axvline(x=-test_statistic, color = 'red')\n",
    "z_test.annotate('Critical\\nValue\\nat {}\\n(Two-Sided\\nTest)'.format(round(-test_statistic, 3)), \n",
    "                 xy = (-test_statistic, .25), \n",
    "                 xytext = (2.5, .255), \n",
    "                 arrowprops = dict(facecolor = 'black'))\n",
    "\n",
    "# second plot: standard t distribution\n",
    "sns.distplot(t_distribution, norm_hist = True, ax = t_test)\n",
    "t_test.axvline(x=test_statistic, color = 'red')\n",
    "t_test.set_title('T Distribution\\nUnder Null Hypothesis')\n",
    "t_test.set_xlabel('t Values')\n",
    "t_test.set_ylabel('Density')\n",
    "t_test.annotate('Critical\\nValue\\nat {}\\n(Two-Sided\\nTest)'.format(round(test_statistic, 3)), \n",
    "                 xy = (test_statistic, 0.25), \n",
    "                 xytext = (-4.2, .255), \n",
    "                 arrowprops = dict(facecolor = 'black'))\n",
    "t_test.axvline(x=-test_statistic, color = 'red')\n",
    "t_test.annotate('Critical\\nValue\\nat {}\\n(Two-Sided\\nTest)'.format(round(-test_statistic, 3)), \n",
    "                 xy = (-test_statistic, .25), \n",
    "                 xytext = (2.5, .255), \n",
    "                 arrowprops = dict(facecolor = 'black'))\n",
    "fig.tight_layout()\n",
    "fig.show()"
   ]
  },
  {
   "cell_type": "markdown",
   "metadata": {},
   "source": [
    "From the visualizations, we can see that we have high p-values for both z-test and t-test."
   ]
  },
  {
   "cell_type": "markdown",
   "metadata": {},
   "source": [
    "## 5. At what temperature should we consider someone's temperature to be \"abnormal\"?\n",
    "* As in the previous example, try calculating everything using the boostrap approach, as well as the frequentist approach.\n",
    "* Start by computing the margin of error and confidence interval. When calculating the confidence interval, keep in mind that you should use the appropriate formula for one draw, and not N draws."
   ]
  },
  {
   "cell_type": "markdown",
   "metadata": {},
   "source": [
    "**Bootstrap Approach**\n",
    "\n",
    "To construct a bootstrap confidence interval, I will create a bootstrap sampling distribution of the sample means and calculate the 2.5th percentile and the 97.5th percentile of the distribution. Hence, the **two-sided** confidence interval will be $(2.5th\\:percentile, 97.5th\\:percentile)$. Margin of error will be $(sample\\:mean - 2.5th\\:percentile)$."
   ]
  },
  {
   "cell_type": "code",
   "execution_count": null,
   "metadata": {},
   "outputs": [],
   "source": [
    "# bootstrap confidence interval\n",
    "bs_replicates = draw_bs_reps(temperature, np.mean, 10000)\n",
    "conf_95 = np.percentile(bs_replicates, [2.5, 97.5])\n",
    "print('Bootstrap 95% Confidence Interval is {}'.format(conf_95, 4))"
   ]
  },
  {
   "cell_type": "code",
   "execution_count": null,
   "metadata": {},
   "outputs": [],
   "source": [
    "margin_of_error = temp_mean - np.array(conf_95)\n",
    "print('Margin of Error is {}'.format(round(margin_of_error[0], 4)))"
   ]
  },
  {
   "cell_type": "code",
   "execution_count": null,
   "metadata": {},
   "outputs": [],
   "source": [
    "# graph of bootstrap confidence interval\n",
    "_ = sns.distplot(bs_replicates, norm_hist = True)\n",
    "_ = plt.axvline(x=conf_95[0], color = 'red')\n",
    "_ = plt.axvline(x=conf_95[1], color = 'red')\n",
    "_ = plt.ylabel('PDF')\n",
    "_ = plt.xlabel('Temperature (degrees F)')\n",
    "_ = plt.title('Bootstrap 95% Confidence Interval')"
   ]
  },
  {
   "cell_type": "markdown",
   "metadata": {},
   "source": [
    "Bootstrap 95% confidence interval for the population mean temperature is 98.12 degrees F to 98.38 degrees F. Margin of error is $\\pm$ 0.12 degrees F. Based on this, the abnormal temperature is below 98.12 degrees F or above 98.38 degrees F."
   ]
  },
  {
   "cell_type": "markdown",
   "metadata": {},
   "source": [
    "**Frequentist Approach**\n",
    "\n",
    "I will construct a 95% confidence interval using both the t distribution as well as a normal distribution.\n",
    "\n",
    "* For the t-distribution, I will construct a confidence interval using the following:\n",
    "\n",
    "$$\\overline{x} \\pm t_{\\alpha/2,\\:df}* estimated\\:standard\\:error$$\n",
    "\n",
    "where\n",
    "\n",
    "$$estimated\\:standard\\:error = \\frac{sample\\:standard\\:deviation(\\,\\overline{x}\\,)}{\\sqrt{n}}$$\n",
    "\n",
    "and $\\alpha = 0.05$.\n",
    "\n",
    "* For the normal distribution, I will construct a confidence interval using the following:\n",
    "\n",
    "$$\\overline{x} \\pm z_{\\alpha/2}* estimated\\:standard\\:error$$\n",
    "\n",
    "where\n",
    "\n",
    "$$estimated\\:standard\\:error = \\frac{sample\\:standard\\:deviation(\\,\\overline{x}\\,)}{\\sqrt{n}}$$\n",
    "\n",
    "and $\\alpha = 0.05$."
   ]
  },
  {
   "cell_type": "code",
   "execution_count": null,
   "metadata": {},
   "outputs": [],
   "source": [
    "# frequentist confidence interval\n",
    "# 95% CI using t-distribution\n",
    "t_statistic = t.ppf(q = [.025, .975], df = len(temperature) - 1)\n",
    "t_statistic"
   ]
  },
  {
   "cell_type": "code",
   "execution_count": null,
   "metadata": {},
   "outputs": [],
   "source": [
    "# calculate margin of error\n",
    "margin_of_error = np.array(t_statistic * temp_sd / np.sqrt(len(temperature)))\n",
    "margin_of_error"
   ]
  },
  {
   "cell_type": "code",
   "execution_count": null,
   "metadata": {},
   "outputs": [],
   "source": [
    "# calculate 95% CI\n",
    "conf_95 = temp_mean + margin_of_error\n",
    "conf_95"
   ]
  },
  {
   "cell_type": "markdown",
   "metadata": {},
   "source": [
    "T-distribution 95% confidence interval for the population mean temperature is 98.12 degrees F to 98.38 degrees F. Margin of error is +/- 0.13 degrees F."
   ]
  },
  {
   "cell_type": "code",
   "execution_count": null,
   "metadata": {},
   "outputs": [],
   "source": [
    "# 95% CI using z-distribution\n",
    "z_statistic = norm.ppf(q = [.025, .975])\n",
    "z_statistic"
   ]
  },
  {
   "cell_type": "code",
   "execution_count": null,
   "metadata": {},
   "outputs": [],
   "source": [
    "# calculate margin of error\n",
    "margin_of_error = z_statistic * temp_sd / np.sqrt(len(temperature))\n",
    "margin_of_error"
   ]
  },
  {
   "cell_type": "code",
   "execution_count": null,
   "metadata": {},
   "outputs": [],
   "source": [
    "# 95% CI\n",
    "conf_95 = temp_mean + margin_of_error\n",
    "conf_95"
   ]
  },
  {
   "cell_type": "markdown",
   "metadata": {},
   "source": [
    "Normal distribution 95% confidence interval for the population mean temperature is 98.12 degrees F to 98.38 degrees F. Margin of error is +/- 0.13 degrees F."
   ]
  },
  {
   "cell_type": "markdown",
   "metadata": {},
   "source": [
    "The 95% confidence intervals for the population mean temperature for the three different types - bootstrap, t-distribution, and normal distribution - are all very similar. If we define the normal temperature to be the mean temperature of the population, then, according to these confidence intervals, the abnormal temperatures are temperatures less than 98.12 degrees F or temperatures greater than 98.38 degrees F."
   ]
  },
  {
   "cell_type": "markdown",
   "metadata": {},
   "source": [
    "## 6. Is there a significant difference between males and females in normal temperature?\n",
    "* What testing approach did you use and why?  \n",
    "\n",
    "    I used the following methods to test this:\n",
    "    1. Bootstrap test of means - this is to test whether two populations have the same mean when the means of both distributions are unknown.\n",
    "    2. Two-sample t-test - there are two different distributions that I am comparing: temperature for males and temperature for females. Also, since the population standard deviations are unknown, I will use the t-test.  \n",
    "\n",
    "\n",
    "* Write a story with your conclusion in the context of the original problem."
   ]
  },
  {
   "cell_type": "markdown",
   "metadata": {},
   "source": [
    "First, I will visually inspect the two sample distributions using ECDFs."
   ]
  },
  {
   "cell_type": "code",
   "execution_count": null,
   "metadata": {},
   "outputs": [],
   "source": [
    "female_temp = df.loc[df.gender == 'F', 'temperature']"
   ]
  },
  {
   "cell_type": "code",
   "execution_count": null,
   "metadata": {},
   "outputs": [],
   "source": [
    "male_temp = df.loc[df.gender == 'M', 'temperature']"
   ]
  },
  {
   "cell_type": "code",
   "execution_count": null,
   "metadata": {},
   "outputs": [],
   "source": [
    "# calculate points for ecdf for males and females\n",
    "x_male, y_male = ecdf(male_temp)\n",
    "x_female, y_female = ecdf(female_temp)"
   ]
  },
  {
   "cell_type": "code",
   "execution_count": null,
   "metadata": {},
   "outputs": [],
   "source": [
    "# plot ecdfs of male and female temperatures\n",
    "_ = plt.plot(x_male, y_male, marker = '.', linestyle = 'none')\n",
    "_ = plt.plot(x_female, y_female, marker = '.', linestyle = 'none')\n",
    "_ = plt.legend(('male', 'female'))\n",
    "_ = plt.title('ECDFs of Male Temperatures and Female Temperatures')\n",
    "_ = plt.xlabel('Temperature (degrees F)')\n",
    "_ = plt.ylabel('ECDF')\n",
    "plt.show()"
   ]
  },
  {
   "cell_type": "markdown",
   "metadata": {},
   "source": [
    "From the comparison of the ECDFs, it seems that the distribution of male temperatures and female temperatures are different. The male temperatures have overall lower temperatures than the females."
   ]
  },
  {
   "cell_type": "markdown",
   "metadata": {},
   "source": [
    "**Bootstrap Test of Means**"
   ]
  },
  {
   "cell_type": "markdown",
   "metadata": {},
   "source": [
    "* Null Hypothesis: The average temperature between the two distributions are the same\n",
    "* Alternative Hypothesis: The average temperature between the two distributions are different"
   ]
  },
  {
   "cell_type": "markdown",
   "metadata": {},
   "source": [
    "Procedure:\n",
    "\n",
    "1. Combine the two samples and calculate the mean.\n",
    "2. Recenter the sample means for the two samples.\n",
    "3. Draw $B$ samples with replacement from the two different recentered samples and calculate the mean. Here, I use $B = 10000$.\n",
    "4. Calculate the differences of these $B$ sample means between males and females. This will be the bootstrap sampling distribution of the sample difference in means\n",
    "5. Calculate the p-value as getting the difference in means or more extreme values than the one I observed in the sample. This is a two-sided test.\n",
    "6. Compare p-value to significance level $\\alpha$. In this case, I'll use $\\alpha = 0.05$."
   ]
  },
  {
   "cell_type": "code",
   "execution_count": null,
   "metadata": {},
   "outputs": [],
   "source": [
    "# bootstrap test of means\n",
    "\n",
    "# compute observed means:\n",
    "empirical_diff_means = np.mean(female_temp) - np.mean(male_temp)\n",
    "\n",
    "# Generate shifted arrays\n",
    "female_temp_shifted = female_temp - np.mean(female_temp) + temp_mean\n",
    "male_temp_shifted = male_temp - np.mean(male_temp) + temp_mean\n",
    "\n",
    "# Compute 10,000 bootstrap replicates from shifted arrays\n",
    "bs_replicates_a = draw_bs_reps(female_temp_shifted, np.mean, 10000)\n",
    "bs_replicates_b = draw_bs_reps(male_temp_shifted, np.mean, 10000)\n",
    "\n",
    "# Get replicates of difference of means: bs_replicates\n",
    "bs_replicates = bs_replicates_a - bs_replicates_b\n",
    "\n",
    "# Compute and print p-value: p\n",
    "p = np.sum(bs_replicates >= empirical_diff_means) / 10000 * 2\n",
    "print('p-value =', p)"
   ]
  },
  {
   "cell_type": "code",
   "execution_count": null,
   "metadata": {},
   "outputs": [],
   "source": [
    "# create plot of bootstrap sampling distribution of difference of means and observed difference\n",
    "_ = sns.distplot(bs_replicates)\n",
    "_ = plt.axvline(x=empirical_diff_means, color = 'red')\n",
    "_ = plt.annotate('Observed\\nDifference\\nat {}'.format(round(empirical_diff_means, 2)), \n",
    "                 xy = (empirical_diff_means, 1.5), \n",
    "                 xytext = (empirical_diff_means + 0.1, 1.53), \n",
    "                 arrowprops = dict(facecolor = 'black'))\n",
    "_ = plt.title('Bootstrap Sampling Distribution of the Difference of Means')\n",
    "_ = plt.xlabel('Difference of Means (degrees F)')\n",
    "_ = plt.ylabel('PDF')\n",
    "plt.show()"
   ]
  },
  {
   "cell_type": "markdown",
   "metadata": {},
   "source": [
    "Since p-value is 0.025, at 0.05 significance level, I will reject the null hypothesis that the means of the two distributions are the same. "
   ]
  },
  {
   "cell_type": "markdown",
   "metadata": {},
   "source": [
    "## Two-Sample T-Test"
   ]
  },
  {
   "cell_type": "markdown",
   "metadata": {},
   "source": [
    "* Null Hypothesis: The average temperature between the two distributions are the same\n",
    "* Alternative Hypothesis: The average temperature between the two distributions are different"
   ]
  },
  {
   "cell_type": "markdown",
   "metadata": {},
   "source": [
    "Check Assumptions:\n",
    "\n",
    "To perform a two-sample t-test, I will first check the following assumptions.\n",
    "\n",
    "1. Are the distributions independent from each other?\n",
    "    * Yes. I can assume that the distributions are independent from each other because the original sample was sampled randomly.\n",
    "2. Are the samples taken independently?\n",
    "    * Yes. Same reason as assumption 1.\n",
    "3. Can we assume normal distributions for the sampling distribution of the sample mean for the two samples?\n",
    "    * Yes. The sample size for both the female temperatures and the male temperatures are greater than 30. Hence, by the CLT, the sampling distribution of the sample mean would be a normal distribution.\n",
    "4. Do the populations have equal variance?\n",
    "    * To test this, I will perform an F test for testing equal variance."
   ]
  },
  {
   "cell_type": "markdown",
   "metadata": {},
   "source": [
    "Procedure:\n",
    "\n",
    "1. Assume $\\mu_{male_{H_0}} = \\mu_{female_{H_0}}$. So, under the null hypothesis, difference in means is zero.\n",
    "2. Test to see if it's valid to assume whether $\\sigma^2_{male} = \\sigma^2_{female}$.\n",
    "    * If the two population standard deviations seem to be equal, then perform the pooled t test. That is, use the following estimate for the standard error:  \n",
    "    \n",
    "$$standard\\:error = s_p\\sqrt{1/n_{male} + 1/n_{female}}$$  \n",
    "\n",
    "where $$s_p^2 = \\frac{(n_{male} - 1)s_{male}^2 + (n_{female} - 1)s_{female}^2}{n_{male} + n_{female} - 2}$$\n",
    "\n",
    "where  \n",
    "+ $n_{male}$ is the sample size of male temperatures\n",
    "+ $n_{female}$ is the sample size of female temperatures\n",
    "+ $s_{male}^2$ is the sample variance of male temperatures\n",
    "+ $s_{female}^2$ is the sample variance of female temperatures\n",
    "\n",
    "and $df = n_{male} + n_{female} - 2$\n",
    "\n",
    "\n",
    "- If the two population standard deviations seems to be different, then use the unpooled t test using the following estimate for standard error:\n",
    "    \n",
    "$$standard\\:error = \\sqrt{\\frac{s_{male}^2}{n_{male}} + \\frac{s_{female}^2}{n_{female}}}$$\n",
    "\n",
    "and $df$ is complicated (usually calculated by software).  \n",
    "\n",
    "3. Calculate the test statistic:\n",
    "$$ t = \\frac{\\overline{x}_{male} - \\overline{x}_{female}}{s.e.}$$  \n",
    "\n",
    "4. Calculate the p-value as getting the difference in means or more extreme values than the one I observed in the sample. This is a two-sided test.\n",
    "5. Compare p-value to signifance level $\\alpha$. In this case, I'll use $\\alpha = 0.05$."
   ]
  },
  {
   "cell_type": "code",
   "execution_count": null,
   "metadata": {},
   "outputs": [],
   "source": [
    "# equal variance f-test\n",
    "F = np.var(female_temp) / np.var(male_temp) # f-statistic\n",
    "df1 = len(female_temp) - 1 # degrees of freedom 1\n",
    "df2 = len(male_temp) - 1 # degrees of freedom 2\n",
    "p_value = f.cdf(F, df1, df2) # p-value\n",
    "p_value"
   ]
  },
  {
   "cell_type": "markdown",
   "metadata": {},
   "source": [
    "Since the p-value is quite high, I can safely assume that the population variances are equal. So, I will use the pooled variance."
   ]
  },
  {
   "cell_type": "code",
   "execution_count": null,
   "metadata": {},
   "outputs": [],
   "source": [
    "# two-sample t-test\n",
    "ttest_ind(female_temp, male_temp, equal_var = True)"
   ]
  },
  {
   "cell_type": "markdown",
   "metadata": {},
   "source": [
    "Based on the p-value, at the 0.05 significance level, I will reject the null hypothesis that the two populations have equal temperature means."
   ]
  },
  {
   "cell_type": "markdown",
   "metadata": {},
   "source": [
    "## Conclusion\n",
    "\n",
    "Based on both the bootstrap test result and the two-sample t-test result, I can see that the normal temperature between the male and the female are different."
   ]
  }
 ],
 "metadata": {
  "kernelspec": {
   "display_name": "Python 3",
   "language": "python",
   "name": "python3"
  },
  "language_info": {
   "codemirror_mode": {
    "name": "ipython",
    "version": 3
   },
   "file_extension": ".py",
   "mimetype": "text/x-python",
   "name": "python",
   "nbconvert_exporter": "python",
   "pygments_lexer": "ipython3",
   "version": "3.6.5"
  }
 },
 "nbformat": 4,
 "nbformat_minor": 1
}
