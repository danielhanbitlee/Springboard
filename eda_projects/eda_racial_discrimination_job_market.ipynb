{
 "cells": [
  {
   "cell_type": "markdown",
   "metadata": {},
   "source": [
    "# Examining Racial Discrimination in the US Job Market\n",
    "\n",
    "## Daniel Lee\n",
    "\n",
    "### July 13, 2018\n",
    "\n",
    "### Background\n",
    "Racial discrimination continues to be pervasive in cultures throughout the world. Researchers examined the level of racial discrimination in the United States labor market by randomly assigning identical résumés to black-sounding or white-sounding names and observing the impact on requests for interviews from employers.\n",
    "\n",
    "### Data\n",
    "In the dataset provided, each row represents a resume. The 'race' column has two values, 'b' and 'w', indicating black-sounding and white-sounding. The column 'call' has two values, 1 and 0, indicating whether the resume received a call from employers or not.\n",
    "\n",
    "Note that the 'b' and 'w' values in race are assigned randomly to the resumes when presented to the employer."
   ]
  },
  {
   "cell_type": "markdown",
   "metadata": {},
   "source": [
    "### Exercises\n",
    "You will perform a statistical analysis to establish whether race has a significant impact on the rate of callbacks for resumes.\n",
    "\n",
    "Answer the following questions **in this notebook below and submit to your Github account**. \n",
    "\n",
    "   1. What test is appropriate for this problem? Does CLT apply?\n",
    "   2. What are the null and alternate hypotheses?\n",
    "   3. Compute margin of error, confidence interval, and p-value. Try using both the bootstrapping and the frequentist statistical approaches.\n",
    "   4. Write a story describing the statistical significance in the context or the original problem.\n",
    "   5. Does your analysis mean that race/name is the most important factor in callback success? Why or why not? If not, how would you amend your analysis?\n",
    "\n",
    "You can include written notes in notebook cells using Markdown: \n",
    "   - In the control panel at the top, choose Cell > Cell Type > Markdown\n",
    "   - Markdown syntax: http://nestacms.com/docs/creating-content/markdown-cheat-sheet\n",
    "\n",
    "\n",
    "#### Resources\n",
    "+ Experiment information and data source: http://www.povertyactionlab.org/evaluation/discrimination-job-market-united-states\n",
    "+ Scipy statistical methods: http://docs.scipy.org/doc/scipy/reference/stats.html \n",
    "+ Markdown syntax: http://nestacms.com/docs/creating-content/markdown-cheat-sheet\n",
    "+ Formulas for the Bernoulli distribution: https://en.wikipedia.org/wiki/Bernoulli_distribution"
   ]
  },
  {
   "cell_type": "code",
   "execution_count": 34,
   "metadata": {},
   "outputs": [],
   "source": [
    "import pandas as pd\n",
    "import numpy as np\n",
    "from scipy import stats\n",
    "import matplotlib.pyplot as plt\n",
    "import statistics\n",
    "import seaborn as sns\n",
    "from scipy.stats import norm\n",
    "from IPython.display import display, Math"
   ]
  },
  {
   "cell_type": "code",
   "execution_count": 35,
   "metadata": {},
   "outputs": [],
   "source": [
    "data = pd.io.stata.read_stata('data_racial_discrimination/us_job_market_discrimination.dta')"
   ]
  },
  {
   "cell_type": "code",
   "execution_count": 36,
   "metadata": {},
   "outputs": [
    {
     "data": {
      "text/plain": [
       "235.0"
      ]
     },
     "execution_count": 36,
     "metadata": {},
     "output_type": "execute_result"
    }
   ],
   "source": [
    "# number of callbacks for black-sounding names\n",
    "sum(data[data.race=='w'].call)"
   ]
  },
  {
   "cell_type": "code",
   "execution_count": 37,
   "metadata": {},
   "outputs": [
    {
     "data": {
      "text/html": [
       "<div>\n",
       "<style scoped>\n",
       "    .dataframe tbody tr th:only-of-type {\n",
       "        vertical-align: middle;\n",
       "    }\n",
       "\n",
       "    .dataframe tbody tr th {\n",
       "        vertical-align: top;\n",
       "    }\n",
       "\n",
       "    .dataframe thead th {\n",
       "        text-align: right;\n",
       "    }\n",
       "</style>\n",
       "<table border=\"1\" class=\"dataframe\">\n",
       "  <thead>\n",
       "    <tr style=\"text-align: right;\">\n",
       "      <th></th>\n",
       "      <th>id</th>\n",
       "      <th>ad</th>\n",
       "      <th>education</th>\n",
       "      <th>ofjobs</th>\n",
       "      <th>yearsexp</th>\n",
       "      <th>honors</th>\n",
       "      <th>volunteer</th>\n",
       "      <th>military</th>\n",
       "      <th>empholes</th>\n",
       "      <th>occupspecific</th>\n",
       "      <th>...</th>\n",
       "      <th>compreq</th>\n",
       "      <th>orgreq</th>\n",
       "      <th>manuf</th>\n",
       "      <th>transcom</th>\n",
       "      <th>bankreal</th>\n",
       "      <th>trade</th>\n",
       "      <th>busservice</th>\n",
       "      <th>othservice</th>\n",
       "      <th>missind</th>\n",
       "      <th>ownership</th>\n",
       "    </tr>\n",
       "  </thead>\n",
       "  <tbody>\n",
       "    <tr>\n",
       "      <th>0</th>\n",
       "      <td>b</td>\n",
       "      <td>1</td>\n",
       "      <td>4</td>\n",
       "      <td>2</td>\n",
       "      <td>6</td>\n",
       "      <td>0</td>\n",
       "      <td>0</td>\n",
       "      <td>0</td>\n",
       "      <td>1</td>\n",
       "      <td>17</td>\n",
       "      <td>...</td>\n",
       "      <td>1.0</td>\n",
       "      <td>0.0</td>\n",
       "      <td>1.0</td>\n",
       "      <td>0.0</td>\n",
       "      <td>0.0</td>\n",
       "      <td>0.0</td>\n",
       "      <td>0.0</td>\n",
       "      <td>0.0</td>\n",
       "      <td>0.0</td>\n",
       "      <td></td>\n",
       "    </tr>\n",
       "    <tr>\n",
       "      <th>1</th>\n",
       "      <td>b</td>\n",
       "      <td>1</td>\n",
       "      <td>3</td>\n",
       "      <td>3</td>\n",
       "      <td>6</td>\n",
       "      <td>0</td>\n",
       "      <td>1</td>\n",
       "      <td>1</td>\n",
       "      <td>0</td>\n",
       "      <td>316</td>\n",
       "      <td>...</td>\n",
       "      <td>1.0</td>\n",
       "      <td>0.0</td>\n",
       "      <td>1.0</td>\n",
       "      <td>0.0</td>\n",
       "      <td>0.0</td>\n",
       "      <td>0.0</td>\n",
       "      <td>0.0</td>\n",
       "      <td>0.0</td>\n",
       "      <td>0.0</td>\n",
       "      <td></td>\n",
       "    </tr>\n",
       "    <tr>\n",
       "      <th>2</th>\n",
       "      <td>b</td>\n",
       "      <td>1</td>\n",
       "      <td>4</td>\n",
       "      <td>1</td>\n",
       "      <td>6</td>\n",
       "      <td>0</td>\n",
       "      <td>0</td>\n",
       "      <td>0</td>\n",
       "      <td>0</td>\n",
       "      <td>19</td>\n",
       "      <td>...</td>\n",
       "      <td>1.0</td>\n",
       "      <td>0.0</td>\n",
       "      <td>1.0</td>\n",
       "      <td>0.0</td>\n",
       "      <td>0.0</td>\n",
       "      <td>0.0</td>\n",
       "      <td>0.0</td>\n",
       "      <td>0.0</td>\n",
       "      <td>0.0</td>\n",
       "      <td></td>\n",
       "    </tr>\n",
       "    <tr>\n",
       "      <th>3</th>\n",
       "      <td>b</td>\n",
       "      <td>1</td>\n",
       "      <td>3</td>\n",
       "      <td>4</td>\n",
       "      <td>6</td>\n",
       "      <td>0</td>\n",
       "      <td>1</td>\n",
       "      <td>0</td>\n",
       "      <td>1</td>\n",
       "      <td>313</td>\n",
       "      <td>...</td>\n",
       "      <td>1.0</td>\n",
       "      <td>0.0</td>\n",
       "      <td>1.0</td>\n",
       "      <td>0.0</td>\n",
       "      <td>0.0</td>\n",
       "      <td>0.0</td>\n",
       "      <td>0.0</td>\n",
       "      <td>0.0</td>\n",
       "      <td>0.0</td>\n",
       "      <td></td>\n",
       "    </tr>\n",
       "    <tr>\n",
       "      <th>4</th>\n",
       "      <td>b</td>\n",
       "      <td>1</td>\n",
       "      <td>3</td>\n",
       "      <td>3</td>\n",
       "      <td>22</td>\n",
       "      <td>0</td>\n",
       "      <td>0</td>\n",
       "      <td>0</td>\n",
       "      <td>0</td>\n",
       "      <td>313</td>\n",
       "      <td>...</td>\n",
       "      <td>1.0</td>\n",
       "      <td>1.0</td>\n",
       "      <td>0.0</td>\n",
       "      <td>0.0</td>\n",
       "      <td>0.0</td>\n",
       "      <td>0.0</td>\n",
       "      <td>0.0</td>\n",
       "      <td>1.0</td>\n",
       "      <td>0.0</td>\n",
       "      <td>Nonprofit</td>\n",
       "    </tr>\n",
       "  </tbody>\n",
       "</table>\n",
       "<p>5 rows × 65 columns</p>\n",
       "</div>"
      ],
      "text/plain": [
       "  id ad  education  ofjobs  yearsexp  honors  volunteer  military  empholes  \\\n",
       "0  b  1          4       2         6       0          0         0         1   \n",
       "1  b  1          3       3         6       0          1         1         0   \n",
       "2  b  1          4       1         6       0          0         0         0   \n",
       "3  b  1          3       4         6       0          1         0         1   \n",
       "4  b  1          3       3        22       0          0         0         0   \n",
       "\n",
       "   occupspecific    ...      compreq  orgreq  manuf  transcom  bankreal trade  \\\n",
       "0             17    ...          1.0     0.0    1.0       0.0       0.0   0.0   \n",
       "1            316    ...          1.0     0.0    1.0       0.0       0.0   0.0   \n",
       "2             19    ...          1.0     0.0    1.0       0.0       0.0   0.0   \n",
       "3            313    ...          1.0     0.0    1.0       0.0       0.0   0.0   \n",
       "4            313    ...          1.0     1.0    0.0       0.0       0.0   0.0   \n",
       "\n",
       "  busservice othservice  missind  ownership  \n",
       "0        0.0        0.0      0.0             \n",
       "1        0.0        0.0      0.0             \n",
       "2        0.0        0.0      0.0             \n",
       "3        0.0        0.0      0.0             \n",
       "4        0.0        1.0      0.0  Nonprofit  \n",
       "\n",
       "[5 rows x 65 columns]"
      ]
     },
     "execution_count": 37,
     "metadata": {},
     "output_type": "execute_result"
    }
   ],
   "source": [
    "data.head()"
   ]
  },
  {
   "cell_type": "markdown",
   "metadata": {},
   "source": [
    "## 1. What test is appropriate for this problem? Does CLT apply?"
   ]
  },
  {
   "cell_type": "code",
   "execution_count": 38,
   "metadata": {},
   "outputs": [
    {
     "name": "stdout",
     "output_type": "stream",
     "text": [
      "normality test for white-sounding names: np = 235.0, n(1 - p) = 2200.0\n",
      "normality test for black-sounding names: np = 157.0, n(1 - p) = 2278.0\n"
     ]
    }
   ],
   "source": [
    "w = data.loc[data.race=='w', 'call'].astype('category') # extract call column for white-sounding names and convert to categorical data\n",
    "b = data.loc[data.race=='b', 'call'].astype('category') # extract call column for black-sounding names and convert to categorical data\n",
    "\n",
    "w_counts_table = w.value_counts().reset_index()\n",
    "b_counts_table = b.value_counts().reset_index()\n",
    "\n",
    "n_w = len(w) # calculate sample size for white-sounding names\n",
    "n_b = len(b) # calculate sample size for black-sounding names\n",
    "p_w = w_counts_table.iloc[1, 1]/n_w # calculate sample proportion for white return calls\n",
    "p_b = b_counts_table.iloc[1,1]/n_b  # calculate sample proportion for black return calls\n",
    "\n",
    "\n",
    "# check normality condition for white-sounding names\n",
    "print('normality test for white-sounding names: np = {}, n(1 - p) = {}'.format(n_w * p_w, n_w * (1 - p_w)))\n",
    "\n",
    "# check normality condition for black-sounding names\n",
    "print('normality test for black-sounding names: np = {}, n(1 - p) = {}'.format(n_b * p_b, n_b * (1 - p_b)))"
   ]
  },
  {
   "cell_type": "markdown",
   "metadata": {},
   "source": [
    "The bootstrap test of proportions applies here. For the frequentist approach, although technically, since the population standard deviation is unknown, the two-sample t-test is appropriate. However, with such large sample sizes, the results between the t-test and the z-test would not make much difference. So, I will choose the two-sample z-test for difference in proportions here. CLT applies since the following are true:\n",
    "\n",
    "* $n_{black} * \\hat{p}_{black} > 10$  \n",
    "* $n_{black} * (1 - \\hat{p}_{black}) > 10$\n",
    "* $n_{white} * \\hat{p}_{white} > 10$ \n",
    "* $n_{white} * (1 - \\hat{p}_{white}) > 10$"
   ]
  },
  {
   "cell_type": "markdown",
   "metadata": {},
   "source": [
    "## 2. What are the null and alternate hypotheses?"
   ]
  },
  {
   "cell_type": "markdown",
   "metadata": {},
   "source": [
    "* Null Hypothesis: Name assignment makes no difference. That is\n",
    "\n",
    "$$p_{black} = p_{white}$$\n",
    "\n",
    "* Alternative Hypothesis: Name assignment does make a difference. More specifically, black names will receive lower return calls. That is\n",
    "\n",
    "$$p_{black} < p_{white}$$"
   ]
  },
  {
   "cell_type": "markdown",
   "metadata": {},
   "source": [
    "## 3. Compute margin of error, confidence interval, and p-value. Try using both the bootstrapping and the frequentist statistical approaches."
   ]
  },
  {
   "cell_type": "markdown",
   "metadata": {},
   "source": [
    "First, I will examine the distributions of calls returned for white-sounding names and black-sounding names visually."
   ]
  },
  {
   "cell_type": "code",
   "execution_count": 39,
   "metadata": {
    "scrolled": false
   },
   "outputs": [
    {
     "data": {
      "image/png": "[encoded data removed]",
      "text/plain": [
       "<Figure size 432x288 with 2 Axes>"
      ]
     },
     "metadata": {},
     "output_type": "display_data"
    }
   ],
   "source": [
    "# create bar plots\n",
    "f, (ax1, ax2) = plt.subplots(1, 2)\n",
    "\n",
    "# first bar plot: white-sounding names\n",
    "sns.barplot(x = 'index', y = 'call', data = w_counts_table, ax = ax1)\n",
    "ax1.set_title('Distribution of Calls\\nReturned For\\nWhite-Sounding Names')\n",
    "ax1.set_xticklabels(['no call', 'call'])\n",
    "ax1.set_xlabel('')\n",
    "ax1.set_ylabel('Count')\n",
    "\n",
    "# second bar plot: black-sounding names\n",
    "sns.barplot(x = 'index', y = 'call', data = w_counts_table, ax = ax2)\n",
    "ax2.set_title('Distribution of Calls\\nReturned For\\nBlack-Sounding Names')\n",
    "ax2.set_xticklabels(['no call', 'call'])\n",
    "ax2.set_xlabel('')\n",
    "ax2.set_ylabel('Count')\n",
    "\n",
    "plt.tight_layout()\n",
    "plt.show()"
   ]
  },
  {
   "cell_type": "markdown",
   "metadata": {},
   "source": [
    "Visually, it seems as though there's no significance difference between white-sounding names and black-sounding names."
   ]
  },
  {
   "cell_type": "markdown",
   "metadata": {},
   "source": [
    "**Frequentist Approach - Two Sample Z Test, Margin of Error, and Confidence Interval**"
   ]
  },
  {
   "cell_type": "markdown",
   "metadata": {},
   "source": [
    "Procedure:\n",
    "\n",
    "1. Assume null hypothesis is true. Since $p_{w} = p_{b}$ under the null hypothesis, it means that $p_{w} - p_{b} = 0$.\n",
    "2. Calculate the test statistic as follows:\n",
    "\n",
    "$$Z = \\frac{\\hat{p}_w - \\hat{p}_b - 0}{\\sqrt{\\hat{p}(1 - \\hat{p})(\\frac{1}{n_w} + \\frac{1}{n_b})}}$$\n",
    "\n",
    "where\n",
    "\n",
    "$$\\hat{p} = \\frac{no.\\:of\\:calls\\:returned_w + no.\\:of\\:calls\\:returned_b}{n_w + n_b}$$\n",
    "\n",
    "3. Calculate the p-value based on the test statistic.\n",
    "4. Determine whether to reject the null hypothesis or not at 0.05 significance level.\n",
    "5. Since the alternative hypothesis is $p_w > p_b$, calculate the margin of error and **one-sided** 95% confidence interval. Margin of error is calculated as follows:\n",
    "\n",
    "$$margin\\:of\\:error = z_{\\alpha}\\sqrt{\\frac{\\hat{p}_w(1 - \\hat{p}_w)}{n_w} + \\frac{\\hat{p}_b(1 - \\hat{p}_b)}{n_b}}$$\n",
    "\n",
    "Confidence interval is calculated as follows:\n",
    "\n",
    "$$\\left(\\:(\\hat{p}_w - \\hat{p}_b) - margin\\:of\\:error\\:,\\:\\infty\\right)$$"
   ]
  },
  {
   "cell_type": "code",
   "execution_count": 40,
   "metadata": {},
   "outputs": [
    {
     "name": "stdout",
     "output_type": "stream",
     "text": [
      "test statistic: 4.11, p-value: 1.9919441665380294e-05\n"
     ]
    }
   ],
   "source": [
    "# observed difference\n",
    "empirical_diff_proportions = p_w - p_b\n",
    "\n",
    "# overall proportion of returned calls\n",
    "p_overall = np.mean(data.call)\n",
    "\n",
    "# calculate the estimated standard error\n",
    "se = np.sqrt(p_overall * (1 - p_overall) * (1/n_w + 1/n_b))\n",
    "\n",
    "# test statistic\n",
    "test_statistic = empirical_diff_proportions / se\n",
    "\n",
    "# p-value\n",
    "p_value = norm.sf(test_statistic)\n",
    "\n",
    "print('test statistic: {}, p-value: {}'.format(round(test_statistic, 2), p_value))"
   ]
  },
  {
   "cell_type": "markdown",
   "metadata": {},
   "source": [
    "Based on the p-value, I will reject the null hypothesis at 0.05 significance level. The p-value is very small. The difference between the white-sounding names and the black-sounding names seem to be significant."
   ]
  },
  {
   "cell_type": "markdown",
   "metadata": {},
   "source": [
    "Let's plot the distribution of the difference of proportions under the null hypothesis and see where the observed difference lies."
   ]
  },
  {
   "cell_type": "code",
   "execution_count": 41,
   "metadata": {},
   "outputs": [
    {
     "name": "stderr",
     "output_type": "stream",
     "text": [
      "/root/anaconda3/lib/python3.6/site-packages/matplotlib/axes/_axes.py:6462: UserWarning: The 'normed' kwarg is deprecated, and has been replaced by the 'density' kwarg.\n",
      "  warnings.warn(\"The 'normed' kwarg is deprecated, and has been \"\n"
     ]
    },
    {
     "data": {
      "image/png": "[encoded data removed]",
      "text/plain": [
       "<Figure size 432x288 with 1 Axes>"
      ]
     },
     "metadata": {},
     "output_type": "display_data"
    }
   ],
   "source": [
    "# Distribution under null hypothesis\n",
    "null_dist = np.random.normal(loc = 0, scale = 1, size = 1000000)\n",
    "_ = sns.distplot(null_dist, norm_hist = True)\n",
    "_ = plt.axvline(x=test_statistic, color = 'red')\n",
    "_ = plt.title('Two-Sample Z Test\\nUnder Null Hypothesis')\n",
    "_ = plt.xlabel('z')\n",
    "_ = plt.ylabel('Density')\n",
    "_ = plt.annotate('Critical\\nValue\\nat {}'.format(round(test_statistic, 3)), \n",
    "                 xy = (test_statistic, 0.2), \n",
    "                 xytext = (test_statistic * 0.4, 0.204), \n",
    "                 arrowprops = dict(facecolor = 'black'))\n",
    "plt.show()"
   ]
  },
  {
   "cell_type": "markdown",
   "metadata": {},
   "source": [
    "Notice that the area to the right of the observed difference is very small. This is why the p-value is very small."
   ]
  },
  {
   "cell_type": "code",
   "execution_count": 42,
   "metadata": {},
   "outputs": [
    {
     "name": "stdout",
     "output_type": "stream",
     "text": [
      "margin of error: 0.01\n"
     ]
    },
    {
     "data": {
      "text/latex": [
       "$$95\\%\\:Confidence\\:Interval:\\:(0.0192, \\infty)$$"
      ],
      "text/plain": [
       "<IPython.core.display.Math object>"
      ]
     },
     "metadata": {},
     "output_type": "display_data"
    }
   ],
   "source": [
    "# 95% CI using z-distribution\n",
    "z_statistic = norm.ppf(q = 0.95)\n",
    "z_statistic\n",
    "# calculate margin of error\n",
    "margin_of_error = z_statistic * np.sqrt(p_w * (1 - p_w) / n_w + p_b * (1 - p_b) / n_b)\n",
    "margin_of_error\n",
    "# 95% CI\n",
    "conf_95 = empirical_diff_proportions - margin_of_error\n",
    "print('margin of error: {}'.format(round(margin_of_error, 2)))\n",
    "display(Math(r'95\\%\\:Confidence\\:Interval:\\:({}, \\infty)'.format(round(conf_95, 4))))"
   ]
  },
  {
   "cell_type": "markdown",
   "metadata": {},
   "source": [
    "Notice that the null hypothesis difference of zero is not included in the 95% confidence interval. The confidence interval states that the true difference lies somewhere between 0.0192 and $\\infty$ with 95% confidence."
   ]
  },
  {
   "cell_type": "markdown",
   "metadata": {},
   "source": [
    "**Bootstrap Approach - Test of Proportions, Margin of Error, and Confidence Interval**"
   ]
  },
  {
   "cell_type": "markdown",
   "metadata": {},
   "source": [
    "* Null Hypothesis: The proportion of callbacks between the white-sounding names and the black-sounding names are the same.\n",
    "\n",
    "$$p_{black} = p_{white}$$\n",
    "\n",
    "* Alternative Hypothesis: The proportion of callbacks for the white-sounding names are greater than the proportion of callbacks for the black-sounding names.\n",
    "\n",
    "$$p_{black} < p_{white}$$"
   ]
  },
  {
   "cell_type": "markdown",
   "metadata": {},
   "source": [
    "Procedure:\n",
    "\n",
    "1. Combine the two samples and calculate the overall proportion of callbacks.\n",
    "2. Recenter the sample proportions for the two samples.\n",
    "3. Draw $B$ samples with replacement from the two different recentered samples and calculate the proportion. Here, I use $B = 10000$.\n",
    "4. Calculate the differences of these $B$ sample proportions between white-sounding names and black-sounding names. This will be the bootstrap sampling distribution of the sample difference in proportions.\n",
    "5. Calculate the p-value as getting the difference in proportions or greater values than the one I observed in the sample. This is a one-sided test.\n",
    "6. Compare p-value to significance level $\\alpha$. In this case, I'll use $\\alpha = 0.05$.\n",
    "7. Calculate the margin of error and a 95% confidence interval. To do this, I will create a bootstrap sampling distribution of the difference in proportions and calculate the 5th percentile of the distribution. Hence, the **one-sided** confidence interval will be $(5th\\:percentile, \\infty)$. Margin of error will be $(observed\\:difference - 5th\\:percentile)$."
   ]
  },
  {
   "cell_type": "code",
   "execution_count": 43,
   "metadata": {},
   "outputs": [
    {
     "name": "stdout",
     "output_type": "stream",
     "text": [
      "The history saving thread hit an unexpected error (OperationalError('disk I/O error',)).History will not be written to the database.\n",
      "p-value = 0.0\n"
     ]
    }
   ],
   "source": [
    "# define functions to use for bootstrap method\n",
    "def bootstrap_replicate_1d(data, func):\n",
    "    \"\"\"Generate bootstrap replicate of 1d data\"\"\"\n",
    "    return func(np.random.choice(data, size=len(data)))\n",
    "def draw_bs_reps(data, func, size=1):\n",
    "    \"\"\"Draw bootstrap replicates.\"\"\"\n",
    "    return np.array([bootstrap_replicate_1d(data, func) for _ in range(size)])\n",
    "\n",
    "# recenter the datapoints to have the same mean\n",
    "w_call_shifted = pd.to_numeric(w) - p_w + p_overall\n",
    "b_call_shifted = pd.to_numeric(b) - p_b + p_overall\n",
    "\n",
    "# compute 10,000 bootstrap replicates from shifted arrays\n",
    "bs_replicates_w = draw_bs_reps(w_call_shifted, np.mean, 10000)\n",
    "bs_replicates_b = draw_bs_reps(b_call_shifted, np.mean, 10000)\n",
    "\n",
    "# get replicates of difference of proportions: bs_replicates\n",
    "bs_replicates = bs_replicates_w - bs_replicates_b\n",
    "\n",
    "# gompute and print p-value: p\n",
    "p = np.sum(bs_replicates >= empirical_diff_proportions) / 10000\n",
    "print('p-value =', p)"
   ]
  },
  {
   "cell_type": "markdown",
   "metadata": {},
   "source": [
    "Notice that the p-value is very small. At 0.05 significance level, I will reject the null hypothesis that the two proportions are the same. It seems as though the callback rates for white-sounding names are higher."
   ]
  },
  {
   "cell_type": "code",
   "execution_count": 44,
   "metadata": {},
   "outputs": [
    {
     "name": "stderr",
     "output_type": "stream",
     "text": [
      "/root/anaconda3/lib/python3.6/site-packages/matplotlib/axes/_axes.py:6462: UserWarning: The 'normed' kwarg is deprecated, and has been replaced by the 'density' kwarg.\n",
      "  warnings.warn(\"The 'normed' kwarg is deprecated, and has been \"\n"
     ]
    },
    {
     "data": {
      "image/png": "[encoded data removed]",
      "text/plain": [
       "<Figure size 432x288 with 1 Axes>"
      ]
     },
     "metadata": {},
     "output_type": "display_data"
    }
   ],
   "source": [
    "# bootstrap sampling distribution under null hypothesis\n",
    "_ = sns.distplot(bs_replicates, norm_hist = True)\n",
    "_ = plt.axvline(x=empirical_diff_proportions, color = 'red')\n",
    "_ = plt.title('Bootstrap Sampling Distribution\\nfor Difference in Proportions')\n",
    "_ = plt.xlabel('Difference in Proportions')\n",
    "_ = plt.ylabel('PDF')\n",
    "_ = plt.annotate('Observed\\nDifference\\nat {}'.format(round(empirical_diff_proportions, 3)), \n",
    "                 xy = (empirical_diff_proportions, 25), \n",
    "                 xytext = (empirical_diff_proportions - 0.02, 25.5), \n",
    "                 arrowprops = dict(facecolor = 'black'))\n",
    "plt.show()"
   ]
  },
  {
   "cell_type": "markdown",
   "metadata": {},
   "source": [
    "From the plot, I can see that the observed difference is very far to the right of 0, the difference in proportions under the null hypothesis."
   ]
  },
  {
   "cell_type": "code",
   "execution_count": 45,
   "metadata": {},
   "outputs": [
    {
     "name": "stdout",
     "output_type": "stream",
     "text": [
      "margin of error: 0.01\n"
     ]
    },
    {
     "data": {
      "text/latex": [
       "$$95\\%\\:Confidence\\:Interval:\\:(0.0193, \\infty)$$"
      ],
      "text/plain": [
       "<IPython.core.display.Math object>"
      ]
     },
     "metadata": {},
     "output_type": "display_data"
    }
   ],
   "source": [
    "# construct bootstrap sampling distribution to construct 95% confidence interval\n",
    "# draw bootstrap samples and calculate proportions\n",
    "bs_replicates_w = draw_bs_reps(pd.to_numeric(w), np.mean, 10000)\n",
    "bs_replicates_b = draw_bs_reps(pd.to_numeric(b), np.mean, 10000)\n",
    "\n",
    "# calculate difference in proportions for all the bootstrap replicates\n",
    "bs_replicates_diff_proportions = bs_replicates_w - bs_replicates_b\n",
    "\n",
    "# calculate the 5th percentile of the bootstrap sampling distribution\n",
    "percentile_5th = np.percentile(bs_replicates_diff_proportions, q = 5)\n",
    "\n",
    "# margin of error and one-sided 95% confidence interval\n",
    "print('margin of error: {}'.format(round(empirical_diff_proportions - percentile_5th, 2)))\n",
    "display(Math(r'95\\%\\:Confidence\\:Interval:\\:({}, \\infty)'.format(round(percentile_5th, 4))))"
   ]
  },
  {
   "cell_type": "markdown",
   "metadata": {},
   "source": [
    "Notice that the null hypothesis difference of zero is not included in the 95% confidence interval. The confidence interval states that the true difference lies somewhere between 0.0193 and $\\infty$ with 95% confidence."
   ]
  },
  {
   "cell_type": "code",
   "execution_count": 46,
   "metadata": {},
   "outputs": [
    {
     "name": "stderr",
     "output_type": "stream",
     "text": [
      "/root/anaconda3/lib/python3.6/site-packages/matplotlib/axes/_axes.py:6462: UserWarning: The 'normed' kwarg is deprecated, and has been replaced by the 'density' kwarg.\n",
      "  warnings.warn(\"The 'normed' kwarg is deprecated, and has been \"\n"
     ]
    },
    {
     "data": {
      "image/png": "[encoded data removed]",
      "text/plain": [
       "<Figure size 432x288 with 1 Axes>"
      ]
     },
     "metadata": {},
     "output_type": "display_data"
    }
   ],
   "source": [
    "# bootstrap sampling distribution confidence interval\n",
    "_ = sns.distplot(bs_replicates_diff_proportions, norm_hist = True)\n",
    "_ = plt.axvline(x=percentile_5th, color = 'red')\n",
    "_ = plt.title('Bootstrap Sampling Distribution\\nfor Difference in Proportions')\n",
    "_ = plt.xlabel('Difference in Proportions')\n",
    "_ = plt.ylabel('PDF')\n",
    "_ = plt.annotate('5th percentile\\nat {}'.format(round(percentile_5th, 3)), \n",
    "                 xy = (percentile_5th, 25), \n",
    "                 xytext = (percentile_5th - 0.02, 25.5), \n",
    "                 arrowprops = dict(facecolor = 'black'))\n",
    "plt.show()"
   ]
  },
  {
   "cell_type": "markdown",
   "metadata": {},
   "source": [
    "Note that the confidence interval includes the region to the right of 0.019. Zero is not included in this region."
   ]
  },
  {
   "cell_type": "markdown",
   "metadata": {
    "collapsed": true
   },
   "source": [
    "## 4. Write a story describing the statistical significance in the context or the original problem."
   ]
  },
  {
   "cell_type": "markdown",
   "metadata": {},
   "source": [
    "Based on the two-sample z-test of proportions, bootstrap test of proportions, confidence interval based on the normal distribution, and confidence interval based on the bootstrap sampling distribution of the difference in proportions, it seems as though the white-sounding names receive a higher callback rate. The p-values are essentially zero for the tests, which indicate that this is overwhelming evidence to reject the null hypothesis. The confidence intervals constructed do not contain zeros, which indicate that the true difference in proportions probably is not zero."
   ]
  },
  {
   "cell_type": "markdown",
   "metadata": {
    "collapsed": true
   },
   "source": [
    "## 5. Does your analysis mean that race/name is the most important factor in callback success? Why or why not? If not, how would you amend your analysis?"
   ]
  },
  {
   "cell_type": "markdown",
   "metadata": {},
   "source": [
    "Although the statistical analysis shows that callback rate is affected by the names, it is not stating that race/name is the most important factor in callback success. The reason is because there are other factors that need to be considered, such as education level and experience level. One way to examine if race/name is the most important factor in callback success is to run the same experiment but instead of randomly assigning the names, randomly assign a different factor. Here are some of the factors we can randomly assign:\n",
    "\n",
    "1. Education Level - randomly assign the exact same resumes different education levels. Some will be assigned only high school degree, others a Bachelor's Degree, others a Master's Degree, others a Ph.D. degree.\n",
    "2. Educational institutions - randomly assign the exact same resumes different educational institutions. Some will be assigned an Ivy Leage school. Others will be assigned UC school systems. Others will be assigned state universities, etc.\n",
    "3. Experience level - randomly assign the exact same resumes differnet levels of experience. Some resumes will be assigned 0-2 years of relevent experience. Some will be assigned 2-5 years of relevant experience. Others will be assigned 5 - 10 years of relevant experience, etc.\n",
    "\n",
    "After running all these experients, see which factor makes the most difference. The factor that makes the greatest difference will be the most important factor in callback success."
   ]
  }
 ],
 "metadata": {
  "kernelspec": {
   "display_name": "Python 3",
   "language": "python",
   "name": "python3"
  },
  "language_info": {
   "codemirror_mode": {
    "name": "ipython",
    "version": 3
   },
   "file_extension": ".py",
   "mimetype": "text/x-python",
   "name": "python",
   "nbconvert_exporter": "python",
   "pygments_lexer": "ipython3",
   "version": "3.6.5"
  }
 },
 "nbformat": 4,
 "nbformat_minor": 1
}
