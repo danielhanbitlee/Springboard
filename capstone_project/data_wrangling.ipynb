{
 "cells": [
  {
   "cell_type": "markdown",
   "metadata": {},
   "source": [
    "# Capstone Mini-Project: Data Wrangling"
   ]
  },
  {
   "cell_type": "markdown",
   "metadata": {},
   "source": [
    "### Daniel Lee\n",
    "### June 27, 2018"
   ]
  },
  {
   "cell_type": "markdown",
   "metadata": {},
   "source": [
    "For the data wrangling portion, I divided my work into seven steps. For the first six steps, I am reading in and cleaning six different datasets from 2016 county level data found from the web. In the final step, I combine the six datasets together:\n",
    "\n",
    "1. prescription_rates: opioid prescription rates\n",
    "2. education\n",
    "3. population\n",
    "4. poverty\n",
    "5. unemployment\n",
    "6. death rates from drug overdose\n",
    "7. merge data together on county code (FIPS code)"
   ]
  },
  {
   "cell_type": "code",
   "execution_count": 282,
   "metadata": {},
   "outputs": [],
   "source": [
    "import pandas as pd\n",
    "import numpy as np\n",
    "import requests\n",
    "from bs4 import BeautifulSoup"
   ]
  },
  {
   "cell_type": "markdown",
   "metadata": {},
   "source": [
    "## 1. Opioid Prescription Rates"
   ]
  },
  {
   "cell_type": "code",
   "execution_count": 283,
   "metadata": {},
   "outputs": [],
   "source": [
    "# scrape prescription data from internet using BeautifulSoup\n",
    "url = 'https://www.cdc.gov/drugoverdose/maps/rxcounty2016.html'\n",
    "r = requests.get(url)\n",
    "r.status_code\n",
    "soup = BeautifulSoup(r.content, \"html.parser\")\n",
    "stat_table = soup.find_all('table', class_ = 'table table-striped')\n",
    "stat_table = stat_table[0]\n",
    "\n",
    "# write the table into a txt with context manager\n",
    "with open ('prescribing_stats.txt', 'w') as r:\n",
    "    for row in stat_table.find_all('tr'): # find all rows in the table\n",
    "        for cell in row.find_all('td'):\n",
    "            r.write(cell.text.ljust(30))\n",
    "        r.write('\\n')"
   ]
  },
  {
   "cell_type": "code",
   "execution_count": 284,
   "metadata": {},
   "outputs": [],
   "source": [
    "# read in the prescription data into a pandas df\n",
    "prescription_rates = pd.read_csv('prescribing_stats.txt', delimiter = r\"[ \\t]{2,}\", header = None, engine = 'python', na_values = '–')\n",
    "prescription_rates.columns = ['county', 'state', 'county_code', 'prescribe_rate']"
   ]
  },
  {
   "cell_type": "code",
   "execution_count": 285,
   "metadata": {},
   "outputs": [
    {
     "data": {
      "text/html": [
       "<div>\n",
       "<style scoped>\n",
       "    .dataframe tbody tr th:only-of-type {\n",
       "        vertical-align: middle;\n",
       "    }\n",
       "\n",
       "    .dataframe tbody tr th {\n",
       "        vertical-align: top;\n",
       "    }\n",
       "\n",
       "    .dataframe thead th {\n",
       "        text-align: right;\n",
       "    }\n",
       "</style>\n",
       "<table border=\"1\" class=\"dataframe\">\n",
       "  <thead>\n",
       "    <tr style=\"text-align: right;\">\n",
       "      <th></th>\n",
       "      <th>county</th>\n",
       "      <th>state</th>\n",
       "      <th>county_code</th>\n",
       "      <th>prescribe_rate</th>\n",
       "    </tr>\n",
       "  </thead>\n",
       "  <tbody>\n",
       "    <tr>\n",
       "      <th>0</th>\n",
       "      <td>Aleutians East, AK</td>\n",
       "      <td>AK</td>\n",
       "      <td>2013</td>\n",
       "      <td>NaN</td>\n",
       "    </tr>\n",
       "    <tr>\n",
       "      <th>1</th>\n",
       "      <td>Aleutians West, AK</td>\n",
       "      <td>AK</td>\n",
       "      <td>2016</td>\n",
       "      <td>NaN</td>\n",
       "    </tr>\n",
       "    <tr>\n",
       "      <th>2</th>\n",
       "      <td>Anchorage, AK</td>\n",
       "      <td>AK</td>\n",
       "      <td>2020</td>\n",
       "      <td>66.3</td>\n",
       "    </tr>\n",
       "    <tr>\n",
       "      <th>3</th>\n",
       "      <td>Bethel, AK</td>\n",
       "      <td>AK</td>\n",
       "      <td>2050</td>\n",
       "      <td>NaN</td>\n",
       "    </tr>\n",
       "    <tr>\n",
       "      <th>4</th>\n",
       "      <td>Bristol Bay, AK</td>\n",
       "      <td>AK</td>\n",
       "      <td>2060</td>\n",
       "      <td>NaN</td>\n",
       "    </tr>\n",
       "  </tbody>\n",
       "</table>\n",
       "</div>"
      ],
      "text/plain": [
       "               county state  county_code  prescribe_rate\n",
       "0  Aleutians East, AK    AK         2013             NaN\n",
       "1  Aleutians West, AK    AK         2016             NaN\n",
       "2       Anchorage, AK    AK         2020            66.3\n",
       "3          Bethel, AK    AK         2050             NaN\n",
       "4     Bristol Bay, AK    AK         2060             NaN"
      ]
     },
     "execution_count": 285,
     "metadata": {},
     "output_type": "execute_result"
    }
   ],
   "source": [
    "prescription_rates.head()"
   ]
  },
  {
   "cell_type": "code",
   "execution_count": 286,
   "metadata": {},
   "outputs": [
    {
     "name": "stdout",
     "output_type": "stream",
     "text": [
      "<class 'pandas.core.frame.DataFrame'>\n",
      "RangeIndex: 3143 entries, 0 to 3142\n",
      "Data columns (total 4 columns):\n",
      "county            3143 non-null object\n",
      "state             3143 non-null object\n",
      "county_code       3143 non-null int64\n",
      "prescribe_rate    2962 non-null float64\n",
      "dtypes: float64(1), int64(1), object(2)\n",
      "memory usage: 98.3+ KB\n"
     ]
    }
   ],
   "source": [
    "prescription_rates.info()"
   ]
  },
  {
   "cell_type": "code",
   "execution_count": 287,
   "metadata": {},
   "outputs": [],
   "source": [
    "# remove null prescription_rates values from prescription_rates (2962/3143 non-null values)\n",
    "prescription_rates_no_na = prescription_rates.loc[prescription_rates.prescribe_rate.notnull(), :]"
   ]
  },
  {
   "cell_type": "code",
   "execution_count": 288,
   "metadata": {
    "scrolled": true
   },
   "outputs": [
    {
     "name": "stdout",
     "output_type": "stream",
     "text": [
      "<class 'pandas.core.frame.DataFrame'>\n",
      "Int64Index: 2962 entries, 2 to 3142\n",
      "Data columns (total 4 columns):\n",
      "county            2962 non-null object\n",
      "state             2962 non-null object\n",
      "county_code       2962 non-null int64\n",
      "prescribe_rate    2962 non-null float64\n",
      "dtypes: float64(1), int64(1), object(2)\n",
      "memory usage: 115.7+ KB\n"
     ]
    }
   ],
   "source": [
    "prescription_rates_no_na.info()"
   ]
  },
  {
   "cell_type": "markdown",
   "metadata": {},
   "source": [
    "## 2. Education"
   ]
  },
  {
   "cell_type": "code",
   "execution_count": 289,
   "metadata": {},
   "outputs": [
    {
     "name": "stdout",
     "output_type": "stream",
     "text": [
      "  % Total    % Received % Xferd  Average Speed   Time    Time     Time  Current\n",
      "                                 Dload  Upload   Total   Spent    Left  Speed\n",
      "100 1529k  100 1529k    0     0   526k      0  0:00:02  0:00:02 --:--:--  526k\n"
     ]
    }
   ],
   "source": [
    "# download data using bash command curl\n",
    "!curl -O -J https://www.ers.usda.gov/webdocs/DataFiles/48747/Education.xls?v=43125"
   ]
  },
  {
   "cell_type": "code",
   "execution_count": 290,
   "metadata": {
    "scrolled": true
   },
   "outputs": [],
   "source": [
    "# change name of downloaded file using bash command mv\n",
    "!mv Education.xls?v=43125 education.xls"
   ]
  },
  {
   "cell_type": "code",
   "execution_count": 291,
   "metadata": {
    "scrolled": true
   },
   "outputs": [
    {
     "data": {
      "text/plain": [
       "['Education 1970 to 2016']"
      ]
     },
     "execution_count": 291,
     "metadata": {},
     "output_type": "execute_result"
    }
   ],
   "source": [
    "# load education data from Excel file\n",
    "xl = pd.ExcelFile('education.xls')\n",
    "xl.sheet_names"
   ]
  },
  {
   "cell_type": "code",
   "execution_count": 292,
   "metadata": {},
   "outputs": [],
   "source": [
    "# load a sheet into a pandas df by index\n",
    "education = xl.parse(0, skiprows = 4)\n",
    "\n",
    "# select columns that only contain relevant data for 2016\n",
    "education = education[list(education.columns[:3]) + [column for column in education.columns if '2016' in column]]"
   ]
  },
  {
   "cell_type": "code",
   "execution_count": 293,
   "metadata": {},
   "outputs": [
    {
     "name": "stdout",
     "output_type": "stream",
     "text": [
      "<class 'pandas.core.frame.DataFrame'>\n",
      "RangeIndex: 3283 entries, 0 to 3282\n",
      "Data columns (total 11 columns):\n",
      "FIPS Code                                                                     3283 non-null int64\n",
      "State                                                                         3283 non-null object\n",
      "Area name                                                                     3283 non-null object\n",
      "Less than a high school diploma, 2012-2016                                    3273 non-null float64\n",
      "High school diploma only, 2012-2016                                           3273 non-null float64\n",
      "Some college or associate's degree, 2012-2016                                 3273 non-null float64\n",
      "Bachelor's degree or higher, 2012-2016                                        3273 non-null float64\n",
      "Percent of adults with less than a high school diploma, 2012-2016             3273 non-null float64\n",
      "Percent of adults with a high school diploma only, 2012-2016                  3273 non-null float64\n",
      "Percent of adults completing some college or associate's degree, 2012-2016    3273 non-null float64\n",
      "Percent of adults with a bachelor's degree or higher, 2012-2016               3273 non-null float64\n",
      "dtypes: float64(8), int64(1), object(2)\n",
      "memory usage: 282.2+ KB\n"
     ]
    }
   ],
   "source": [
    "education.info()"
   ]
  },
  {
   "cell_type": "code",
   "execution_count": 294,
   "metadata": {},
   "outputs": [],
   "source": [
    "# drop all na values (3273/3283 non null values)\n",
    "education_no_na = education.dropna(how = 'any')"
   ]
  },
  {
   "cell_type": "code",
   "execution_count": 295,
   "metadata": {},
   "outputs": [
    {
     "name": "stdout",
     "output_type": "stream",
     "text": [
      "<class 'pandas.core.frame.DataFrame'>\n",
      "Int64Index: 3273 entries, 0 to 3282\n",
      "Data columns (total 11 columns):\n",
      "FIPS Code                                                                     3273 non-null int64\n",
      "State                                                                         3273 non-null object\n",
      "Area name                                                                     3273 non-null object\n",
      "Less than a high school diploma, 2012-2016                                    3273 non-null float64\n",
      "High school diploma only, 2012-2016                                           3273 non-null float64\n",
      "Some college or associate's degree, 2012-2016                                 3273 non-null float64\n",
      "Bachelor's degree or higher, 2012-2016                                        3273 non-null float64\n",
      "Percent of adults with less than a high school diploma, 2012-2016             3273 non-null float64\n",
      "Percent of adults with a high school diploma only, 2012-2016                  3273 non-null float64\n",
      "Percent of adults completing some college or associate's degree, 2012-2016    3273 non-null float64\n",
      "Percent of adults with a bachelor's degree or higher, 2012-2016               3273 non-null float64\n",
      "dtypes: float64(8), int64(1), object(2)\n",
      "memory usage: 306.8+ KB\n"
     ]
    }
   ],
   "source": [
    "education_no_na.info()"
   ]
  },
  {
   "cell_type": "markdown",
   "metadata": {},
   "source": [
    "## 3. Population"
   ]
  },
  {
   "cell_type": "code",
   "execution_count": 296,
   "metadata": {},
   "outputs": [
    {
     "name": "stdout",
     "output_type": "stream",
     "text": [
      "  % Total    % Received % Xferd  Average Speed   Time    Time     Time  Current\n",
      "                                 Dload  Upload   Total   Spent    Left  Speed\n",
      "100 4382k  100 4382k    0     0  1586k      0  0:00:02  0:00:02 --:--:-- 1586k\n"
     ]
    }
   ],
   "source": [
    "# download data using bash command curl\n",
    "!curl -O -J https://www.ers.usda.gov/webdocs/DataFiles/48747/PopulationEstimates.xls?v=43209"
   ]
  },
  {
   "cell_type": "code",
   "execution_count": 297,
   "metadata": {},
   "outputs": [],
   "source": [
    "# rename the downloaded file to education.xls using bash command mv\n",
    "!mv PopulationEstimates.xls?v=43209 population.xls"
   ]
  },
  {
   "cell_type": "code",
   "execution_count": 298,
   "metadata": {},
   "outputs": [
    {
     "data": {
      "text/plain": [
       "['Population Estimates 2010-17', 'Variable Descriptions']"
      ]
     },
     "execution_count": 298,
     "metadata": {},
     "output_type": "execute_result"
    }
   ],
   "source": [
    "# load population information from Excel file\n",
    "xl = pd.ExcelFile('population.xls')\n",
    "xl.sheet_names"
   ]
  },
  {
   "cell_type": "code",
   "execution_count": 299,
   "metadata": {},
   "outputs": [],
   "source": [
    "# load a sheet into a pandas df by index \n",
    "population = xl.parse(0, skiprows = 2)\n",
    "\n",
    "# select columns that only contain relevant data for 2016\n",
    "population = population[list(population.columns[:3]) + [column for column in population.columns if '2016' in column]]"
   ]
  },
  {
   "cell_type": "code",
   "execution_count": 300,
   "metadata": {
    "scrolled": true
   },
   "outputs": [
    {
     "name": "stdout",
     "output_type": "stream",
     "text": [
      "<class 'pandas.core.frame.DataFrame'>\n",
      "RangeIndex: 3273 entries, 0 to 3272\n",
      "Data columns (total 19 columns):\n",
      "FIPS                        3273 non-null int64\n",
      "State                       3273 non-null object\n",
      "Area_Name                   3273 non-null object\n",
      "POP_ESTIMATE_2016           3273 non-null int64\n",
      "N_POP_CHG_2016              3194 non-null float64\n",
      "Births_2016                 3194 non-null float64\n",
      "Deaths_2016                 3194 non-null float64\n",
      "NATURAL_INC_2016            3194 non-null float64\n",
      "INTERNATIONAL_MIG_2016      3194 non-null float64\n",
      "DOMESTIC_MIG_2016           3194 non-null float64\n",
      "NET_MIG_2016                3194 non-null float64\n",
      "RESIDUAL_2016               3194 non-null float64\n",
      "GQ_ESTIMATES_2016           3193 non-null float64\n",
      "R_birth_2016                3194 non-null float64\n",
      "R_death_2016                3194 non-null float64\n",
      "R_NATURAL_INC_2016          3194 non-null float64\n",
      "R_INTERNATIONAL_MIG_2016    3194 non-null float64\n",
      "R_DOMESTIC_MIG_2016         3194 non-null float64\n",
      "R_NET_MIG_2016              3194 non-null float64\n",
      "dtypes: float64(15), int64(2), object(2)\n",
      "memory usage: 485.9+ KB\n"
     ]
    }
   ],
   "source": [
    "population.info()"
   ]
  },
  {
   "cell_type": "code",
   "execution_count": 301,
   "metadata": {},
   "outputs": [],
   "source": [
    "# drop all na values (3273/3283 non null values)\n",
    "pop_2016_no_na = population.dropna(how = 'any')"
   ]
  },
  {
   "cell_type": "code",
   "execution_count": 302,
   "metadata": {},
   "outputs": [
    {
     "data": {
      "text/html": [
       "<div>\n",
       "<style scoped>\n",
       "    .dataframe tbody tr th:only-of-type {\n",
       "        vertical-align: middle;\n",
       "    }\n",
       "\n",
       "    .dataframe tbody tr th {\n",
       "        vertical-align: top;\n",
       "    }\n",
       "\n",
       "    .dataframe thead th {\n",
       "        text-align: right;\n",
       "    }\n",
       "</style>\n",
       "<table border=\"1\" class=\"dataframe\">\n",
       "  <thead>\n",
       "    <tr style=\"text-align: right;\">\n",
       "      <th></th>\n",
       "      <th>FIPS</th>\n",
       "      <th>State</th>\n",
       "      <th>Area_Name</th>\n",
       "      <th>POP_ESTIMATE_2016</th>\n",
       "      <th>N_POP_CHG_2016</th>\n",
       "      <th>Births_2016</th>\n",
       "      <th>Deaths_2016</th>\n",
       "      <th>NATURAL_INC_2016</th>\n",
       "      <th>INTERNATIONAL_MIG_2016</th>\n",
       "      <th>DOMESTIC_MIG_2016</th>\n",
       "      <th>NET_MIG_2016</th>\n",
       "      <th>RESIDUAL_2016</th>\n",
       "      <th>GQ_ESTIMATES_2016</th>\n",
       "      <th>R_birth_2016</th>\n",
       "      <th>R_death_2016</th>\n",
       "      <th>R_NATURAL_INC_2016</th>\n",
       "      <th>R_INTERNATIONAL_MIG_2016</th>\n",
       "      <th>R_DOMESTIC_MIG_2016</th>\n",
       "      <th>R_NET_MIG_2016</th>\n",
       "    </tr>\n",
       "  </thead>\n",
       "  <tbody>\n",
       "    <tr>\n",
       "      <th>1</th>\n",
       "      <td>1000</td>\n",
       "      <td>AL</td>\n",
       "      <td>Alabama</td>\n",
       "      <td>4860545</td>\n",
       "      <td>9687.0</td>\n",
       "      <td>59095.0</td>\n",
       "      <td>52077.0</td>\n",
       "      <td>7018.0</td>\n",
       "      <td>4678.0</td>\n",
       "      <td>-1964.0</td>\n",
       "      <td>2714.0</td>\n",
       "      <td>-45.0</td>\n",
       "      <td>118989.0</td>\n",
       "      <td>12.170229</td>\n",
       "      <td>10.724918</td>\n",
       "      <td>1.445311</td>\n",
       "      <td>0.963404</td>\n",
       "      <td>-0.404473</td>\n",
       "      <td>0.558931</td>\n",
       "    </tr>\n",
       "    <tr>\n",
       "      <th>2</th>\n",
       "      <td>1001</td>\n",
       "      <td>AL</td>\n",
       "      <td>Autauga County</td>\n",
       "      <td>55278</td>\n",
       "      <td>440.0</td>\n",
       "      <td>666.0</td>\n",
       "      <td>505.0</td>\n",
       "      <td>161.0</td>\n",
       "      <td>15.0</td>\n",
       "      <td>266.0</td>\n",
       "      <td>281.0</td>\n",
       "      <td>-2.0</td>\n",
       "      <td>455.0</td>\n",
       "      <td>12.096335</td>\n",
       "      <td>9.172146</td>\n",
       "      <td>2.924189</td>\n",
       "      <td>0.272440</td>\n",
       "      <td>4.831269</td>\n",
       "      <td>5.103709</td>\n",
       "    </tr>\n",
       "    <tr>\n",
       "      <th>3</th>\n",
       "      <td>1003</td>\n",
       "      <td>AL</td>\n",
       "      <td>Baldwin County</td>\n",
       "      <td>207509</td>\n",
       "      <td>4646.0</td>\n",
       "      <td>2312.0</td>\n",
       "      <td>2045.0</td>\n",
       "      <td>267.0</td>\n",
       "      <td>169.0</td>\n",
       "      <td>4205.0</td>\n",
       "      <td>4374.0</td>\n",
       "      <td>5.0</td>\n",
       "      <td>2275.0</td>\n",
       "      <td>11.267825</td>\n",
       "      <td>9.966567</td>\n",
       "      <td>1.301258</td>\n",
       "      <td>0.823643</td>\n",
       "      <td>20.493601</td>\n",
       "      <td>21.317244</td>\n",
       "    </tr>\n",
       "    <tr>\n",
       "      <th>4</th>\n",
       "      <td>1005</td>\n",
       "      <td>AL</td>\n",
       "      <td>Barbour County</td>\n",
       "      <td>25774</td>\n",
       "      <td>-490.0</td>\n",
       "      <td>272.0</td>\n",
       "      <td>269.0</td>\n",
       "      <td>3.0</td>\n",
       "      <td>-5.0</td>\n",
       "      <td>-488.0</td>\n",
       "      <td>-493.0</td>\n",
       "      <td>0.0</td>\n",
       "      <td>2977.0</td>\n",
       "      <td>10.453899</td>\n",
       "      <td>10.338599</td>\n",
       "      <td>0.115300</td>\n",
       "      <td>-0.192167</td>\n",
       "      <td>-18.755525</td>\n",
       "      <td>-18.947692</td>\n",
       "    </tr>\n",
       "    <tr>\n",
       "      <th>5</th>\n",
       "      <td>1007</td>\n",
       "      <td>AL</td>\n",
       "      <td>Bibb County</td>\n",
       "      <td>22633</td>\n",
       "      <td>72.0</td>\n",
       "      <td>290.0</td>\n",
       "      <td>207.0</td>\n",
       "      <td>83.0</td>\n",
       "      <td>20.0</td>\n",
       "      <td>-32.0</td>\n",
       "      <td>-12.0</td>\n",
       "      <td>1.0</td>\n",
       "      <td>2201.0</td>\n",
       "      <td>12.833562</td>\n",
       "      <td>9.160508</td>\n",
       "      <td>3.673054</td>\n",
       "      <td>0.885073</td>\n",
       "      <td>-1.416117</td>\n",
       "      <td>-0.531044</td>\n",
       "    </tr>\n",
       "  </tbody>\n",
       "</table>\n",
       "</div>"
      ],
      "text/plain": [
       "   FIPS State       Area_Name  POP_ESTIMATE_2016  N_POP_CHG_2016  Births_2016  \\\n",
       "1  1000    AL         Alabama            4860545          9687.0      59095.0   \n",
       "2  1001    AL  Autauga County              55278           440.0        666.0   \n",
       "3  1003    AL  Baldwin County             207509          4646.0       2312.0   \n",
       "4  1005    AL  Barbour County              25774          -490.0        272.0   \n",
       "5  1007    AL     Bibb County              22633            72.0        290.0   \n",
       "\n",
       "   Deaths_2016  NATURAL_INC_2016  INTERNATIONAL_MIG_2016  DOMESTIC_MIG_2016  \\\n",
       "1      52077.0            7018.0                  4678.0            -1964.0   \n",
       "2        505.0             161.0                    15.0              266.0   \n",
       "3       2045.0             267.0                   169.0             4205.0   \n",
       "4        269.0               3.0                    -5.0             -488.0   \n",
       "5        207.0              83.0                    20.0              -32.0   \n",
       "\n",
       "   NET_MIG_2016  RESIDUAL_2016  GQ_ESTIMATES_2016  R_birth_2016  R_death_2016  \\\n",
       "1        2714.0          -45.0           118989.0     12.170229     10.724918   \n",
       "2         281.0           -2.0              455.0     12.096335      9.172146   \n",
       "3        4374.0            5.0             2275.0     11.267825      9.966567   \n",
       "4        -493.0            0.0             2977.0     10.453899     10.338599   \n",
       "5         -12.0            1.0             2201.0     12.833562      9.160508   \n",
       "\n",
       "   R_NATURAL_INC_2016  R_INTERNATIONAL_MIG_2016  R_DOMESTIC_MIG_2016  \\\n",
       "1            1.445311                  0.963404            -0.404473   \n",
       "2            2.924189                  0.272440             4.831269   \n",
       "3            1.301258                  0.823643            20.493601   \n",
       "4            0.115300                 -0.192167           -18.755525   \n",
       "5            3.673054                  0.885073            -1.416117   \n",
       "\n",
       "   R_NET_MIG_2016  \n",
       "1        0.558931  \n",
       "2        5.103709  \n",
       "3       21.317244  \n",
       "4      -18.947692  \n",
       "5       -0.531044  "
      ]
     },
     "execution_count": 302,
     "metadata": {},
     "output_type": "execute_result"
    }
   ],
   "source": [
    "pop_2016_no_na.head()"
   ]
  },
  {
   "cell_type": "markdown",
   "metadata": {},
   "source": [
    "## 4. Poverty Estimates"
   ]
  },
  {
   "cell_type": "code",
   "execution_count": 303,
   "metadata": {},
   "outputs": [
    {
     "name": "stdout",
     "output_type": "stream",
     "text": [
      "  % Total    % Received % Xferd  Average Speed   Time    Time     Time  Current\n",
      "                                 Dload  Upload   Total   Spent    Left  Speed\n",
      "100  876k  100  876k    0     0   324k      0  0:00:02  0:00:02 --:--:--  324k\n"
     ]
    }
   ],
   "source": [
    "# download data using bash command curl\n",
    "!curl -O -J https://www.ers.usda.gov/webdocs/DataFiles/48747/PovertyEstimates.xls?v=43125"
   ]
  },
  {
   "cell_type": "code",
   "execution_count": 304,
   "metadata": {},
   "outputs": [],
   "source": [
    "# rename the downloaded file to education.xls\n",
    "!mv PovertyEstimates.xls?v=43125 poverty.xls"
   ]
  },
  {
   "cell_type": "code",
   "execution_count": 305,
   "metadata": {},
   "outputs": [
    {
     "data": {
      "text/plain": [
       "['Poverty Data 2016', 'Variable Descriptions']"
      ]
     },
     "execution_count": 305,
     "metadata": {},
     "output_type": "execute_result"
    }
   ],
   "source": [
    "# load poverty estimate data from Excel file\n",
    "xl = pd.ExcelFile('poverty.xls')\n",
    "xl.sheet_names"
   ]
  },
  {
   "cell_type": "code",
   "execution_count": 306,
   "metadata": {},
   "outputs": [],
   "source": [
    "# load a sheet into a pandas df by index \n",
    "poverty = xl.parse(0, skiprows = 3)"
   ]
  },
  {
   "cell_type": "code",
   "execution_count": 307,
   "metadata": {},
   "outputs": [],
   "source": [
    "# select columns that only contain relevant data for 2016\n",
    "poverty = poverty[list(poverty.columns[:3]) + [column for column in poverty.columns if '2016' in column]]"
   ]
  },
  {
   "cell_type": "code",
   "execution_count": 308,
   "metadata": {},
   "outputs": [
    {
     "name": "stdout",
     "output_type": "stream",
     "text": [
      "<class 'pandas.core.frame.DataFrame'>\n",
      "RangeIndex: 3194 entries, 0 to 3193\n",
      "Data columns (total 30 columns):\n",
      "FIPStxt            3194 non-null int64\n",
      "State              3194 non-null object\n",
      "Area_Name          3194 non-null object\n",
      "POVALL_2016        3193 non-null float64\n",
      "CI90LBAll_2016     3193 non-null float64\n",
      "CI90UBALL_2016     3193 non-null float64\n",
      "PCTPOVALL_2016     3193 non-null float64\n",
      "CI90LBALLP_2016    3193 non-null float64\n",
      "CI90UBALLP_2016    3193 non-null float64\n",
      "POV017_2016        3193 non-null float64\n",
      "CI90LB017_2016     3193 non-null float64\n",
      "CI90UB017_2016     3193 non-null float64\n",
      "PCTPOV017_2016     3193 non-null float64\n",
      "CI90LB017P_2016    3193 non-null float64\n",
      "CI90UB017P_2016    3193 non-null float64\n",
      "POV517_2016        3193 non-null float64\n",
      "CI90LB517_2016     3193 non-null float64\n",
      "CI90UB517_2016     3193 non-null float64\n",
      "PCTPOV517_2016     3193 non-null float64\n",
      "CI90LB517P_2016    3193 non-null float64\n",
      "CI90UB517P_2016    3193 non-null float64\n",
      "MEDHHINC_2016      3193 non-null float64\n",
      "CI90LBINC_2016     3193 non-null float64\n",
      "CI90UBINC_2016     3193 non-null float64\n",
      "POV05_2016         52 non-null float64\n",
      "CI90LB05_2016      52 non-null float64\n",
      "CI90UB05_2016      52 non-null float64\n",
      "PCTPOV05_2016      52 non-null float64\n",
      "CI90LB05P_2016     52 non-null float64\n",
      "CI90UB05P_2016     52 non-null float64\n",
      "dtypes: float64(27), int64(1), object(2)\n",
      "memory usage: 748.7+ KB\n"
     ]
    }
   ],
   "source": [
    "poverty.info()"
   ]
  },
  {
   "cell_type": "code",
   "execution_count": 309,
   "metadata": {},
   "outputs": [],
   "source": [
    "# remove columns with only 52 entries and drop rows with na values (3193/3194 non null values)\n",
    "poverty_no_na = poverty[list(poverty.columns[:-7])].dropna(how = 'any')"
   ]
  },
  {
   "cell_type": "code",
   "execution_count": 310,
   "metadata": {
    "scrolled": true
   },
   "outputs": [
    {
     "name": "stdout",
     "output_type": "stream",
     "text": [
      "<class 'pandas.core.frame.DataFrame'>\n",
      "Int64Index: 3193 entries, 0 to 3193\n",
      "Data columns (total 23 columns):\n",
      "FIPStxt            3193 non-null int64\n",
      "State              3193 non-null object\n",
      "Area_Name          3193 non-null object\n",
      "POVALL_2016        3193 non-null float64\n",
      "CI90LBAll_2016     3193 non-null float64\n",
      "CI90UBALL_2016     3193 non-null float64\n",
      "PCTPOVALL_2016     3193 non-null float64\n",
      "CI90LBALLP_2016    3193 non-null float64\n",
      "CI90UBALLP_2016    3193 non-null float64\n",
      "POV017_2016        3193 non-null float64\n",
      "CI90LB017_2016     3193 non-null float64\n",
      "CI90UB017_2016     3193 non-null float64\n",
      "PCTPOV017_2016     3193 non-null float64\n",
      "CI90LB017P_2016    3193 non-null float64\n",
      "CI90UB017P_2016    3193 non-null float64\n",
      "POV517_2016        3193 non-null float64\n",
      "CI90LB517_2016     3193 non-null float64\n",
      "CI90UB517_2016     3193 non-null float64\n",
      "PCTPOV517_2016     3193 non-null float64\n",
      "CI90LB517P_2016    3193 non-null float64\n",
      "CI90UB517P_2016    3193 non-null float64\n",
      "MEDHHINC_2016      3193 non-null float64\n",
      "CI90LBINC_2016     3193 non-null float64\n",
      "dtypes: float64(20), int64(1), object(2)\n",
      "memory usage: 598.7+ KB\n"
     ]
    }
   ],
   "source": [
    "poverty_no_na.info()"
   ]
  },
  {
   "cell_type": "markdown",
   "metadata": {},
   "source": [
    "## 5. Unemployment Rate"
   ]
  },
  {
   "cell_type": "code",
   "execution_count": 311,
   "metadata": {},
   "outputs": [
    {
     "name": "stdout",
     "output_type": "stream",
     "text": [
      "  % Total    % Received % Xferd  Average Speed   Time    Time     Time  Current\n",
      "                                 Dload  Upload   Total   Spent    Left  Speed\n",
      "100 1456k  100 1456k    0     0   232k      0  0:00:06  0:00:06 --:--:--  389k   0     0    0     0      0      0 --:--:--  0:00:03 --:--:--     0\n"
     ]
    }
   ],
   "source": [
    "# download data using bash command curl\n",
    "!curl -O -J https://www.ers.usda.gov/webdocs/DataFiles/48747/Unemployment.xls?v=43244"
   ]
  },
  {
   "cell_type": "code",
   "execution_count": 312,
   "metadata": {},
   "outputs": [],
   "source": [
    "# rename the downloaded file to education.xls\n",
    "!mv Unemployment.xls?v=43244 unemployment.xls"
   ]
  },
  {
   "cell_type": "code",
   "execution_count": 313,
   "metadata": {},
   "outputs": [
    {
     "data": {
      "text/plain": [
       "['Unemployment Med HH Inc', 'Variable Descriptions']"
      ]
     },
     "execution_count": 313,
     "metadata": {},
     "output_type": "execute_result"
    }
   ],
   "source": [
    "# load unemployment data from Excel file\n",
    "xl = pd.ExcelFile('unemployment.xls')\n",
    "xl.sheet_names"
   ]
  },
  {
   "cell_type": "code",
   "execution_count": 314,
   "metadata": {},
   "outputs": [],
   "source": [
    "# load a sheet into a pandas df by index \n",
    "unemployment = xl.parse(0, skiprows = 7)"
   ]
  },
  {
   "cell_type": "code",
   "execution_count": 315,
   "metadata": {},
   "outputs": [],
   "source": [
    "# select columns that only contain relevant data for 2016\n",
    "unemployment = unemployment[list(unemployment.columns[:3]) + [column for column in unemployment.columns if '2016' in column]]"
   ]
  },
  {
   "cell_type": "code",
   "execution_count": 316,
   "metadata": {
    "scrolled": false
   },
   "outputs": [
    {
     "name": "stdout",
     "output_type": "stream",
     "text": [
      "<class 'pandas.core.frame.DataFrame'>\n",
      "RangeIndex: 3275 entries, 0 to 3274\n",
      "Data columns (total 9 columns):\n",
      "FIPStxt                                      3275 non-null int64\n",
      "State                                        3275 non-null object\n",
      "Area_name                                    3275 non-null object\n",
      "Civilian_labor_force_2016                    3272 non-null float64\n",
      "Employed_2016                                3272 non-null float64\n",
      "Unemployed_2016                              3272 non-null float64\n",
      "Unemployment_rate_2016                       3272 non-null float64\n",
      "Median_Household_Income_2016                 3193 non-null float64\n",
      "Med_HH_Income_Percent_of_State_Total_2016    3192 non-null float64\n",
      "dtypes: float64(6), int64(1), object(2)\n",
      "memory usage: 230.4+ KB\n"
     ]
    }
   ],
   "source": [
    "unemployment.info()"
   ]
  },
  {
   "cell_type": "code",
   "execution_count": 317,
   "metadata": {},
   "outputs": [],
   "source": [
    "# remove all null values from median_household_income_2016 column (3193/3275 nonnull values)\n",
    "unemployment_no_na = unemployment.loc[unemployment.Median_Household_Income_2016.notnull(), :]"
   ]
  },
  {
   "cell_type": "code",
   "execution_count": 318,
   "metadata": {
    "scrolled": true
   },
   "outputs": [
    {
     "name": "stdout",
     "output_type": "stream",
     "text": [
      "<class 'pandas.core.frame.DataFrame'>\n",
      "Int64Index: 3193 entries, 0 to 3195\n",
      "Data columns (total 9 columns):\n",
      "FIPStxt                                      3193 non-null int64\n",
      "State                                        3193 non-null object\n",
      "Area_name                                    3193 non-null object\n",
      "Civilian_labor_force_2016                    3193 non-null float64\n",
      "Employed_2016                                3193 non-null float64\n",
      "Unemployed_2016                              3193 non-null float64\n",
      "Unemployment_rate_2016                       3193 non-null float64\n",
      "Median_Household_Income_2016                 3193 non-null float64\n",
      "Med_HH_Income_Percent_of_State_Total_2016    3192 non-null float64\n",
      "dtypes: float64(6), int64(1), object(2)\n",
      "memory usage: 249.5+ KB\n"
     ]
    }
   ],
   "source": [
    "unemployment_no_na.info()"
   ]
  },
  {
   "cell_type": "markdown",
   "metadata": {},
   "source": [
    "# 6. Drug Overdose Death Rate"
   ]
  },
  {
   "cell_type": "markdown",
   "metadata": {},
   "source": [
    "Drug overdose death data can be downloaded from https://wonder.cdc.gov/controller/saved/D77/D37F955. From here, I agree to the CDC terms and generate a dataset with the preset search query information that is already preloaded. Then, I export the data file `Drug Overdose Deaths in 2016.txt` and save it into my working directory. I also added this file to my github account so that it's readily accessible for anyone to access."
   ]
  },
  {
   "cell_type": "code",
   "execution_count": 319,
   "metadata": {},
   "outputs": [
    {
     "name": "stdout",
     "output_type": "stream",
     "text": [
      "  % Total    % Received % Xferd  Average Speed   Time    Time     Time  Current\n",
      "                                 Dload  Upload   Total   Spent    Left  Speed\n",
      "100  173k  100  173k    0     0   119k      0  0:00:01  0:00:01 --:--:--  119k\n"
     ]
    }
   ],
   "source": [
    "# download data using bash command curl\n",
    "!curl -O https://raw.githubusercontent.com/danielhanbitlee/Springboard/master/capstone_project/Drug%20Overdose%20Deaths%20in%202016.txt"
   ]
  },
  {
   "cell_type": "code",
   "execution_count": 320,
   "metadata": {},
   "outputs": [
    {
     "name": "stdout",
     "output_type": "stream",
     "text": [
      "cat: drug_overdose.txt: No such file or directory\r\n",
      "0\r\n"
     ]
    }
   ],
   "source": [
    "cat drug_overdose.txt | wc -l"
   ]
  },
  {
   "cell_type": "code",
   "execution_count": 321,
   "metadata": {},
   "outputs": [],
   "source": [
    "# remove the comments and notes from the txt file and select only the data. Then save the file into drug_overdose.txt\n",
    "!sed -n 2,3148p 'Drug%20Overdose%20Deaths%20in%202016.txt' > drug_overdose.txt"
   ]
  },
  {
   "cell_type": "code",
   "execution_count": 322,
   "metadata": {},
   "outputs": [
    {
     "data": {
      "text/html": [
       "<div>\n",
       "<style scoped>\n",
       "    .dataframe tbody tr th:only-of-type {\n",
       "        vertical-align: middle;\n",
       "    }\n",
       "\n",
       "    .dataframe tbody tr th {\n",
       "        vertical-align: top;\n",
       "    }\n",
       "\n",
       "    .dataframe thead th {\n",
       "        text-align: right;\n",
       "    }\n",
       "</style>\n",
       "<table border=\"1\" class=\"dataframe\">\n",
       "  <thead>\n",
       "    <tr style=\"text-align: right;\">\n",
       "      <th></th>\n",
       "      <th>county</th>\n",
       "      <th>fips_code</th>\n",
       "      <th>deaths</th>\n",
       "      <th>population</th>\n",
       "      <th>crude_rate</th>\n",
       "    </tr>\n",
       "  </thead>\n",
       "  <tbody>\n",
       "    <tr>\n",
       "      <th>1</th>\n",
       "      <td>Baldwin County, AL</td>\n",
       "      <td>1003</td>\n",
       "      <td>32.0</td>\n",
       "      <td>208563.0</td>\n",
       "      <td>15.3</td>\n",
       "    </tr>\n",
       "    <tr>\n",
       "      <th>36</th>\n",
       "      <td>Jefferson County, AL</td>\n",
       "      <td>1073</td>\n",
       "      <td>200.0</td>\n",
       "      <td>659521.0</td>\n",
       "      <td>30.3</td>\n",
       "    </tr>\n",
       "    <tr>\n",
       "      <th>44</th>\n",
       "      <td>Madison County, AL</td>\n",
       "      <td>1089</td>\n",
       "      <td>61.0</td>\n",
       "      <td>356967.0</td>\n",
       "      <td>17.1</td>\n",
       "    </tr>\n",
       "    <tr>\n",
       "      <th>48</th>\n",
       "      <td>Mobile County, AL</td>\n",
       "      <td>1097</td>\n",
       "      <td>64.0</td>\n",
       "      <td>414836.0</td>\n",
       "      <td>15.4</td>\n",
       "    </tr>\n",
       "    <tr>\n",
       "      <th>57</th>\n",
       "      <td>St. Clair County, AL</td>\n",
       "      <td>1115</td>\n",
       "      <td>29.0</td>\n",
       "      <td>88019.0</td>\n",
       "      <td>32.9</td>\n",
       "    </tr>\n",
       "  </tbody>\n",
       "</table>\n",
       "</div>"
      ],
      "text/plain": [
       "                  county  fips_code  deaths  population  crude_rate\n",
       "1     Baldwin County, AL       1003    32.0    208563.0        15.3\n",
       "36  Jefferson County, AL       1073   200.0    659521.0        30.3\n",
       "44    Madison County, AL       1089    61.0    356967.0        17.1\n",
       "48     Mobile County, AL       1097    64.0    414836.0        15.4\n",
       "57  St. Clair County, AL       1115    29.0     88019.0        32.9"
      ]
     },
     "execution_count": 322,
     "metadata": {},
     "output_type": "execute_result"
    }
   ],
   "source": [
    "# load drug overdose death data into pandas df\n",
    "death_rates = pd.read_csv('drug_overdose.txt', \n",
    "                             delimiter = r\"[\\t]\", \n",
    "                             engine = 'python', \n",
    "                             header = None, \n",
    "                             na_values=['Suppressed', 'Missing', 'Unreliable'])\n",
    "\n",
    "# insert column names into df\n",
    "death_rates.columns = ['county','fips_code', 'deaths', 'population', 'crude_rate']\n",
    "\n",
    "# remove double quotes from data\n",
    "death_rates.county = death_rates.county.str.replace('\"', \"\")\n",
    "death_rates.fips_code = death_rates.fips_code.str.replace('\"', \"\")\n",
    "\n",
    "# convert appropriate columns into numeric data type\n",
    "death_rates.fips_code = pd.to_numeric(death_rates.fips_code)\n",
    "death_rates.population = pd.to_numeric(death_rates.population)\n",
    "\n",
    "# drop na values for crude_rate column\n",
    "death_rates_no_na = death_rates[death_rates.crude_rate.notnull()]\n",
    "\n",
    "death_rates_no_na.head()"
   ]
  },
  {
   "cell_type": "code",
   "execution_count": 323,
   "metadata": {},
   "outputs": [
    {
     "name": "stdout",
     "output_type": "stream",
     "text": [
      "<class 'pandas.core.frame.DataFrame'>\n",
      "Int64Index: 579 entries, 1 to 3122\n",
      "Data columns (total 5 columns):\n",
      "county        579 non-null object\n",
      "fips_code     579 non-null int64\n",
      "deaths        579 non-null float64\n",
      "population    579 non-null float64\n",
      "crude_rate    579 non-null float64\n",
      "dtypes: float64(3), int64(1), object(1)\n",
      "memory usage: 27.1+ KB\n"
     ]
    }
   ],
   "source": [
    "death_rates_no_na.info()"
   ]
  },
  {
   "cell_type": "markdown",
   "metadata": {},
   "source": [
    "## 7. Merge the Six Datasets Together"
   ]
  },
  {
   "cell_type": "code",
   "execution_count": 324,
   "metadata": {
    "scrolled": true
   },
   "outputs": [
    {
     "name": "stdout",
     "output_type": "stream",
     "text": [
      "<class 'pandas.core.frame.DataFrame'>\n",
      "Int64Index: 579 entries, 0 to 578\n",
      "Data columns (total 57 columns):\n",
      "fips_code                                                                     579 non-null int64\n",
      "deaths                                                                        579 non-null float64\n",
      "population                                                                    579 non-null float64\n",
      "crude_rate                                                                    579 non-null float64\n",
      "county_y                                                                      579 non-null object\n",
      "state                                                                         579 non-null object\n",
      "prescribe_rate                                                                579 non-null float64\n",
      "POVALL_2016                                                                   579 non-null float64\n",
      "CI90LBAll_2016                                                                579 non-null float64\n",
      "CI90UBALL_2016                                                                579 non-null float64\n",
      "PCTPOVALL_2016                                                                579 non-null float64\n",
      "CI90LBALLP_2016                                                               579 non-null float64\n",
      "CI90UBALLP_2016                                                               579 non-null float64\n",
      "POV017_2016                                                                   579 non-null float64\n",
      "CI90LB017_2016                                                                579 non-null float64\n",
      "CI90UB017_2016                                                                579 non-null float64\n",
      "PCTPOV017_2016                                                                579 non-null float64\n",
      "CI90LB017P_2016                                                               579 non-null float64\n",
      "CI90UB017P_2016                                                               579 non-null float64\n",
      "POV517_2016                                                                   579 non-null float64\n",
      "CI90LB517_2016                                                                579 non-null float64\n",
      "CI90UB517_2016                                                                579 non-null float64\n",
      "PCTPOV517_2016                                                                579 non-null float64\n",
      "CI90LB517P_2016                                                               579 non-null float64\n",
      "CI90UB517P_2016                                                               579 non-null float64\n",
      "MEDHHINC_2016                                                                 579 non-null float64\n",
      "CI90LBINC_2016                                                                579 non-null float64\n",
      "POP_ESTIMATE_2016                                                             579 non-null int64\n",
      "N_POP_CHG_2016                                                                579 non-null float64\n",
      "Births_2016                                                                   579 non-null float64\n",
      "Deaths_2016                                                                   579 non-null float64\n",
      "NATURAL_INC_2016                                                              579 non-null float64\n",
      "INTERNATIONAL_MIG_2016                                                        579 non-null float64\n",
      "DOMESTIC_MIG_2016                                                             579 non-null float64\n",
      "NET_MIG_2016                                                                  579 non-null float64\n",
      "RESIDUAL_2016                                                                 579 non-null float64\n",
      "GQ_ESTIMATES_2016                                                             579 non-null float64\n",
      "R_birth_2016                                                                  579 non-null float64\n",
      "R_death_2016                                                                  579 non-null float64\n",
      "R_NATURAL_INC_2016                                                            579 non-null float64\n",
      "R_INTERNATIONAL_MIG_2016                                                      579 non-null float64\n",
      "R_DOMESTIC_MIG_2016                                                           579 non-null float64\n",
      "R_NET_MIG_2016                                                                579 non-null float64\n",
      "Less than a high school diploma, 2012-2016                                    579 non-null float64\n",
      "High school diploma only, 2012-2016                                           579 non-null float64\n",
      "Some college or associate's degree, 2012-2016                                 579 non-null float64\n",
      "Bachelor's degree or higher, 2012-2016                                        579 non-null float64\n",
      "Percent of adults with less than a high school diploma, 2012-2016             579 non-null float64\n",
      "Percent of adults with a high school diploma only, 2012-2016                  579 non-null float64\n",
      "Percent of adults completing some college or associate's degree, 2012-2016    579 non-null float64\n",
      "Percent of adults with a bachelor's degree or higher, 2012-2016               579 non-null float64\n",
      "Civilian_labor_force_2016                                                     579 non-null float64\n",
      "Employed_2016                                                                 579 non-null float64\n",
      "Unemployed_2016                                                               579 non-null float64\n",
      "Unemployment_rate_2016                                                        579 non-null float64\n",
      "Median_Household_Income_2016                                                  579 non-null float64\n",
      "Med_HH_Income_Percent_of_State_Total_2016                                     579 non-null float64\n",
      "dtypes: float64(53), int64(2), object(2)\n",
      "memory usage: 262.4+ KB\n"
     ]
    }
   ],
   "source": [
    "# merge the six data sets together by county code (FIPS code) and drop redundant columns\n",
    "death_prescribe = pd.merge(death_rates_no_na, prescription_rates_no_na, left_on = 'fips_code', right_on = 'county_code').drop(['county_x', 'county_code'], axis = 1)\n",
    "\n",
    "dpp = pd.merge(death_prescribe, poverty_no_na, left_on = 'fips_code', right_on = 'FIPStxt').drop(['FIPStxt', 'Area_Name'], axis = 1)\n",
    "\n",
    "dppp = pd.merge(dpp, pop_2016_no_na, left_on = 'fips_code', right_on = 'FIPS').drop(['State_x', 'FIPS', 'State_y', 'Area_Name'], axis = 1)\n",
    "\n",
    "dpppe = pd.merge(dppp, education_no_na, left_on = 'fips_code', right_on = 'FIPS Code').drop(['FIPS Code', 'State', 'Area name'], axis = 1)\n",
    "\n",
    "merged_data = pd.merge(dpppe, unemployment_no_na, left_on = 'fips_code', right_on = 'FIPStxt').drop(['FIPStxt', 'State', 'Area_name'], axis = 1)\n",
    "\n",
    "merged_data.info()"
   ]
  },
  {
   "cell_type": "code",
   "execution_count": 325,
   "metadata": {
    "scrolled": false
   },
   "outputs": [
    {
     "data": {
      "text/plain": [
       "(579, 57)"
      ]
     },
     "execution_count": 325,
     "metadata": {},
     "output_type": "execute_result"
    }
   ],
   "source": [
    "merged_data.shape"
   ]
  }
 ],
 "metadata": {
  "kernelspec": {
   "display_name": "Python 3",
   "language": "python",
   "name": "python3"
  },
  "language_info": {
   "codemirror_mode": {
    "name": "ipython",
    "version": 3
   },
   "file_extension": ".py",
   "mimetype": "text/x-python",
   "name": "python",
   "nbconvert_exporter": "python",
   "pygments_lexer": "ipython3",
   "version": "3.6.5"
  }
 },
 "nbformat": 4,
 "nbformat_minor": 2
}
