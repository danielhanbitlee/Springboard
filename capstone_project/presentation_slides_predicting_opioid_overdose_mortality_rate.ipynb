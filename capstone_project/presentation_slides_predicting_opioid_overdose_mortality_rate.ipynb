{
 "cells": [
  {
   "cell_type": "code",
   "execution_count": 161,
   "metadata": {
    "slideshow": {
     "slide_type": "skip"
    }
   },
   "outputs": [],
   "source": [
    "import numpy as np\n",
    "import pandas as pd\n",
    "import matplotlib.pyplot as plt\n",
    "import seaborn as sns\n",
    "import plotly\n",
    "import plotly.plotly as py\n",
    "import plotly.figure_factory as ff\n",
    "import warnings\n",
    "\n",
    "sns.set(style=\"whitegrid\")"
   ]
  },
  {
   "cell_type": "code",
   "execution_count": 162,
   "metadata": {
    "slideshow": {
     "slide_type": "skip"
    }
   },
   "outputs": [],
   "source": [
    "# suppress warnings\n",
    "\n",
    "warnings.filterwarnings('ignore')"
   ]
  },
  {
   "cell_type": "markdown",
   "metadata": {
    "slideshow": {
     "slide_type": "slide"
    }
   },
   "source": [
    "<style>\n",
    "//change position of header 3 {}\n",
    "h3 {\n",
    "    position: relative;\n",
    "}\n",
    "\n",
    "//add class for 2 columns {}\n",
    "div.column2 {\n",
    "    float: left;\n",
    "    width: 50%;\n",
    "}\n",
    "\n",
    "//add class for 3 columns {}\n",
    "div.column3 {\n",
    "    float: left;\n",
    "    width: 33.33%;\n",
    "}\n",
    "\n",
    "/* Clear floats after the columns */\n",
    "div.row:after {\n",
    "    content: \"\";\n",
    "    display: table;\n",
    "    clear: both;\n",
    "}\n",
    "\n",
    "div.footer {\n",
    "    position: relative;\n",
    "    left: 0;\n",
    "    bottom: 1%;\n",
    "    width: 100%;\n",
    "    background-color: transparent;\n",
    "    color: black;\n",
    "    text-align: center;\n",
    "}\n",
    "\n",
    "//change background settings {}\n",
    "div.slide-background {\n",
    "\tborder-top: 25px #660000 solid;\n",
    "\tborder-bottom: 25px #660000 solid;\n",
    "}\n",
    "\n",
    "//class for margin top -60 px {}\n",
    ".big-img {\n",
    "    margin-top: -60px;\n",
    "}\n",
    "\n",
    "//class for margin top -30 px {}\n",
    ".med-img {\n",
    "    margin-top: -30px;\n",
    "}\n",
    "\n",
    "* {\n",
    "    transition: none;\n",
    "}\n",
    "\n",
    "img {\n",
    "    max-width: 100%;\n",
    "    height: auto;\n",
    "}\n",
    "\n",
    "</style>\n",
    "\n",
    "# Predicting the Mortality Rate Due to Opioid Addiction At the County Level\n",
    "\n",
    "### Daniel Lee\n",
    "#### September 12, 2018\n",
    "\n",
    "<a href=\"https://danielhanbitlee.github.io/opioid_mortality/\">Click here for Blog</a>"
   ]
  },
  {
   "cell_type": "markdown",
   "metadata": {
    "slideshow": {
     "slide_type": "skip"
    }
   },
   "source": [
    "<div class='footer'>Slides created using Jupyter Notebook, RISE, and reveal.js</div>"
   ]
  },
  {
   "cell_type": "markdown",
   "metadata": {
    "slideshow": {
     "slide_type": "skip"
    }
   },
   "source": [
    "<section data-background-transition='none'>\n",
    "\n",
    "Test\n",
    "\n",
    "</section>"
   ]
  },
  {
   "cell_type": "markdown",
   "metadata": {
    "slideshow": {
     "slide_type": "skip"
    }
   },
   "source": [
    "<div class=\"column3\" style=\"position: fixed; top: 15vh; left: 40vw;\">\n",
    "    <ul>\n",
    "        <li>Health Problems</li>\n",
    "        <img src=\"images/health_problems.jpg\">\n",
    "    </ul>\n",
    "</div>\n",
    "    "
   ]
  },
  {
   "cell_type": "markdown",
   "metadata": {
    "slideshow": {
     "slide_type": "skip"
    }
   },
   "source": [
    "  \n",
    "  \n",
    "  <div class=\"row\">\n",
    "\n",
    "  <div class=\"column3\"><ul><li>Financial Problems</ul><img src=\"images/financial_problems.jpg\"></div>\n",
    "  "
   ]
  },
  {
   "cell_type": "markdown",
   "metadata": {
    "slideshow": {
     "slide_type": "skip"
    }
   },
   "source": [
    "  <div class=\"row\">\n",
    "\n",
    "  <div class=\"column3\"><ul><li>Relational Problems</ul><img src=\"images/relational_problems.jpg\"></div>\n",
    "</div>"
   ]
  },
  {
   "cell_type": "markdown",
   "metadata": {
    "slideshow": {
     "slide_type": "notes"
    }
   },
   "source": [
    "## What is the opioid epidemic?"
   ]
  },
  {
   "cell_type": "markdown",
   "metadata": {
    "slideshow": {
     "slide_type": "slide"
    }
   },
   "source": [
    "## Annual Cause of Death by Opioid Overdose\n",
    "\n",
    "![alt text](images/annual_deaths_caused_by_opioid_overdose.png)"
   ]
  },
  {
   "cell_type": "markdown",
   "metadata": {
    "slideshow": {
     "slide_type": "slide"
    }
   },
   "source": [
    "### Number of Deaths by Demographic Factors 1999 - 2016\n",
    "\n",
    "![](images/who_are_the_victims.png)"
   ]
  },
  {
   "cell_type": "markdown",
   "metadata": {
    "slideshow": {
     "slide_type": "slide"
    }
   },
   "source": [
    "### Living with an Opioid Addiction  \n",
    "\n",
    "<iframe style=\"margin-top:20px; margin-left: auto; margin-right: auto\" width=\"420\" height=\"315\" src=\"https://www.youtube.com/embed/VpEQaa6jzUU\">\n",
    "</iframe>"
   ]
  },
  {
   "cell_type": "markdown",
   "metadata": {
    "slideshow": {
     "slide_type": "skip"
    }
   },
   "source": [
    "### Living with an Opioid Addiction  \n",
    "\n",
    "[![Alt text](https://img.youtube.com/vi/VpEQaa6jzUU/0.jpg)](https://www.youtube.com/watch?v=VpEQaa6jzUU)\n"
   ]
  },
  {
   "cell_type": "markdown",
   "metadata": {
    "slideshow": {
     "slide_type": "slide"
    }
   },
   "source": [
    "### Reading Between the Numbers - Why We Should Care"
   ]
  },
  {
   "cell_type": "markdown",
   "metadata": {
    "slideshow": {
     "slide_type": "notes"
    }
   },
   "source": [
    "Many are dying because of opioid overdose. But it's not just death. Many people that are not represented in these death numbers are struggling with opioid addiction. Not only does opioid addiction destroy the health of the addicted individual, but it also negatively impacts the lives of the addicted person's loved ones, his or her families, and, ultimately, the communities at large. Dangers of opioid addiction to communities have been recognized by other nations as well. For example, in the 1950s, because of the destroyed lives and communities by opioid addiction, China not only banned opium, but it also executed those who were caught selling opium. \n",
    "\n",
    "Addiction to opioids, like any other addictions, leads to financial problems, health problems, lack of self control, relational difficulties, and ultimately destroys every aspect of the person, and the end result is death. Watch the video (https://youtu.be/VpEQaa6jzUU) of the story of Amy and her struggle with opioid addiction to see a glimpse of the struggles that come with opioid addiction."
   ]
  },
  {
   "cell_type": "markdown",
   "metadata": {
    "slideshow": {
     "slide_type": "fragment"
    }
   },
   "source": [
    "* Not represented in the death numbers are those who are struggling with opioid addiction"
   ]
  },
  {
   "cell_type": "markdown",
   "metadata": {
    "slideshow": {
     "slide_type": "fragment"
    }
   },
   "source": [
    "* Addiction to opioids, like any other addictions, leads to "
   ]
  },
  {
   "cell_type": "markdown",
   "metadata": {
    "slideshow": {
     "slide_type": "fragment"
    }
   },
   "source": [
    "<div class=\"row\">\n",
    "    <div class=\"column3\"><ul><li>Health Problems</ul><img src=\"images/health_problems.jpg\"></div>\n",
    "  <div class=\"column3\"><ul><li>Financial Problems</ul><img src=\"images/financial_problems.jpg\"></div>\n",
    "  <div class=\"column3\"><ul><li>Relational Problems</ul><img src=\"images/relational_problems.jpg\"></div>\n",
    "</div>"
   ]
  },
  {
   "cell_type": "markdown",
   "metadata": {
    "slideshow": {
     "slide_type": "slide"
    }
   },
   "source": [
    "# Opioids"
   ]
  },
  {
   "cell_type": "markdown",
   "metadata": {
    "slideshow": {
     "slide_type": "fragment"
    }
   },
   "source": [
    "* Diverse class of moderately strong painkillers"
   ]
  },
  {
   "cell_type": "markdown",
   "metadata": {
    "slideshow": {
     "slide_type": "fragment"
    }
   },
   "source": [
    "<div class=\"row\">\n",
    "  <div class=\"column3\"><ul><li>Oxycodone</ul><img src=\"images/oxycodone.jpg\"></div>\n",
    "  <div class=\"column3\"><ul><li>Hydrocodone</ul><img src=\"images/vicodin.jpg\"></div>\n",
    "  <div class=\"column3\"><ul><li>Fentanyl</ul><img src=\"images/fentanyl.jpg\"></div>\n",
    "</div>"
   ]
  },
  {
   "cell_type": "markdown",
   "metadata": {
    "slideshow": {
     "slide_type": "slide"
    }
   },
   "source": [
    "# Problem"
   ]
  },
  {
   "cell_type": "markdown",
   "metadata": {
    "slideshow": {
     "slide_type": "fragment"
    }
   },
   "source": [
    "<ul style=\"padding-left:40px\">\n",
    "    <li>Can we predict how bad the problem will be in a county?</li>\n",
    "</ul>"
   ]
  },
  {
   "cell_type": "markdown",
   "metadata": {
    "slideshow": {
     "slide_type": "fragment"
    }
   },
   "source": [
    "<ul style=\"padding-left:80px\">\n",
    "    <li>Useful to help allocate resources</li>\n",
    "</ul>"
   ]
  },
  {
   "cell_type": "markdown",
   "metadata": {
    "slideshow": {
     "slide_type": "fragment"
    }
   },
   "source": [
    "<ul style=\"padding-left:80px\">\n",
    "    <li>Learn more about causes of opioid overdose</li>\n",
    "</ul>"
   ]
  },
  {
   "cell_type": "markdown",
   "metadata": {
    "slideshow": {
     "slide_type": "fragment"
    }
   },
   "source": [
    "<ul style=\"padding-left:80px\">\n",
    "    <li>Make biggest impact</li>\n",
    "</ul>"
   ]
  },
  {
   "cell_type": "markdown",
   "metadata": {
    "slideshow": {
     "slide_type": "slide"
    }
   },
   "source": [
    "# Problem"
   ]
  },
  {
   "cell_type": "markdown",
   "metadata": {
    "slideshow": {
     "slide_type": "fragment"
    }
   },
   "source": [
    "<ul style=\"padding-left:40px\">\n",
    "    <li>Predict the county's mortality rate caused by drug overdose for 2016 given various independent variables</li>\n",
    "</ul>"
   ]
  },
  {
   "cell_type": "markdown",
   "metadata": {
    "slideshow": {
     "slide_type": "fragment"
    }
   },
   "source": [
    "<ul style=\"padding-left:80px\">\n",
    "    <li>County's median household income</li>\n",
    "</ul>"
   ]
  },
  {
   "cell_type": "markdown",
   "metadata": {
    "slideshow": {
     "slide_type": "fragment"
    }
   },
   "source": [
    "<ul style=\"padding-left:80px\">\n",
    "    <li>Age and race demographic information</li>\n",
    "</ul>"
   ]
  },
  {
   "cell_type": "markdown",
   "metadata": {
    "slideshow": {
     "slide_type": "fragment"
    }
   },
   "source": [
    "<ul style=\"padding-left:80px\">\n",
    "    <li>Unemployment</li>\n",
    "</ul>"
   ]
  },
  {
   "cell_type": "markdown",
   "metadata": {
    "slideshow": {
     "slide_type": "fragment"
    }
   },
   "source": [
    "<ul style=\"padding-left:80px\">\n",
    "    <li>Poverty rate estimates</li>\n",
    "</ul>"
   ]
  },
  {
   "cell_type": "markdown",
   "metadata": {
    "slideshow": {
     "slide_type": "fragment"
    }
   },
   "source": [
    "<ul style=\"padding-left:80px\">\n",
    "    <li>Educational attainment</li>\n",
    "</ul>"
   ]
  },
  {
   "cell_type": "markdown",
   "metadata": {
    "slideshow": {
     "slide_type": "fragment"
    }
   },
   "source": [
    "<ul style=\"padding-left:80px\">\n",
    "    <li>Opioid prescription rate</li>\n",
    "</ul>"
   ]
  },
  {
   "cell_type": "markdown",
   "metadata": {
    "slideshow": {
     "slide_type": "slide"
    }
   },
   "source": [
    "## USA by Opioid Overdose Mortality Rate, 2016"
   ]
  },
  {
   "cell_type": "markdown",
   "metadata": {
    "slideshow": {
     "slide_type": "fragment"
    }
   },
   "source": [
    "![](images/newplot.png)"
   ]
  },
  {
   "cell_type": "markdown",
   "metadata": {
    "slideshow": {
     "slide_type": "skip"
    }
   },
   "source": [
    "### Top Ten Counties with Highest Mortality Rate Caused by Opioid Overdose in 2016 (using class)\n",
    "<div class=\"big-img\">\n",
    "<img src=\"images/top_ten_counties_highest_opioid_mortality.png\" />\n",
    "</div>"
   ]
  },
  {
   "cell_type": "markdown",
   "metadata": {
    "slideshow": {
     "slide_type": "slide"
    }
   },
   "source": [
    "### Top Ten Counties with Highest Mortality Rate Caused by Opioid Overdose in 2016\n",
    "\n",
    "<img style=\"margin-top:-60px;\" src=\"images/top_ten_counties_highest_opioid_mortality.png\" />"
   ]
  },
  {
   "cell_type": "markdown",
   "metadata": {
    "slideshow": {
     "slide_type": "slide"
    }
   },
   "source": [
    "### County with Highest Mortality Rate Due to Opioid Addiction"
   ]
  },
  {
   "cell_type": "markdown",
   "metadata": {
    "slideshow": {
     "slide_type": "fragment"
    }
   },
   "source": [
    "<ul style=\"padding-left:40px\">\n",
    "    <li>Highest county: <b> Harrison, KY</b></li>\n",
    "</ul>"
   ]
  },
  {
   "cell_type": "markdown",
   "metadata": {
    "slideshow": {
     "slide_type": "fragment"
    }
   },
   "source": [
    "<ul style=\"padding-left:80px\">\n",
    "    <li>118 deaths per 100,000 people due to opioid overdose</li>\n",
    "</ul>"
   ]
  },
  {
   "cell_type": "markdown",
   "metadata": {
    "slideshow": {
     "slide_type": "fragment"
    }
   },
   "source": [
    "<div class=\"row\">\n",
    "  <div class=\"column2\"><ul><img src=\"images/kentucky.png\"></div>\n",
    "  <div class=\"column2\"><ul><img src=\"images/harrison_ky.png\"></div>\n",
    "</div>"
   ]
  },
  {
   "cell_type": "markdown",
   "metadata": {
    "slideshow": {
     "slide_type": "slide"
    }
   },
   "source": [
    "### Description of Data"
   ]
  },
  {
   "cell_type": "markdown",
   "metadata": {
    "slideshow": {
     "slide_type": "fragment"
    }
   },
   "source": [
    "<div>\n",
    "    <ol>\n",
    "        <li><a href=\"https://www.cdc.gov/drugoverdose/maps/rxcounty2016.html\">US County Opioid Prescription Rates 2016 (CDC)</a></li>\n",
    "        <li><a href=\"https://www.ers.usda.gov/webdocs/DataFiles/48747/Education.xls?v=43125\">County Level Education Data 2016 (usda.gov)</a></li>\n",
    "        <li><a href=\"https://www.ers.usda.gov/webdocs/DataFiles/48747/PopulationEstimates.xls?v=43209\">County Level Population Estimates Data 2016 (usda.gov)</a></li>\n",
    "        <li><a href=\"https://www.ers.usda.gov/webdocs/DataFiles/48747/PovertyEstimates.xls?v=43125\">County Level Poverty Estimates Data 2016(usda.gov)</a></li>\n",
    "        <li><a href=\"https://www.ers.usda.gov/webdocs/DataFiles/48747/Unemployment.xls?v=43244\">County Level Unemployment Rate Data 2016 (usda.gov)</a></li>\n",
    "        <li><a href=\"https://raw.githubusercontent.com/danielhanbitlee/Springboard/master/capstone_project/data/2016.txt\">Opioid Overdose Mortality Rate 2016 (CDC Wonder)</a></li>\n",
    "        <li><a href=\"https://raw.githubusercontent.com/danielhanbitlee/Springboard/master/capstone_project/data/overall_death_rate_2016.txt\">Overall Death Rate (All Causes) 2016 (CDC Wonder)</a></li>\n",
    "        <li><a href=\"https://raw.githubusercontent.com/danielhanbitlee/Springboard/master/capstone_project/data/county_race_2016.txt\">County Level Race Data 2016(CDC Wonder)</a></li>\n",
    "        <li><a href=\"https://raw.githubusercontent.com/danielhanbitlee/Springboard/master/capstone_project/data/county_age_2016.txt\">County Level Age Data 2016 (CDC Wonder)</a></li>\n",
    "        <li><a href=\"https://raw.githubusercontent.com/danielhanbitlee/Springboard/master/capstone_project/data/Opioid%20Overdose%20Deaths.txt\">Opioid Overdose Mortality Rates 1999 - 2016 (CDC Wonder)</a></li>\n",
    "    </ol>\n",
    "</div>"
   ]
  },
  {
   "cell_type": "markdown",
   "metadata": {
    "slideshow": {
     "slide_type": "slide"
    }
   },
   "source": [
    "## Crude Opioid Mortality Rate"
   ]
  },
  {
   "cell_type": "markdown",
   "metadata": {
    "slideshow": {
     "slide_type": "fragment"
    }
   },
   "source": [
    "<ul style=\"padding-left:40px\">\n",
    "    <li>Estimated rate for deaths caused by opioid overdose in the county for 2016 (per 100,000 people)</li>\n",
    "</ul>"
   ]
  },
  {
   "cell_type": "markdown",
   "metadata": {
    "slideshow": {
     "slide_type": "fragment"
    }
   },
   "source": [
    "<ul style=\"padding-left:80px\">\n",
    "    <li>Specifically, the types of drug-related deaths include the following:</li>\n",
    "</ul>"
   ]
  },
  {
   "cell_type": "markdown",
   "metadata": {
    "slideshow": {
     "slide_type": "fragment"
    }
   },
   "source": [
    "<ul style=\"padding-left:80px\">\n",
    "    <li>Drug poisonings (overdose)</li>\n",
    "</ul>"
   ]
  },
  {
   "cell_type": "markdown",
   "metadata": {
    "slideshow": {
     "slide_type": "fragment"
    }
   },
   "source": [
    "<ul style=\"padding-left:80px\">\n",
    "    <li>Unintentional</li>\n",
    "</ul>"
   ]
  },
  {
   "cell_type": "markdown",
   "metadata": {
    "slideshow": {
     "slide_type": "fragment"
    }
   },
   "source": [
    "<ul style=\"padding-left:80px\">\n",
    "    <li>Suicide</li>\n",
    "</ul>"
   ]
  },
  {
   "cell_type": "markdown",
   "metadata": {
    "slideshow": {
     "slide_type": "fragment"
    }
   },
   "source": [
    "<ul style=\"padding-left:80px\">\n",
    "    <li>Homicide</li>\n",
    "</ul>"
   ]
  },
  {
   "cell_type": "markdown",
   "metadata": {
    "slideshow": {
     "slide_type": "fragment"
    }
   },
   "source": [
    "<ul style=\"padding-left:80px\">\n",
    "    <li>Undetermined</li>\n",
    "</ul>"
   ]
  },
  {
   "cell_type": "markdown",
   "metadata": {
    "slideshow": {
     "slide_type": "slide"
    }
   },
   "source": [
    "## Crude Opioid Mortality Rate"
   ]
  },
  {
   "cell_type": "markdown",
   "metadata": {
    "slideshow": {
     "slide_type": "fragment"
    }
   },
   "source": [
    "<ul style=\"padding-left:40px\">\n",
    "    <li>The specific drugs included in the death rates are the following:</li>\n",
    "</ul>"
   ]
  },
  {
   "cell_type": "markdown",
   "metadata": {
    "slideshow": {
     "slide_type": "fragment"
    }
   },
   "source": [
    "<ul style=\"padding-left:80px\">\n",
    "    <li>Opium</li>\n",
    "</ul>"
   ]
  },
  {
   "cell_type": "markdown",
   "metadata": {
    "slideshow": {
     "slide_type": "fragment"
    }
   },
   "source": [
    "<ul style=\"padding-left:80px\">\n",
    "    <li>Heroin</li>\n",
    "</ul>"
   ]
  },
  {
   "cell_type": "markdown",
   "metadata": {
    "slideshow": {
     "slide_type": "fragment"
    }
   },
   "source": [
    "<ul style=\"padding-left:80px\">\n",
    "    <li>Opther opioids</li>\n",
    "</ul>"
   ]
  },
  {
   "cell_type": "markdown",
   "metadata": {
    "slideshow": {
     "slide_type": "fragment"
    }
   },
   "source": [
    "<ul style=\"padding-left:80px\">\n",
    "    <li>Methadone</li>\n",
    "</ul>"
   ]
  },
  {
   "cell_type": "markdown",
   "metadata": {
    "slideshow": {
     "slide_type": "fragment"
    }
   },
   "source": [
    "<ul style=\"padding-left:80px\">\n",
    "    <li>Other synthetic narcotics</li>\n",
    "</ul>"
   ]
  },
  {
   "cell_type": "markdown",
   "metadata": {
    "slideshow": {
     "slide_type": "fragment"
    }
   },
   "source": [
    "<ul style=\"padding-left:80px\">\n",
    "    <li>Other unspecified narcotics</li>\n",
    "</ul>"
   ]
  },
  {
   "cell_type": "markdown",
   "metadata": {
    "slideshow": {
     "slide_type": "slide"
    }
   },
   "source": [
    "### Distribution of County Level Opioid Overdose Mortality Rate\n",
    "<img style=\"margin-top:-16px;\" src=\"images/violinplot_only.png\" />"
   ]
  },
  {
   "cell_type": "markdown",
   "metadata": {
    "slideshow": {
     "slide_type": "slide"
    }
   },
   "source": [
    "### Distribution of County Level Opioid Overdose Mortality Rate\n",
    "<img style=\"margin-top:-16px;\" src=\"images/violinplot_histogram.png\" />"
   ]
  },
  {
   "cell_type": "markdown",
   "metadata": {
    "slideshow": {
     "slide_type": "slide"
    }
   },
   "source": [
    "### Distribution of County Level Opioid Overdose Mortality Rate\n",
    "<img style=\"margin-top:-16px;\" src=\"images/violinplot_histogram_cdf.png\" />"
   ]
  },
  {
   "cell_type": "markdown",
   "metadata": {
    "slideshow": {
     "slide_type": "slide"
    }
   },
   "source": [
    "### Distribution of County Level Opioid Overdose Mortality Rate\n",
    "<img style=\"margin-top:-16px;\" src=\"images/violinplot_histogram_cdf_one_annotation.png\" />"
   ]
  },
  {
   "cell_type": "markdown",
   "metadata": {
    "slideshow": {
     "slide_type": "slide"
    }
   },
   "source": [
    "### Distribution of County Level Opioid Overdose Mortality Rate\n",
    "<img style=\"margin-top:-16px;\" src=\"images/distribution_of_opioid_overdose_mortality_rate.png\" />"
   ]
  },
  {
   "cell_type": "markdown",
   "metadata": {
    "slideshow": {
     "slide_type": "slide"
    }
   },
   "source": [
    "### Distribution of County Level Opioid Overdose Mortality Rate (Mortality Rate Greater Than Zero)\n",
    "<img style=\"margin-top:-16px;\" src=\"images/distribution_of_opioid_overdose_mortality_rate_greater_than_zero.png\" />"
   ]
  },
  {
   "cell_type": "markdown",
   "metadata": {
    "slideshow": {
     "slide_type": "slide"
    }
   },
   "source": [
    "## Violin Plots of All Variables Except Crude Mortality Rate\n",
    "<img style=\"margin-top:-16px;\" src=\"images/violin_plots_all_other_variables_1.png\" />"
   ]
  },
  {
   "cell_type": "markdown",
   "metadata": {
    "slideshow": {
     "slide_type": "slide"
    }
   },
   "source": [
    "## Violin Plots of All Variables Except Crude Mortality Rate\n",
    "<img style=\"margin-top:-16px;\" src=\"images/violin_plots_all_other_variables_2.png\" />"
   ]
  },
  {
   "cell_type": "markdown",
   "metadata": {
    "slideshow": {
     "slide_type": "slide"
    }
   },
   "source": [
    "## Violin Plots of All Variables Except Crude Mortality Rate\n",
    "<img style=\"margin-top:-16px;\" src=\"images/violin_plots_all_other_variables_3.png\" />"
   ]
  },
  {
   "cell_type": "markdown",
   "metadata": {
    "slideshow": {
     "slide_type": "slide"
    }
   },
   "source": [
    "### Correlation Heat Map of All the Variables\n",
    "\n",
    "<img style=\"margin-top:-26px;\" src=\"images/correlation_heat_map.png\" />"
   ]
  },
  {
   "cell_type": "markdown",
   "metadata": {
    "slideshow": {
     "slide_type": "slide"
    }
   },
   "source": [
    "#### Pearson's Correlation Between Crude Mortality Rate and All Other Variables\n",
    "\n",
    "<img style=\"margin-top:-17px;\" src=\"images/correlation_crude_mortality_rate_all_other_variables.png\" />"
   ]
  },
  {
   "cell_type": "markdown",
   "metadata": {
    "slideshow": {
     "slide_type": "slide"
    }
   },
   "source": [
    "### Conclusion From Exploratory Data Analysis"
   ]
  },
  {
   "cell_type": "markdown",
   "metadata": {
    "slideshow": {
     "slide_type": "fragment"
    }
   },
   "source": [
    "<ul style=\"padding-left:40px\">\n",
    "    <li>Counties with higher opioid addiction mortality rates have</li>\n",
    "</ul>"
   ]
  },
  {
   "cell_type": "markdown",
   "metadata": {
    "slideshow": {
     "slide_type": "fragment"
    }
   },
   "source": [
    "<ul style=\"padding-left:80px\">\n",
    "    <li>Higher GQ estimates</li>\n",
    "</ul>"
   ]
  },
  {
   "cell_type": "markdown",
   "metadata": {
    "slideshow": {
     "slide_type": "fragment"
    }
   },
   "source": [
    "<ul style=\"padding-left:80px\">\n",
    "    <li>Higher population percentage of 45 - 49 year olds</li>\n",
    "</ul>"
   ]
  },
  {
   "cell_type": "markdown",
   "metadata": {
    "slideshow": {
     "slide_type": "fragment"
    }
   },
   "source": [
    "<ul style=\"padding-left:80px\">\n",
    "    <li>Higher population estimates</li>\n",
    "</ul>"
   ]
  },
  {
   "cell_type": "markdown",
   "metadata": {
    "slideshow": {
     "slide_type": "fragment"
    }
   },
   "source": [
    "<ul style=\"padding-left:80px\">\n",
    "    <li>Higher median household income</li>\n",
    "</ul>"
   ]
  },
  {
   "cell_type": "markdown",
   "metadata": {
    "slideshow": {
     "slide_type": "slide"
    }
   },
   "source": [
    "### Conclusion From Exploratory Data Analysis"
   ]
  },
  {
   "cell_type": "markdown",
   "metadata": {
    "slideshow": {
     "slide_type": "fragment"
    }
   },
   "source": [
    "<ul style=\"padding-left:40px\">\n",
    "    <li>Further research</li>\n",
    "</ul>"
   ]
  },
  {
   "cell_type": "markdown",
   "metadata": {
    "slideshow": {
     "slide_type": "fragment"
    }
   },
   "source": [
    "<ul style=\"padding-left:80px\">\n",
    "    <li>Why do counties that have higher population living in group quarters have higher opioid overdose mortality rates?</li>\n",
    "</ul>"
   ]
  },
  {
   "cell_type": "markdown",
   "metadata": {
    "slideshow": {
     "slide_type": "fragment"
    }
   },
   "source": [
    "<ul style=\"padding-left:120px\">\n",
    "    <li>Possibly consider looking into specific group quarters estimates by county</li>\n",
    "</ul>"
   ]
  },
  {
   "cell_type": "markdown",
   "metadata": {
    "slideshow": {
     "slide_type": "fragment"
    }
   },
   "source": [
    "<ul style=\"padding-left:80px\">\n",
    "    <li>Why do counties that have higher population percentage of 45 - 49 year olds have higher opioid overdose mortality rates?</li>\n",
    "</ul>"
   ]
  },
  {
   "cell_type": "markdown",
   "metadata": {
    "slideshow": {
     "slide_type": "slide"
    }
   },
   "source": [
    "# In Depth Analysis"
   ]
  },
  {
   "cell_type": "markdown",
   "metadata": {
    "slideshow": {
     "slide_type": "slide"
    }
   },
   "source": [
    "## Procedures"
   ]
  },
  {
   "cell_type": "markdown",
   "metadata": {
    "slideshow": {
     "slide_type": "fragment"
    }
   },
   "source": [
    "<ul style=\"padding-left:40px\">\n",
    "    <li>For a given regression prediction algorithm, do the following:</li>\n",
    "</ul>"
   ]
  },
  {
   "cell_type": "markdown",
   "metadata": {
    "slideshow": {
     "slide_type": "fragment"
    }
   },
   "source": [
    "<ul style=\"padding-left:80px\">\n",
    "    <li>Split data into 80% train set and 20% test set</li>\n",
    "</ul>"
   ]
  },
  {
   "cell_type": "markdown",
   "metadata": {
    "slideshow": {
     "slide_type": "fragment"
    }
   },
   "source": [
    "<ul style=\"padding-left:80px\">\n",
    "    <li>Use default hyperparameter values to fit data (no cross-validation used)</li>\n",
    "</ul>"
   ]
  },
  {
   "cell_type": "markdown",
   "metadata": {
    "slideshow": {
     "slide_type": "fragment"
    }
   },
   "source": [
    "<ul style=\"padding-left:80px\">\n",
    "    <li>Calculate RMSE</li>\n",
    "</ul>"
   ]
  },
  {
   "cell_type": "markdown",
   "metadata": {
    "slideshow": {
     "slide_type": "fragment"
    }
   },
   "source": [
    "<ul style=\"padding-left:80px\">\n",
    "    <li>Generate Bootstrap Sampling Distribution of RMSE (10000 bootstrap samples)</li>\n",
    "</ul>"
   ]
  },
  {
   "cell_type": "markdown",
   "metadata": {
    "slideshow": {
     "slide_type": "fragment"
    }
   },
   "source": [
    "<ul style=\"padding-left:80px\">\n",
    "    <li>Tune hyperparameter values using RandomizedSearchCV (1000 iterations) and 5-fold cross-validation</li>\n",
    "</ul>"
   ]
  },
  {
   "cell_type": "markdown",
   "metadata": {
    "slideshow": {
     "slide_type": "fragment"
    }
   },
   "source": [
    "<ul style=\"padding-left:80px\">\n",
    "    <li>Select model with lowest RMSE</li>\n",
    "</ul>"
   ]
  },
  {
   "cell_type": "markdown",
   "metadata": {
    "slideshow": {
     "slide_type": "fragment"
    }
   },
   "source": [
    "<ul style=\"padding-left:80px\">\n",
    "    <li>Generate Bootstrap Sampling Distribution of RMSE (10000 bootstrap samples)</li>\n",
    "</ul>"
   ]
  },
  {
   "cell_type": "markdown",
   "metadata": {
    "slideshow": {
     "slide_type": "slide"
    }
   },
   "source": [
    "# Bootstrap RMSE Distributions for All Methods\n",
    "\n",
    "<img src=\"images/bootstrap_hist_1.png\" />"
   ]
  },
  {
   "cell_type": "markdown",
   "metadata": {
    "slideshow": {
     "slide_type": "slide"
    }
   },
   "source": [
    "# Bootstrap RMSE Distributions for All Methods\n",
    "\n",
    "<img src=\"images/bootstrap_hist_2.png\" />"
   ]
  },
  {
   "cell_type": "markdown",
   "metadata": {
    "slideshow": {
     "slide_type": "slide"
    }
   },
   "source": [
    "## Boxplot of Bootstrap RMSE Distributions for All Methods\n",
    "<img src=\"images/boxplot_bootstrap_dist.png\" />"
   ]
  },
  {
   "cell_type": "markdown",
   "metadata": {
    "slideshow": {
     "slide_type": "slide"
    }
   },
   "source": [
    "## Observations"
   ]
  },
  {
   "cell_type": "markdown",
   "metadata": {
    "slideshow": {
     "slide_type": "fragment"
    }
   },
   "source": [
    "<ul style=\"padding-left:40px\">\n",
    "    <li>Tree-based methods tend to have lower RMSE than linear methods</li>\n",
    "</ul>"
   ]
  },
  {
   "cell_type": "markdown",
   "metadata": {
    "slideshow": {
     "slide_type": "fragment"
    }
   },
   "source": [
    "<ul style=\"padding-left:40px\">\n",
    "    <li>Tuning hyperparameters lowers RMSE</li>\n",
    "</ul>"
   ]
  },
  {
   "cell_type": "markdown",
   "metadata": {
    "slideshow": {
     "slide_type": "slide"
    }
   },
   "source": [
    "## Predicted vs Actual Opioid Mortality Rate\n",
    "<img style=\"margin-top:-15px;\" src=\"images/predicted_actual_regression_all.png\" />"
   ]
  },
  {
   "cell_type": "markdown",
   "metadata": {
    "slideshow": {
     "slide_type": "slide"
    }
   },
   "source": [
    "## Predicted vs Actual Opioid Mortality Rate\n",
    "<img style=\"margin-top:-15px;\" src=\"images/predicted_actual_regression.png\" />"
   ]
  },
  {
   "cell_type": "markdown",
   "metadata": {
    "slideshow": {
     "slide_type": "slide"
    }
   },
   "source": [
    "### Feature Importances\n",
    "<img style=\"margin-top:-15px;\" src=\"images/feature_importances.png\" />"
   ]
  },
  {
   "cell_type": "markdown",
   "metadata": {
    "slideshow": {
     "slide_type": "slide"
    }
   },
   "source": [
    "# Let's take a closer look at the distribution of the population sizes for the counties"
   ]
  },
  {
   "cell_type": "code",
   "execution_count": 163,
   "metadata": {
    "slideshow": {
     "slide_type": "skip"
    }
   },
   "outputs": [],
   "source": [
    "population_distribution = pd.read_csv('population_summary_df.csv')"
   ]
  },
  {
   "cell_type": "code",
   "execution_count": 164,
   "metadata": {
    "slideshow": {
     "slide_type": "skip"
    }
   },
   "outputs": [],
   "source": [
    "population_distribution[''] = population_distribution['Unnamed: 0']"
   ]
  },
  {
   "cell_type": "code",
   "execution_count": 165,
   "metadata": {
    "slideshow": {
     "slide_type": "skip"
    }
   },
   "outputs": [],
   "source": [
    "population_distribution.drop('Unnamed: 0', axis = 1, inplace = True)"
   ]
  },
  {
   "cell_type": "code",
   "execution_count": 166,
   "metadata": {
    "slideshow": {
     "slide_type": "skip"
    }
   },
   "outputs": [],
   "source": [
    "population_distribution.index = population_distribution['']"
   ]
  },
  {
   "cell_type": "code",
   "execution_count": 167,
   "metadata": {
    "slideshow": {
     "slide_type": "skip"
    }
   },
   "outputs": [],
   "source": [
    "population_distribution.drop('', axis = 1, inplace = True)"
   ]
  },
  {
   "cell_type": "code",
   "execution_count": 168,
   "metadata": {
    "slideshow": {
     "slide_type": "slide"
    }
   },
   "outputs": [
    {
     "data": {
      "text/html": [
       "<div>\n",
       "<style scoped>\n",
       "    .dataframe tbody tr th:only-of-type {\n",
       "        vertical-align: middle;\n",
       "    }\n",
       "\n",
       "    .dataframe tbody tr th {\n",
       "        vertical-align: top;\n",
       "    }\n",
       "\n",
       "    .dataframe thead th {\n",
       "        text-align: right;\n",
       "    }\n",
       "</style>\n",
       "<table border=\"1\" class=\"dataframe\">\n",
       "  <thead>\n",
       "    <tr style=\"text-align: right;\">\n",
       "      <th></th>\n",
       "      <th>Population Estimate of All Counties</th>\n",
       "      <th>Population Estimate of Counties with Zero Mortality</th>\n",
       "      <th>Population Estimate of Counties with Greater than Zero Mortality</th>\n",
       "    </tr>\n",
       "    <tr>\n",
       "      <th></th>\n",
       "      <th></th>\n",
       "      <th></th>\n",
       "      <th></th>\n",
       "    </tr>\n",
       "  </thead>\n",
       "  <tbody>\n",
       "    <tr>\n",
       "      <th>count</th>\n",
       "      <td>2,962</td>\n",
       "      <td>2,261</td>\n",
       "      <td>701</td>\n",
       "    </tr>\n",
       "    <tr>\n",
       "      <th>mean</th>\n",
       "      <td>108,844</td>\n",
       "      <td>30,427</td>\n",
       "      <td>361,770</td>\n",
       "    </tr>\n",
       "    <tr>\n",
       "      <th>std</th>\n",
       "      <td>339,283</td>\n",
       "      <td>37,773</td>\n",
       "      <td>631,186</td>\n",
       "    </tr>\n",
       "    <tr>\n",
       "      <th>min</th>\n",
       "      <td>1,183</td>\n",
       "      <td>1,183</td>\n",
       "      <td>18,646</td>\n",
       "    </tr>\n",
       "    <tr>\n",
       "      <th>25%</th>\n",
       "      <td>12,949</td>\n",
       "      <td>10,242</td>\n",
       "      <td>91,251</td>\n",
       "    </tr>\n",
       "    <tr>\n",
       "      <th>50%</th>\n",
       "      <td>28,180</td>\n",
       "      <td>19,920</td>\n",
       "      <td>174,827</td>\n",
       "    </tr>\n",
       "    <tr>\n",
       "      <th>75%</th>\n",
       "      <td>74,528</td>\n",
       "      <td>37,304</td>\n",
       "      <td>390,918</td>\n",
       "    </tr>\n",
       "    <tr>\n",
       "      <th>max</th>\n",
       "      <td>10,137,915</td>\n",
       "      <td>849,843</td>\n",
       "      <td>10,137,915</td>\n",
       "    </tr>\n",
       "  </tbody>\n",
       "</table>\n",
       "</div>"
      ],
      "text/plain": [
       "      Population Estimate of All Counties  \\\n",
       "                                            \n",
       "count                               2,962   \n",
       "mean                              108,844   \n",
       "std                               339,283   \n",
       "min                                 1,183   \n",
       "25%                                12,949   \n",
       "50%                                28,180   \n",
       "75%                                74,528   \n",
       "max                            10,137,915   \n",
       "\n",
       "      Population Estimate of Counties with Zero Mortality  \\\n",
       "                                                            \n",
       "count                                              2,261    \n",
       "mean                                              30,427    \n",
       "std                                               37,773    \n",
       "min                                                1,183    \n",
       "25%                                               10,242    \n",
       "50%                                               19,920    \n",
       "75%                                               37,304    \n",
       "max                                              849,843    \n",
       "\n",
       "      Population Estimate of Counties with Greater than Zero Mortality  \n",
       "                                                                        \n",
       "count                                                701                \n",
       "mean                                             361,770                \n",
       "std                                              631,186                \n",
       "min                                               18,646                \n",
       "25%                                               91,251                \n",
       "50%                                              174,827                \n",
       "75%                                              390,918                \n",
       "max                                           10,137,915                "
      ]
     },
     "execution_count": 168,
     "metadata": {},
     "output_type": "execute_result"
    }
   ],
   "source": [
    "population_distribution"
   ]
  },
  {
   "cell_type": "markdown",
   "metadata": {
    "slideshow": {
     "slide_type": "slide"
    }
   },
   "source": [
    "### Observations from Distribution of Population from Counties"
   ]
  },
  {
   "cell_type": "markdown",
   "metadata": {
    "slideshow": {
     "slide_type": "fragment"
    }
   },
   "source": [
    "<ul style=\"padding-left:40px\">\n",
    "    <li>Minimum population size for counties with greater than zero mortality rate is 18646</li>\n",
    "</ul>"
   ]
  },
  {
   "cell_type": "markdown",
   "metadata": {
    "slideshow": {
     "slide_type": "fragment"
    }
   },
   "source": [
    "<ul style=\"padding-left:40px\">\n",
    "    <li>1078 counties have zero mortality rate and have population less than 18646</li>\n",
    "</ul>"
   ]
  },
  {
   "cell_type": "markdown",
   "metadata": {
    "slideshow": {
     "slide_type": "fragment"
    }
   },
   "source": [
    "<ul style=\"padding-left:40px\">\n",
    "    <li>1183 counties have zero mortality rate and have population greater than or equal to 18646</li>\n",
    "</ul>"
   ]
  },
  {
   "cell_type": "markdown",
   "metadata": {
    "slideshow": {
     "slide_type": "fragment"
    }
   },
   "source": [
    "<ul style=\"padding-left:40px\">\n",
    "    <li>701 counties have greater than zero mortality rate and have population greater than or equal to 18646</li>\n",
    "</ul>"
   ]
  },
  {
   "cell_type": "markdown",
   "metadata": {
    "slideshow": {
     "slide_type": "slide"
    }
   },
   "source": [
    "### Observations from Distribution of Population from Counties"
   ]
  },
  {
   "cell_type": "markdown",
   "metadata": {
    "slideshow": {
     "slide_type": "fragment"
    }
   },
   "source": [
    "<ul style=\"padding-left:40px\">\n",
    "    <li>Remove 1078 counties that have zero mortality rate and have population less than 18646</li>\n",
    "</ul>"
   ]
  },
  {
   "cell_type": "markdown",
   "metadata": {
    "slideshow": {
     "slide_type": "fragment"
    }
   },
   "source": [
    "<ul style=\"padding-left:40px\">\n",
    "    <li>Redo prediction analysis with the remaining 1884 counties</li>\n",
    "</ul>"
   ]
  },
  {
   "cell_type": "markdown",
   "metadata": {
    "slideshow": {
     "slide_type": "slide"
    }
   },
   "source": [
    "# Bootstrap RMSE Distributions for All Methods (Population >= 18646)\n",
    "\n",
    "<img src=\"images/pop_adj_bootstrap_hist_1.png\" />"
   ]
  },
  {
   "cell_type": "markdown",
   "metadata": {
    "slideshow": {
     "slide_type": "slide"
    }
   },
   "source": [
    "# Bootstrap RMSE Distributions for All Methods (Population >= 18646)\n",
    "\n",
    "<img src=\"images/pop_adj_bootstrap_hist_2.png\" />"
   ]
  },
  {
   "cell_type": "code",
   "execution_count": 169,
   "metadata": {
    "slideshow": {
     "slide_type": "skip"
    }
   },
   "outputs": [],
   "source": [
    "two_sample_t_test_p_values = pd.read_csv('pop_adj_t_test_p_values.csv').loc[:6, :]"
   ]
  },
  {
   "cell_type": "code",
   "execution_count": 170,
   "metadata": {
    "slideshow": {
     "slide_type": "slide"
    }
   },
   "outputs": [
    {
     "data": {
      "text/html": [
       "<div>\n",
       "<style scoped>\n",
       "    .dataframe tbody tr th:only-of-type {\n",
       "        vertical-align: middle;\n",
       "    }\n",
       "\n",
       "    .dataframe tbody tr th {\n",
       "        vertical-align: top;\n",
       "    }\n",
       "\n",
       "    .dataframe thead th {\n",
       "        text-align: right;\n",
       "    }\n",
       "</style>\n",
       "<table border=\"1\" class=\"dataframe\">\n",
       "  <thead>\n",
       "    <tr style=\"text-align: right;\">\n",
       "      <th></th>\n",
       "      <th>Model 1</th>\n",
       "      <th>Model 2</th>\n",
       "      <th>p-value</th>\n",
       "    </tr>\n",
       "  </thead>\n",
       "  <tbody>\n",
       "    <tr>\n",
       "      <th>0</th>\n",
       "      <td>Stochastic Gradient Boosting (Tuned Hyperparam...</td>\n",
       "      <td>Random Forest Regression (Tuned Hyperparameters)</td>\n",
       "      <td>1.515526e-25</td>\n",
       "    </tr>\n",
       "    <tr>\n",
       "      <th>1</th>\n",
       "      <td>Stochastic Gradient Boosting (Tuned Hyperparam...</td>\n",
       "      <td>Gradient Boosting Regression (Tuned Hyperparam...</td>\n",
       "      <td>8.911868e-37</td>\n",
       "    </tr>\n",
       "    <tr>\n",
       "      <th>2</th>\n",
       "      <td>Stochastic Gradient Boosting (Tuned Hyperparam...</td>\n",
       "      <td>Stochastic Gradient Boosting (Default Hyperpar...</td>\n",
       "      <td>1.082024e-164</td>\n",
       "    </tr>\n",
       "    <tr>\n",
       "      <th>3</th>\n",
       "      <td>Stochastic Gradient Boosting (Tuned Hyperparam...</td>\n",
       "      <td>Stochastic Gradient Boosting (Tuned Hyperparam...</td>\n",
       "      <td>1.264246e-192</td>\n",
       "    </tr>\n",
       "    <tr>\n",
       "      <th>4</th>\n",
       "      <td>Stochastic Gradient Boosting (Tuned Hyperparam...</td>\n",
       "      <td>Stochastic Gradient Boosting (Default Hyperpar...</td>\n",
       "      <td>0.000000e+00</td>\n",
       "    </tr>\n",
       "    <tr>\n",
       "      <th>5</th>\n",
       "      <td>Stochastic Gradient Boosting (Tuned Hyperparam...</td>\n",
       "      <td>Gradient Boosting Regression (Default Hyperpar...</td>\n",
       "      <td>0.000000e+00</td>\n",
       "    </tr>\n",
       "    <tr>\n",
       "      <th>6</th>\n",
       "      <td>Stochastic Gradient Boosting (Tuned Hyperparam...</td>\n",
       "      <td>LASSO Regression (Tuned Hyperparameters)</td>\n",
       "      <td>0.000000e+00</td>\n",
       "    </tr>\n",
       "  </tbody>\n",
       "</table>\n",
       "</div>"
      ],
      "text/plain": [
       "                                             Model 1  \\\n",
       "0  Stochastic Gradient Boosting (Tuned Hyperparam...   \n",
       "1  Stochastic Gradient Boosting (Tuned Hyperparam...   \n",
       "2  Stochastic Gradient Boosting (Tuned Hyperparam...   \n",
       "3  Stochastic Gradient Boosting (Tuned Hyperparam...   \n",
       "4  Stochastic Gradient Boosting (Tuned Hyperparam...   \n",
       "5  Stochastic Gradient Boosting (Tuned Hyperparam...   \n",
       "6  Stochastic Gradient Boosting (Tuned Hyperparam...   \n",
       "\n",
       "                                             Model 2        p-value  \n",
       "0   Random Forest Regression (Tuned Hyperparameters)   1.515526e-25  \n",
       "1  Gradient Boosting Regression (Tuned Hyperparam...   8.911868e-37  \n",
       "2  Stochastic Gradient Boosting (Default Hyperpar...  1.082024e-164  \n",
       "3  Stochastic Gradient Boosting (Tuned Hyperparam...  1.264246e-192  \n",
       "4  Stochastic Gradient Boosting (Default Hyperpar...   0.000000e+00  \n",
       "5  Gradient Boosting Regression (Default Hyperpar...   0.000000e+00  \n",
       "6           LASSO Regression (Tuned Hyperparameters)   0.000000e+00  "
      ]
     },
     "execution_count": 170,
     "metadata": {},
     "output_type": "execute_result"
    }
   ],
   "source": [
    "two_sample_t_test_p_values"
   ]
  },
  {
   "cell_type": "markdown",
   "metadata": {
    "slideshow": {
     "slide_type": "slide"
    }
   },
   "source": [
    "### Boxplot of Bootstrap RMSE Distributions for All Methods (Population >= 18646)\n",
    "<img src=\"images/pop_adj_boxplot_bootstrap_dist.png\" />"
   ]
  },
  {
   "cell_type": "markdown",
   "metadata": {
    "slideshow": {
     "slide_type": "slide"
    }
   },
   "source": [
    "### Predicted vs Actual Opioid Mortality Rate (Population >= 18646)\n",
    "<img style=\"margin-top:-15px;\" src=\"images/pop_adj_predicted_actual_regression_all.png\" />"
   ]
  },
  {
   "cell_type": "markdown",
   "metadata": {
    "slideshow": {
     "slide_type": "slide"
    }
   },
   "source": [
    "### Predicted vs Actual Opioid Mortality Rate (Population >= 18646)\n",
    "<img style=\"margin-top:-15px;\" src=\"images/pop_adj_predicted_actual_regression.png\" />"
   ]
  },
  {
   "cell_type": "markdown",
   "metadata": {
    "slideshow": {
     "slide_type": "slide"
    }
   },
   "source": [
    "### Feature Importances (Population >= 18646)\n",
    "<img style=\"margin-top:-15px;\" src=\"images/pop_adj_feature_importances.png\" />"
   ]
  },
  {
   "cell_type": "markdown",
   "metadata": {
    "slideshow": {
     "slide_type": "slide"
    }
   },
   "source": [
    "# Conclusion from Prediction Analysis"
   ]
  },
  {
   "cell_type": "markdown",
   "metadata": {
    "slideshow": {
     "slide_type": "fragment"
    }
   },
   "source": [
    "<ul style=\"padding-left:40px\">\n",
    "    <li>Model of choice: XGBoost's stochastic gradient boosting model with tuned hyperparameters</li>\n",
    "</ul>"
   ]
  },
  {
   "cell_type": "markdown",
   "metadata": {
    "slideshow": {
     "slide_type": "fragment"
    }
   },
   "source": [
    "<ul style=\"padding-left:40px\">\n",
    "    <li>Use this model to do the following:</li>\n",
    "</ul>"
   ]
  },
  {
   "cell_type": "markdown",
   "metadata": {
    "slideshow": {
     "slide_type": "fragment"
    }
   },
   "source": [
    "<ul style=\"padding-left:80px\">\n",
    "    <li>Target counties with high opioid overdose mortality rate</li>\n",
    "</ul>"
   ]
  },
  {
   "cell_type": "markdown",
   "metadata": {
    "slideshow": {
     "slide_type": "fragment"
    }
   },
   "source": [
    "<ul style=\"padding-left:80px\">\n",
    "    <li>Help in investigating the leading causes of opioid addiction</li>\n",
    "</ul>"
   ]
  },
  {
   "cell_type": "markdown",
   "metadata": {
    "slideshow": {
     "slide_type": "fragment"
    }
   },
   "source": [
    "<ul style=\"padding-left:80px\">\n",
    "    <li>Predict the change in opioid overdose mortality rate when some of the predictor variable values change</li>\n",
    "</ul>"
   ]
  },
  {
   "cell_type": "markdown",
   "metadata": {
    "slideshow": {
     "slide_type": "slide"
    }
   },
   "source": [
    "# Further Research"
   ]
  },
  {
   "cell_type": "markdown",
   "metadata": {
    "slideshow": {
     "slide_type": "fragment"
    }
   },
   "source": [
    "<ul style=\"padding-left:40px\">\n",
    "    <li>Investigate as to why the following are important featuresin making accurate opioid overdose mortality rate:predictions</li>\n",
    "</ul>"
   ]
  },
  {
   "cell_type": "markdown",
   "metadata": {
    "slideshow": {
     "slide_type": "fragment"
    }
   },
   "source": [
    "<ul style=\"padding-left:80px\">\n",
    "    <li>american_indian_or_alaska\\_native\\_%</li>\n",
    "</ul>"
   ]
  },
  {
   "cell_type": "markdown",
   "metadata": {
    "slideshow": {
     "slide_type": "fragment"
    }
   },
   "source": [
    "<ul style=\"padding-left:80px\">\n",
    "    <li>asian_or_pacific\\_islander\\_%</li>\n",
    "</ul>"
   ]
  },
  {
   "cell_type": "markdown",
   "metadata": {
    "slideshow": {
     "slide_type": "fragment"
    }
   },
   "source": [
    "<ul style=\"padding-left:80px\">\n",
    "    <li>45_49\\_years\\_%</li>\n",
    "</ul>"
   ]
  },
  {
   "cell_type": "markdown",
   "metadata": {
    "slideshow": {
     "slide_type": "slide"
    }
   },
   "source": [
    "<h1 id=\"references\">References</h1>\n",
    "<p id=\"fn1\">1. https://en.wikipedia.org/wiki/Opioid_epidemic<a href=\"#ref1\" title=\"Jump back to footnote 1 in the text.\">↩</a></p>\n",
    "<p id=\"fn2\">2. https://data.library.virginia.edu/getting-started-with-hurdle-models/<a href=\"#ref2\" title=\"Jump back to footnote 2 in the text.\">↩</a></p>\n",
    "<p id=\"fn3\">3. https://agupubs.onlinelibrary.wiley.com/doi/full/10.1002/wrcr.20308<a href=\"#ref3\" title=\"Jump back to footnote 3 in the text.\">↩</a></p>"
   ]
  },
  {
   "cell_type": "markdown",
   "metadata": {
    "slideshow": {
     "slide_type": "slide"
    }
   },
   "source": [
    "<h1 id=\"special_thanks\">Special Thanks</h1>\n",
    "\n",
    "<ul>\n",
    "    <li>Special thanks to <a href=\"https://www.linkedin.com/in/tommy-blanchard-131686126/\">Tommy Blanchard</a> for mentoring me throughout this project</li>\n",
    "    <li>Special thanks to <a href=\"https://www.linkedin.com/in/peterhbyullee/\">Peter Lee</a> for helping me with the presentation slides</li>\n",
    "    <li>Special thanks to <a href=\"https://www.linkedin.com/in/abraham-choe-b132a424/\">Abraham Choe</a> for helping me with the blog layout</li>\n",
    "</ul>"
   ]
  }
 ],
 "metadata": {
  "celltoolbar": "Slideshow",
  "kernelspec": {
   "display_name": "Python 3",
   "language": "python",
   "name": "python3"
  },
  "language_info": {
   "codemirror_mode": {
    "name": "ipython",
    "version": 3
   },
   "file_extension": ".py",
   "mimetype": "text/x-python",
   "name": "python",
   "nbconvert_exporter": "python",
   "pygments_lexer": "ipython3",
   "version": "3.6.5"
  },
  "livereveal": {
   "autolaunch": false,
   "backimage": null,
   "footer": "<div style='background-color: #660000'>    <p style='color: #660000'>    ddddddddddddddddddddddddddddddddddddddddddddddddddddddddddddddddddddddddddddddddddddddddddddddddddddddddddddddddddddddddddddddddddddddddddddddddddddddddddddddddddddddddddddddddddddddddddddddddd  YOUR TEXT GOES HERE    </p>  </div>",
   "header": "<div style='background-color: #660000'>    <p style='color: #660000'>    ddddddddddddddddddddddddddddddddddddddddddddddddddddddddddddddddddddddddddddddddddddddddddddddddddddddddddddddddddddddddddddddddddddddddddddddddddddddddddddddddddddddddddddddddddddddddddddddddd  YOUR TEXT GOES HERE    </p>  </div>"
  }
 },
 "nbformat": 4,
 "nbformat_minor": 2
}
