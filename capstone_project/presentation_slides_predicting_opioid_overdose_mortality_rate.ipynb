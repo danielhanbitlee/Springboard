{
 "cells": [
  {
   "cell_type": "code",
   "execution_count": 3,
   "metadata": {
    "slideshow": {
     "slide_type": "skip"
    }
   },
   "outputs": [],
   "source": [
    "import numpy as np\n",
    "import pandas as pd\n",
    "import matplotlib.pyplot as plt\n",
    "import seaborn as sns\n",
    "import plotly\n",
    "import plotly.plotly as py\n",
    "import plotly.figure_factory as ff\n",
    "import warnings\n",
    "\n",
    "sns.set(style=\"whitegrid\")"
   ]
  },
  {
   "cell_type": "code",
   "execution_count": 4,
   "metadata": {
    "slideshow": {
     "slide_type": "skip"
    }
   },
   "outputs": [],
   "source": [
    "# suppress warnings\n",
    "\n",
    "warnings.filterwarnings('ignore')"
   ]
  },
  {
   "cell_type": "markdown",
   "metadata": {
    "slideshow": {
     "slide_type": "slide"
    }
   },
   "source": [
    "<style>\n",
    "//change position of header 3 {}\n",
    "h3 {\n",
    "    position: relative;\n",
    "}\n",
    "\n",
    "//add class for 2 columns {}\n",
    "div.column2 {\n",
    "    float: left;\n",
    "    width: 50%;\n",
    "}\n",
    "\n",
    "//add class for 3 columns {}\n",
    "div.column3 {\n",
    "    float: left;\n",
    "    width: 33.33%;\n",
    "}\n",
    "\n",
    "/* Clear floats after the columns */\n",
    "div.row:after {\n",
    "    content: \"\";\n",
    "    display: table;\n",
    "    clear: both;\n",
    "}\n",
    "\n",
    "div.footer {\n",
    "    position: fixed;\n",
    "    left: 0;\n",
    "    bottom: 45px;\n",
    "    width: 100%;\n",
    "    background-color: transparent;\n",
    "    color: black;\n",
    "    text-align: center;\n",
    "}\n",
    "\n",
    "//change background settings {}\n",
    "div.slide-background {\n",
    "\tborder-top: 30px #660000 solid;\n",
    "\tborder-bottom: 30px #660000 solid;\n",
    "}\n",
    "\n",
    "//class for margin top -60 px {}\n",
    ".big-img {\n",
    "    margin-top: -60px;\n",
    "}\n",
    "\n",
    "//class for margin top -30 px {}\n",
    ".med-img {\n",
    "    margin-top: -30px;\n",
    "}\n",
    "\n",
    "* {\n",
    "    transition: none;\n",
    "}\n",
    "\n",
    "</style>\n",
    "\n",
    "# Predicting the Mortality Rate Due to Opioid Addiction At the County Level\n",
    "\n",
    "### Daniel Lee\n",
    "#### August 17, 2018"
   ]
  },
  {
   "cell_type": "markdown",
   "metadata": {
    "slideshow": {
     "slide_type": "skip"
    }
   },
   "source": [
    "<div class='footer'>Slides created using Jupyter Notebook, RISE, and reveal.js</div>"
   ]
  },
  {
   "cell_type": "markdown",
   "metadata": {
    "slideshow": {
     "slide_type": "skip"
    }
   },
   "source": [
    "<section data-background-transition='none'>\n",
    "\n",
    "Test\n",
    "\n",
    "</section>"
   ]
  },
  {
   "cell_type": "markdown",
   "metadata": {
    "slideshow": {
     "slide_type": "skip"
    }
   },
   "source": [
    "<div class=\"column3\" style=\"position: fixed; top: 15vh; left: 40vw;\">\n",
    "    <ul>\n",
    "        <li>Health Problems</li>\n",
    "        <img src=\"images/health_problems.jpg\">\n",
    "    </ul>\n",
    "</div>\n",
    "    "
   ]
  },
  {
   "cell_type": "markdown",
   "metadata": {
    "slideshow": {
     "slide_type": "skip"
    }
   },
   "source": [
    "  \n",
    "  \n",
    "  <div class=\"row\">\n",
    "\n",
    "  <div class=\"column3\"><ul><li>Financial Problems</ul><img src=\"images/financial_problems.jpg\"></div>\n",
    "  "
   ]
  },
  {
   "cell_type": "markdown",
   "metadata": {
    "slideshow": {
     "slide_type": "skip"
    }
   },
   "source": [
    "  <div class=\"row\">\n",
    "\n",
    "  <div class=\"column3\"><ul><li>Relational Problems</ul><img src=\"images/relational_problems.jpg\"></div>\n",
    "</div>"
   ]
  },
  {
   "cell_type": "markdown",
   "metadata": {
    "slideshow": {
     "slide_type": "notes"
    }
   },
   "source": [
    "## What is the opioid epidemic?"
   ]
  },
  {
   "cell_type": "markdown",
   "metadata": {
    "slideshow": {
     "slide_type": "slide"
    }
   },
   "source": [
    "## Annual Cause of Death by Opioid Overdose\n",
    "\n",
    "![alt text](images/annual_deaths_caused_by_opioid_overdose.png)"
   ]
  },
  {
   "cell_type": "markdown",
   "metadata": {
    "slideshow": {
     "slide_type": "slide"
    }
   },
   "source": [
    "### Number of Deaths by Demographic Factors 1999 - 2016\n",
    "\n",
    "![](images/who_are_the_victims.png)"
   ]
  },
  {
   "cell_type": "markdown",
   "metadata": {
    "slideshow": {
     "slide_type": "slide"
    }
   },
   "source": [
    "### Living with an Opioid Addiction  \n",
    "\n",
    "<iframe style=\"margin-top:20px; margin-left: auto; margin-right: auto\" width=\"420\" height=\"315\" src=\"https://www.youtube.com/embed/VpEQaa6jzUU\">\n",
    "</iframe>"
   ]
  },
  {
   "cell_type": "markdown",
   "metadata": {
    "slideshow": {
     "slide_type": "skip"
    }
   },
   "source": [
    "### Living with an Opioid Addiction  \n",
    "\n",
    "[![Alt text](https://img.youtube.com/vi/VpEQaa6jzUU/0.jpg)](https://www.youtube.com/watch?v=VpEQaa6jzUU)\n"
   ]
  },
  {
   "cell_type": "markdown",
   "metadata": {
    "slideshow": {
     "slide_type": "slide"
    }
   },
   "source": [
    "### Reading Between the Numbers - Why We Should Care"
   ]
  },
  {
   "cell_type": "markdown",
   "metadata": {
    "slideshow": {
     "slide_type": "notes"
    }
   },
   "source": [
    "Many are dying because of opioid overdose. But it's not just death. Many people that are not represented in these death numbers are struggling with opioid addiction. Not only does opioid addiction destroy the health of the addicted individual, but it also negatively impacts the lives of the addicted person's loved ones, his or her families, and, ultimately, the communities at large. Dangers of opioid addiction to communities have been recognized by other nations as well. For example, in the 1950s, because of the destroyed lives and communities by opioid addiction, China not only banned opium, but it also executed those who were caught selling opium. \n",
    "\n",
    "Addiction to opioids, like any other addictions, leads to financial problems, health problems, lack of self control, relational difficulties, and ultimately destroys every aspect of the person, and the end result is death. Watch the video (https://youtu.be/VpEQaa6jzUU) of the story of Amy and her struggle with opioid addiction to see a glimpse of the struggles that come with opioid addiction."
   ]
  },
  {
   "cell_type": "markdown",
   "metadata": {
    "slideshow": {
     "slide_type": "fragment"
    }
   },
   "source": [
    "* Not represented in the death numbers are those who are struggling with opioid addiction"
   ]
  },
  {
   "cell_type": "markdown",
   "metadata": {
    "slideshow": {
     "slide_type": "fragment"
    }
   },
   "source": [
    "* Addiction to opioids, like any other addictions, leads to "
   ]
  },
  {
   "cell_type": "markdown",
   "metadata": {
    "slideshow": {
     "slide_type": "fragment"
    }
   },
   "source": [
    "<div class=\"row\">\n",
    "    <div class=\"column3\"><ul><li>Health Problems</ul><img src=\"images/health_problems.jpg\"></div>\n",
    "  <div class=\"column3\"><ul><li>Financial Problems</ul><img src=\"images/financial_problems.jpg\"></div>\n",
    "  <div class=\"column3\"><ul><li>Relational Problems</ul><img src=\"images/relational_problems.jpg\"></div>\n",
    "</div>"
   ]
  },
  {
   "cell_type": "markdown",
   "metadata": {
    "slideshow": {
     "slide_type": "slide"
    }
   },
   "source": [
    "# Opioids"
   ]
  },
  {
   "cell_type": "markdown",
   "metadata": {
    "slideshow": {
     "slide_type": "fragment"
    }
   },
   "source": [
    "* Diverse class of moderately strong painkillers"
   ]
  },
  {
   "cell_type": "markdown",
   "metadata": {
    "slideshow": {
     "slide_type": "fragment"
    }
   },
   "source": [
    "<div class=\"row\">\n",
    "  <div class=\"column3\"><ul><li>Oxycodone</ul><img src=\"images/oxycodone.jpg\"></div>\n",
    "  <div class=\"column3\"><ul><li>Hydrocodone</ul><img src=\"images/vicodin.jpg\"></div>\n",
    "  <div class=\"column3\"><ul><li>Fentanyl</ul><img src=\"images/fentanyl.jpg\"></div>\n",
    "</div>"
   ]
  },
  {
   "cell_type": "markdown",
   "metadata": {
    "slideshow": {
     "slide_type": "slide"
    }
   },
   "source": [
    "# Problem"
   ]
  },
  {
   "cell_type": "markdown",
   "metadata": {
    "slideshow": {
     "slide_type": "fragment"
    }
   },
   "source": [
    "<ul style=\"padding-left:40px\">\n",
    "    <li>Can we predict how bad the problem will be in a county?</li>\n",
    "</ul>"
   ]
  },
  {
   "cell_type": "markdown",
   "metadata": {
    "slideshow": {
     "slide_type": "fragment"
    }
   },
   "source": [
    "<ul style=\"padding-left:80px\">\n",
    "    <li>Useful to help allocate resources</li>\n",
    "</ul>"
   ]
  },
  {
   "cell_type": "markdown",
   "metadata": {
    "slideshow": {
     "slide_type": "fragment"
    }
   },
   "source": [
    "<ul style=\"padding-left:80px\">\n",
    "    <li>Learn more about causes of opioid overdose</li>\n",
    "</ul>"
   ]
  },
  {
   "cell_type": "markdown",
   "metadata": {
    "slideshow": {
     "slide_type": "fragment"
    }
   },
   "source": [
    "<ul style=\"padding-left:80px\">\n",
    "    <li>Make biggest impact</li>\n",
    "</ul>"
   ]
  },
  {
   "cell_type": "markdown",
   "metadata": {
    "slideshow": {
     "slide_type": "slide"
    }
   },
   "source": [
    "# Problem"
   ]
  },
  {
   "cell_type": "markdown",
   "metadata": {
    "slideshow": {
     "slide_type": "fragment"
    }
   },
   "source": [
    "<ul style=\"padding-left:40px\">\n",
    "    <li>Predict the county's mortality rate caused by drug overdose for 2016 given various independent variables</li>\n",
    "</ul>"
   ]
  },
  {
   "cell_type": "markdown",
   "metadata": {
    "slideshow": {
     "slide_type": "fragment"
    }
   },
   "source": [
    "<ul style=\"padding-left:80px\">\n",
    "    <li>County's median household income</li>\n",
    "</ul>"
   ]
  },
  {
   "cell_type": "markdown",
   "metadata": {
    "slideshow": {
     "slide_type": "fragment"
    }
   },
   "source": [
    "<ul style=\"padding-left:80px\">\n",
    "    <li>Population estimates</li>\n",
    "</ul>"
   ]
  },
  {
   "cell_type": "markdown",
   "metadata": {
    "slideshow": {
     "slide_type": "fragment"
    }
   },
   "source": [
    "<ul style=\"padding-left:80px\">\n",
    "    <li>Unemployment</li>\n",
    "</ul>"
   ]
  },
  {
   "cell_type": "markdown",
   "metadata": {
    "slideshow": {
     "slide_type": "fragment"
    }
   },
   "source": [
    "<ul style=\"padding-left:80px\">\n",
    "    <li>Poverty rate estimates</li>\n",
    "</ul>"
   ]
  },
  {
   "cell_type": "markdown",
   "metadata": {
    "slideshow": {
     "slide_type": "fragment"
    }
   },
   "source": [
    "<ul style=\"padding-left:80px\">\n",
    "    <li>Educational attainment</li>\n",
    "</ul>"
   ]
  },
  {
   "cell_type": "markdown",
   "metadata": {
    "slideshow": {
     "slide_type": "fragment"
    }
   },
   "source": [
    "<ul style=\"padding-left:80px\">\n",
    "    <li>Opioid prescription rate</li>\n",
    "</ul>"
   ]
  },
  {
   "cell_type": "markdown",
   "metadata": {
    "slideshow": {
     "slide_type": "slide"
    }
   },
   "source": [
    "## USA by Opioid Overdose Mortality Rate, 2016"
   ]
  },
  {
   "cell_type": "markdown",
   "metadata": {
    "slideshow": {
     "slide_type": "fragment"
    }
   },
   "source": [
    "![](images/newplot.png)"
   ]
  },
  {
   "cell_type": "markdown",
   "metadata": {
    "slideshow": {
     "slide_type": "skip"
    }
   },
   "source": [
    "### Top Ten Counties with Highest Mortality Rate Caused by Opioid Overdose in 2016 (using class)\n",
    "<div class=\"big-img\">\n",
    "<img src=\"images/top_ten_counties_highest_opioid_mortality.png\" />\n",
    "</div>"
   ]
  },
  {
   "cell_type": "markdown",
   "metadata": {
    "slideshow": {
     "slide_type": "slide"
    }
   },
   "source": [
    "### Top Ten Counties with Highest Mortality Rate Caused by Opioid Overdose in 2016\n",
    "\n",
    "<img style=\"margin-top:-60px;\" src=\"images/top_ten_counties_highest_opioid_mortality.png\" />"
   ]
  },
  {
   "cell_type": "markdown",
   "metadata": {
    "slideshow": {
     "slide_type": "slide"
    }
   },
   "source": [
    "### County with Highest Mortality Rate Due to Opioid Addiction"
   ]
  },
  {
   "cell_type": "markdown",
   "metadata": {
    "slideshow": {
     "slide_type": "fragment"
    }
   },
   "source": [
    "<ul style=\"padding-left:40px\">\n",
    "    <li>Highest county: <b> Harrison, KY</b></li>\n",
    "</ul>"
   ]
  },
  {
   "cell_type": "markdown",
   "metadata": {
    "slideshow": {
     "slide_type": "fragment"
    }
   },
   "source": [
    "<ul style=\"padding-left:80px\">\n",
    "    <li>118 deaths per 100,000 people due to opioid overdose</li>\n",
    "</ul>"
   ]
  },
  {
   "cell_type": "markdown",
   "metadata": {
    "slideshow": {
     "slide_type": "fragment"
    }
   },
   "source": [
    "<div class=\"row\">\n",
    "  <div class=\"column2\"><ul><img src=\"images/kentucky.png\"></div>\n",
    "  <div class=\"column2\"><ul><img src=\"images/harrison_ky.png\"></div>\n",
    "</div>"
   ]
  },
  {
   "cell_type": "markdown",
   "metadata": {
    "slideshow": {
     "slide_type": "slide"
    }
   },
   "source": [
    "### Description of Data"
   ]
  },
  {
   "cell_type": "markdown",
   "metadata": {
    "slideshow": {
     "slide_type": "fragment"
    }
   },
   "source": [
    "* US County Opioid Prescribing Rates 2016\n",
    "    * https://www.cdc.gov/drugoverdose/maps/rxcounty2016.html\n",
    "* Unemployment, median household income, educational attainment, poverty rate, and population:\n",
    "    * https://www.ers.usda.gov/data-products/county-level-data-sets/download-data/\n",
    "* Underlying Cause of Death\n",
    "    * https://wonder.cdc.gov/controller/saved/D77/D39F042"
   ]
  },
  {
   "cell_type": "markdown",
   "metadata": {
    "slideshow": {
     "slide_type": "slide"
    }
   },
   "source": [
    "## Crude Opioid Mortality Rate"
   ]
  },
  {
   "cell_type": "markdown",
   "metadata": {
    "slideshow": {
     "slide_type": "fragment"
    }
   },
   "source": [
    "<ul style=\"padding-left:40px\">\n",
    "    <li>Estimated rate for deaths caused by opioid overdose in the county for 2016 (per 100,000 people)</li>\n",
    "</ul>"
   ]
  },
  {
   "cell_type": "markdown",
   "metadata": {
    "slideshow": {
     "slide_type": "fragment"
    }
   },
   "source": [
    "<ul style=\"padding-left:80px\">\n",
    "    <li>Specifically, the types of drug-related deaths include the following:</li>\n",
    "</ul>"
   ]
  },
  {
   "cell_type": "markdown",
   "metadata": {
    "slideshow": {
     "slide_type": "fragment"
    }
   },
   "source": [
    "<ul style=\"padding-left:80px\">\n",
    "    <li>Drug poisonings (overdose)</li>\n",
    "</ul>"
   ]
  },
  {
   "cell_type": "markdown",
   "metadata": {
    "slideshow": {
     "slide_type": "fragment"
    }
   },
   "source": [
    "<ul style=\"padding-left:80px\">\n",
    "    <li>Unintentional</li>\n",
    "</ul>"
   ]
  },
  {
   "cell_type": "markdown",
   "metadata": {
    "slideshow": {
     "slide_type": "fragment"
    }
   },
   "source": [
    "<ul style=\"padding-left:80px\">\n",
    "    <li>Suicide</li>\n",
    "</ul>"
   ]
  },
  {
   "cell_type": "markdown",
   "metadata": {
    "slideshow": {
     "slide_type": "fragment"
    }
   },
   "source": [
    "<ul style=\"padding-left:80px\">\n",
    "    <li>Homicide</li>\n",
    "</ul>"
   ]
  },
  {
   "cell_type": "markdown",
   "metadata": {
    "slideshow": {
     "slide_type": "fragment"
    }
   },
   "source": [
    "<ul style=\"padding-left:80px\">\n",
    "    <li>Undetermined</li>\n",
    "</ul>"
   ]
  },
  {
   "cell_type": "markdown",
   "metadata": {
    "slideshow": {
     "slide_type": "slide"
    }
   },
   "source": [
    "## Crude Opioid Mortality Rate"
   ]
  },
  {
   "cell_type": "markdown",
   "metadata": {
    "slideshow": {
     "slide_type": "fragment"
    }
   },
   "source": [
    "<ul style=\"padding-left:40px\">\n",
    "    <li>The specific drugs included in the death rates are the following:</li>\n",
    "</ul>"
   ]
  },
  {
   "cell_type": "markdown",
   "metadata": {
    "slideshow": {
     "slide_type": "fragment"
    }
   },
   "source": [
    "<ul style=\"padding-left:80px\">\n",
    "    <li>Opium</li>\n",
    "</ul>"
   ]
  },
  {
   "cell_type": "markdown",
   "metadata": {
    "slideshow": {
     "slide_type": "fragment"
    }
   },
   "source": [
    "<ul style=\"padding-left:80px\">\n",
    "    <li>Heroin</li>\n",
    "</ul>"
   ]
  },
  {
   "cell_type": "markdown",
   "metadata": {
    "slideshow": {
     "slide_type": "fragment"
    }
   },
   "source": [
    "<ul style=\"padding-left:80px\">\n",
    "    <li>Opther opioids</li>\n",
    "</ul>"
   ]
  },
  {
   "cell_type": "markdown",
   "metadata": {
    "slideshow": {
     "slide_type": "fragment"
    }
   },
   "source": [
    "<ul style=\"padding-left:80px\">\n",
    "    <li>Methadone</li>\n",
    "</ul>"
   ]
  },
  {
   "cell_type": "markdown",
   "metadata": {
    "slideshow": {
     "slide_type": "fragment"
    }
   },
   "source": [
    "<ul style=\"padding-left:80px\">\n",
    "    <li>Other synthetic narcotics</li>\n",
    "</ul>"
   ]
  },
  {
   "cell_type": "markdown",
   "metadata": {
    "slideshow": {
     "slide_type": "fragment"
    }
   },
   "source": [
    "<ul style=\"padding-left:80px\">\n",
    "    <li>Other unspecified narcotics</li>\n",
    "</ul>"
   ]
  },
  {
   "cell_type": "markdown",
   "metadata": {
    "slideshow": {
     "slide_type": "slide"
    }
   },
   "source": [
    "### Distribution of County Level Opioid Overdose Mortality Rate\n",
    "\n",
    "![](images/violinplot_only.png)"
   ]
  },
  {
   "cell_type": "markdown",
   "metadata": {
    "slideshow": {
     "slide_type": "slide"
    }
   },
   "source": [
    "### Distribution of County Level Opioid Overdose Mortality Rate\n",
    "\n",
    "![](images/violinplot_histogram.png)"
   ]
  },
  {
   "cell_type": "markdown",
   "metadata": {
    "slideshow": {
     "slide_type": "slide"
    }
   },
   "source": [
    "### Distribution of County Level Opioid Overdose Mortality Rate\n",
    "\n",
    "![](images/violinplot_histogram_cdf.png)"
   ]
  },
  {
   "cell_type": "markdown",
   "metadata": {
    "slideshow": {
     "slide_type": "slide"
    }
   },
   "source": [
    "### Distribution of County Level Opioid Overdose Mortality Rate\n",
    "\n",
    "![](images/violinplot_histogram_cdf_one_annotation.png)"
   ]
  },
  {
   "cell_type": "markdown",
   "metadata": {
    "slideshow": {
     "slide_type": "slide"
    }
   },
   "source": [
    "### Distribution of County Level Opioid Overdose Mortality Rate\n",
    "\n",
    "![](images/distribution_of_opioid_overdose_mortality_rate.png)"
   ]
  },
  {
   "cell_type": "markdown",
   "metadata": {
    "slideshow": {
     "slide_type": "slide"
    }
   },
   "source": [
    "## Violin Plots of All Variables Except Crude Mortality Rate\n",
    "<img style=\"margin-top:-16px;\" src=\"images/violin_plots.png\" />"
   ]
  },
  {
   "cell_type": "markdown",
   "metadata": {
    "slideshow": {
     "slide_type": "slide"
    }
   },
   "source": [
    "### Correlation Heat Map of All the Variables\n",
    "\n",
    "<img style=\"margin-top:-26px;\" src=\"images/correlation_heat_map.png\" />"
   ]
  },
  {
   "cell_type": "markdown",
   "metadata": {
    "slideshow": {
     "slide_type": "slide"
    }
   },
   "source": [
    "#### Pearson's Correlation Between Crude Mortality Rate and All Other Variables\n",
    "\n",
    "<img style=\"margin-top:-17px;\" src=\"images/correlation_crude_mortality_rate_all_other_variables.png\" />"
   ]
  },
  {
   "cell_type": "markdown",
   "metadata": {
    "slideshow": {
     "slide_type": "slide"
    }
   },
   "source": [
    "### Scatter Plots of Crude Opioid Mortality Rate and Other Variables\n",
    "<img style=\"margin-top:-40px;\" src=\"images/scatter_plots_crude_opioid_mortality_other_variables_reshaped.png\" />"
   ]
  },
  {
   "cell_type": "markdown",
   "metadata": {
    "slideshow": {
     "slide_type": "slide"
    }
   },
   "source": [
    "#### Hypothesis Test of Correlation By Permuting Samples - Distribution of Correlation Values\n",
    "<img style=\"margin-top:-17px;\" src=\"images/hyp_test_correlation.png\" />"
   ]
  },
  {
   "cell_type": "markdown",
   "metadata": {
    "slideshow": {
     "slide_type": "slide"
    }
   },
   "source": [
    "### Linear Regression and Confidence Interval Using Pairs Bootstrap\n",
    "<img style=\"margin-top:-20px;\" src=\"images/bootstrap_linear_regression.png\" />"
   ]
  },
  {
   "cell_type": "markdown",
   "metadata": {
    "slideshow": {
     "slide_type": "slide"
    }
   },
   "source": [
    "### Conclusion From Exploratory Data Analysis"
   ]
  },
  {
   "cell_type": "markdown",
   "metadata": {
    "slideshow": {
     "slide_type": "fragment"
    }
   },
   "source": [
    "<ul style=\"padding-left:40px\">\n",
    "    <li>Counties with higher opioid addiction mortality rates have</li>\n",
    "</ul>"
   ]
  },
  {
   "cell_type": "markdown",
   "metadata": {
    "slideshow": {
     "slide_type": "fragment"
    }
   },
   "source": [
    "<ul style=\"padding-left:80px\">\n",
    "    <li>Higher GQ estimates</li>\n",
    "</ul>"
   ]
  },
  {
   "cell_type": "markdown",
   "metadata": {
    "slideshow": {
     "slide_type": "fragment"
    }
   },
   "source": [
    "<ul style=\"padding-left:80px\">\n",
    "    <li>Higher population estimates</li>\n",
    "</ul>"
   ]
  },
  {
   "cell_type": "markdown",
   "metadata": {
    "slideshow": {
     "slide_type": "fragment"
    }
   },
   "source": [
    "<ul style=\"padding-left:80px\">\n",
    "    <li>Higher median household income</li>\n",
    "</ul>"
   ]
  },
  {
   "cell_type": "markdown",
   "metadata": {
    "slideshow": {
     "slide_type": "slide"
    }
   },
   "source": [
    "### Conclusion From Exploratory Data Analysis"
   ]
  },
  {
   "cell_type": "markdown",
   "metadata": {
    "slideshow": {
     "slide_type": "fragment"
    }
   },
   "source": [
    "<ul style=\"padding-left:40px\">\n",
    "    <li>Further research</li>\n",
    "</ul>"
   ]
  },
  {
   "cell_type": "markdown",
   "metadata": {
    "slideshow": {
     "slide_type": "fragment"
    }
   },
   "source": [
    "<ul style=\"padding-left:80px\">\n",
    "    <li>Why do counties that have higher population living in group quarters have higher opioid overdose mortality rates?</li>\n",
    "</ul>"
   ]
  },
  {
   "cell_type": "markdown",
   "metadata": {
    "slideshow": {
     "slide_type": "fragment"
    }
   },
   "source": [
    "<ul style=\"padding-left:120px\">\n",
    "    <li>Possibly consider looking into specific group quarters estimates by county</li>\n",
    "</ul>"
   ]
  },
  {
   "cell_type": "markdown",
   "metadata": {
    "slideshow": {
     "slide_type": "slide"
    }
   },
   "source": [
    "# In Depth Analysis"
   ]
  },
  {
   "cell_type": "markdown",
   "metadata": {
    "slideshow": {
     "slide_type": "slide"
    }
   },
   "source": [
    "## Procedures"
   ]
  },
  {
   "cell_type": "markdown",
   "metadata": {
    "slideshow": {
     "slide_type": "fragment"
    }
   },
   "source": [
    "<ul style=\"padding-left:40px\">\n",
    "    <li>For a given regression prediction algorithm, do the following:</li>\n",
    "</ul>"
   ]
  },
  {
   "cell_type": "markdown",
   "metadata": {
    "slideshow": {
     "slide_type": "fragment"
    }
   },
   "source": [
    "<ul style=\"padding-left:80px\">\n",
    "    <li>Split data into 80% train set and 20% test set</li>\n",
    "</ul>"
   ]
  },
  {
   "cell_type": "markdown",
   "metadata": {
    "slideshow": {
     "slide_type": "fragment"
    }
   },
   "source": [
    "<ul style=\"padding-left:80px\">\n",
    "    <li>Use default hyperparameter values to fit data (no cross-validation used)</li>\n",
    "</ul>"
   ]
  },
  {
   "cell_type": "markdown",
   "metadata": {
    "slideshow": {
     "slide_type": "fragment"
    }
   },
   "source": [
    "<ul style=\"padding-left:80px\">\n",
    "    <li>Calculate RMSE</li>\n",
    "</ul>"
   ]
  },
  {
   "cell_type": "markdown",
   "metadata": {
    "slideshow": {
     "slide_type": "fragment"
    }
   },
   "source": [
    "<ul style=\"padding-left:80px\">\n",
    "    <li>Generate Bootstrap Sampling Distribution of RMSE (1000 bootstrap samples)</li>\n",
    "</ul>"
   ]
  },
  {
   "cell_type": "markdown",
   "metadata": {
    "slideshow": {
     "slide_type": "fragment"
    }
   },
   "source": [
    "<ul style=\"padding-left:80px\">\n",
    "    <li>Tune hyperparameter values using RandomizedSearchCV (1000 iterations) and 5-fold cross-valudation</li>\n",
    "</ul>"
   ]
  },
  {
   "cell_type": "markdown",
   "metadata": {
    "slideshow": {
     "slide_type": "fragment"
    }
   },
   "source": [
    "<ul style=\"padding-left:80px\">\n",
    "    <li>Select model with lowest RMSE</li>\n",
    "</ul>"
   ]
  },
  {
   "cell_type": "markdown",
   "metadata": {
    "slideshow": {
     "slide_type": "fragment"
    }
   },
   "source": [
    "<ul style=\"padding-left:80px\">\n",
    "    <li>Generate Bootstrap Sampling Distribution of RMSE (1000 bootstrap samples)</li>\n",
    "</ul>"
   ]
  },
  {
   "cell_type": "markdown",
   "metadata": {
    "slideshow": {
     "slide_type": "slide"
    }
   },
   "source": [
    "## Boxplot of Bootstrap RMSE Distributions for All Methods\n",
    "<img src=\"images/boxplot_bootstrap_dist.png\" />"
   ]
  },
  {
   "cell_type": "markdown",
   "metadata": {
    "slideshow": {
     "slide_type": "slide"
    }
   },
   "source": [
    "## Predicted vs Actual Opioid Mortality Rate\n",
    "<img style=\"margin-top:-15px;\" src=\"images/predicted_actual_regression_all.png\" />"
   ]
  },
  {
   "cell_type": "markdown",
   "metadata": {
    "slideshow": {
     "slide_type": "slide"
    }
   },
   "source": [
    "## Predicted vs Actual Opioid Mortality Rate\n",
    "<img style=\"margin-top:-15px;\" src=\"images/predicted_actual_regression.png\" />"
   ]
  }
 ],
 "metadata": {
  "celltoolbar": "Slideshow",
  "kernelspec": {
   "display_name": "Python 3",
   "language": "python",
   "name": "python3"
  },
  "language_info": {
   "codemirror_mode": {
    "name": "ipython",
    "version": 3
   },
   "file_extension": ".py",
   "mimetype": "text/x-python",
   "name": "python",
   "nbconvert_exporter": "python",
   "pygments_lexer": "ipython3",
   "version": "3.6.5"
  },
  "livereveal": {
   "autolaunch": false,
   "backimage": null,
   "footer": "<div style='background-color: #660000'>    <p style='color: #660000'>    ddddddddddddddddddddddddddddddddddddddddddddddddddddddddddddddddddddddddddddddddddddddddddddddddddddddddddddddddddddddddddddddddddddddddddddddddddddddddddddddddddddddddddddddddddddddddddddddddd  YOUR TEXT GOES HERE    </p>  </div>",
   "header": "<div style='background-color: #660000'>    <p style='color: #660000'>    ddddddddddddddddddddddddddddddddddddddddddddddddddddddddddddddddddddddddddddddddddddddddddddddddddddddddddddddddddddddddddddddddddddddddddddddddddddddddddddddddddddddddddddddddddddddddddddddddd  YOUR TEXT GOES HERE    </p>  </div>"
  }
 },
 "nbformat": 4,
 "nbformat_minor": 2
}
