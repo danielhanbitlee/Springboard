{
 "cells": [
  {
   "cell_type": "markdown",
   "metadata": {},
   "source": [
    "# Basic Text Classification with Naive Bayes\n",
    "\n",
    "Daniel Lee\n",
    "\n",
    "July 31, 2018\n",
    "\n",
    "***\n",
    "In the mini-project, you'll learn the basics of text analysis using a subset of movie reviews from the rotten tomatoes database. You'll also use a fundamental technique in Bayesian inference, called Naive Bayes. This mini-project is based on [Lab 10 of Harvard's CS109](https://github.com/cs109/2015lab10) class.  Please free to go to the original lab for additional exercises and solutions."
   ]
  },
  {
   "cell_type": "code",
   "execution_count": 1,
   "metadata": {},
   "outputs": [],
   "source": [
    "%matplotlib inline\n",
    "import numpy as np\n",
    "import scipy as sp\n",
    "import matplotlib as mpl\n",
    "import matplotlib.cm as cm\n",
    "import matplotlib.pyplot as plt\n",
    "import pandas as pd\n",
    "import seaborn as sns\n",
    "from six.moves import range\n",
    "from sklearn.model_selection import RandomizedSearchCV\n",
    "from sklearn.model_selection import GridSearchCV\n",
    "from sklearn.ensemble import RandomForestClassifier\n",
    "from sklearn.linear_model import LogisticRegression\n",
    "from sklearn.metrics import classification_report, accuracy_score\n",
    "from sklearn.svm import SVC\n",
    "from sklearn.pipeline import Pipeline\n",
    "from sklearn.preprocessing import StandardScaler\n",
    "from sklearn.model_selection import train_test_split\n",
    "from sklearn.feature_extraction.text import HashingVectorizer\n",
    "\n",
    "# Setup Pandas\n",
    "pd.set_option('display.width', 500)\n",
    "pd.set_option('display.max_columns', 100)\n",
    "pd.set_option('display.notebook_repr_html', True)\n",
    "\n",
    "# Setup Seaborn\n",
    "sns.set_style(\"whitegrid\")\n",
    "sns.set_context(\"poster\")"
   ]
  },
  {
   "cell_type": "markdown",
   "metadata": {},
   "source": [
    "# Table of Contents\n",
    "\n",
    "* [Rotten Tomatoes Dataset](#Rotten-Tomatoes-Dataset)\n",
    "    * [Explore](#Explore)\n",
    "* [The Vector Space Model and a Search Engine](#The-Vector-Space-Model-and-a-Search-Engine)\n",
    "    * [In Code](#In-Code)\n",
    "* [Naive Bayes](#Naive-Bayes)\n",
    "    * [Multinomial Naive Bayes and Other Likelihood Functions](#Multinomial-Naive-Bayes-and-Other-Likelihood-Functions)\n",
    "    * [Picking Hyperparameters for Naive Bayes and Text Maintenance](#Picking-Hyperparameters-for-Naive-Bayes-and-Text-Maintenance)\n",
    "* [Interpretation](#Interpretation)\n"
   ]
  },
  {
   "cell_type": "markdown",
   "metadata": {},
   "source": [
    "## Rotten Tomatoes Dataset"
   ]
  },
  {
   "cell_type": "code",
   "execution_count": 2,
   "metadata": {},
   "outputs": [
    {
     "data": {
      "text/html": [
       "<div>\n",
       "<style scoped>\n",
       "    .dataframe tbody tr th:only-of-type {\n",
       "        vertical-align: middle;\n",
       "    }\n",
       "\n",
       "    .dataframe tbody tr th {\n",
       "        vertical-align: top;\n",
       "    }\n",
       "\n",
       "    .dataframe thead th {\n",
       "        text-align: right;\n",
       "    }\n",
       "</style>\n",
       "<table border=\"1\" class=\"dataframe\">\n",
       "  <thead>\n",
       "    <tr style=\"text-align: right;\">\n",
       "      <th></th>\n",
       "      <th>critic</th>\n",
       "      <th>fresh</th>\n",
       "      <th>imdb</th>\n",
       "      <th>publication</th>\n",
       "      <th>quote</th>\n",
       "      <th>review_date</th>\n",
       "      <th>rtid</th>\n",
       "      <th>title</th>\n",
       "    </tr>\n",
       "  </thead>\n",
       "  <tbody>\n",
       "    <tr>\n",
       "      <th>1</th>\n",
       "      <td>Derek Adams</td>\n",
       "      <td>fresh</td>\n",
       "      <td>114709</td>\n",
       "      <td>Time Out</td>\n",
       "      <td>So ingenious in concept, design and execution ...</td>\n",
       "      <td>2009-10-04</td>\n",
       "      <td>9559</td>\n",
       "      <td>Toy story</td>\n",
       "    </tr>\n",
       "    <tr>\n",
       "      <th>2</th>\n",
       "      <td>Richard Corliss</td>\n",
       "      <td>fresh</td>\n",
       "      <td>114709</td>\n",
       "      <td>TIME Magazine</td>\n",
       "      <td>The year's most inventive comedy.</td>\n",
       "      <td>2008-08-31</td>\n",
       "      <td>9559</td>\n",
       "      <td>Toy story</td>\n",
       "    </tr>\n",
       "    <tr>\n",
       "      <th>3</th>\n",
       "      <td>David Ansen</td>\n",
       "      <td>fresh</td>\n",
       "      <td>114709</td>\n",
       "      <td>Newsweek</td>\n",
       "      <td>A winning animated feature that has something ...</td>\n",
       "      <td>2008-08-18</td>\n",
       "      <td>9559</td>\n",
       "      <td>Toy story</td>\n",
       "    </tr>\n",
       "    <tr>\n",
       "      <th>4</th>\n",
       "      <td>Leonard Klady</td>\n",
       "      <td>fresh</td>\n",
       "      <td>114709</td>\n",
       "      <td>Variety</td>\n",
       "      <td>The film sports a provocative and appealing st...</td>\n",
       "      <td>2008-06-09</td>\n",
       "      <td>9559</td>\n",
       "      <td>Toy story</td>\n",
       "    </tr>\n",
       "    <tr>\n",
       "      <th>5</th>\n",
       "      <td>Jonathan Rosenbaum</td>\n",
       "      <td>fresh</td>\n",
       "      <td>114709</td>\n",
       "      <td>Chicago Reader</td>\n",
       "      <td>An entertaining computer-generated, hyperreali...</td>\n",
       "      <td>2008-03-10</td>\n",
       "      <td>9559</td>\n",
       "      <td>Toy story</td>\n",
       "    </tr>\n",
       "  </tbody>\n",
       "</table>\n",
       "</div>"
      ],
      "text/plain": [
       "               critic  fresh    imdb     publication                                              quote review_date  rtid      title\n",
       "1         Derek Adams  fresh  114709        Time Out  So ingenious in concept, design and execution ...  2009-10-04  9559  Toy story\n",
       "2     Richard Corliss  fresh  114709   TIME Magazine                  The year's most inventive comedy.  2008-08-31  9559  Toy story\n",
       "3         David Ansen  fresh  114709        Newsweek  A winning animated feature that has something ...  2008-08-18  9559  Toy story\n",
       "4       Leonard Klady  fresh  114709         Variety  The film sports a provocative and appealing st...  2008-06-09  9559  Toy story\n",
       "5  Jonathan Rosenbaum  fresh  114709  Chicago Reader  An entertaining computer-generated, hyperreali...  2008-03-10  9559  Toy story"
      ]
     },
     "execution_count": 2,
     "metadata": {},
     "output_type": "execute_result"
    }
   ],
   "source": [
    "critics = pd.read_csv('./critics.csv')\n",
    "#let's drop rows with missing quotes\n",
    "critics = critics[~critics.quote.isnull()]\n",
    "critics.head()"
   ]
  },
  {
   "cell_type": "markdown",
   "metadata": {},
   "source": [
    "### Explore"
   ]
  },
  {
   "cell_type": "code",
   "execution_count": 3,
   "metadata": {},
   "outputs": [
    {
     "name": "stdout",
     "output_type": "stream",
     "text": [
      "Number of reviews: 15561\n",
      "Number of critics: 623\n",
      "Number of movies:  1921\n"
     ]
    }
   ],
   "source": [
    "n_reviews = len(critics)\n",
    "n_movies = critics.rtid.unique().size\n",
    "n_critics = critics.critic.unique().size\n",
    "\n",
    "\n",
    "print(\"Number of reviews: {:d}\".format(n_reviews))\n",
    "print(\"Number of critics: {:d}\".format(n_critics))\n",
    "print(\"Number of movies:  {:d}\".format(n_movies))"
   ]
  },
  {
   "cell_type": "code",
   "execution_count": 4,
   "metadata": {},
   "outputs": [
    {
     "data": {
      "image/png": "[encoded data removed]",
      "text/plain": [
       "<Figure size 432x288 with 1 Axes>"
      ]
     },
     "metadata": {},
     "output_type": "display_data"
    }
   ],
   "source": [
    "df = critics.copy()\n",
    "df['fresh'] = df.fresh == 'fresh'\n",
    "grp = df.groupby('critic')\n",
    "counts = grp.critic.count()  # number of reviews by each critic\n",
    "means = grp.fresh.mean()     # average freshness for each critic\n",
    "\n",
    "means[counts > 100].hist(bins=10, edgecolor='w', lw=1)\n",
    "plt.xlabel(\"Average Rating per critic\")\n",
    "plt.ylabel(\"Number of Critics\")\n",
    "plt.yticks([0, 2, 4, 6, 8, 10]);"
   ]
  },
  {
   "cell_type": "markdown",
   "metadata": {},
   "source": [
    "\n",
    "### Exercise Set I  \n",
    "\n",
    "**Exercise:** Look at the histogram above. Tell a story about the average ratings per critic. What shape does the distribution look like? What is interesting about the distribution? What might explain these interesting things?\n"
   ]
  },
  {
   "cell_type": "markdown",
   "metadata": {},
   "source": [
    "The histogram represents the number of critics with over 100 reviews who had a particular average rating. For example, critic Bosley Crowther had over a 100 ratings. His average rating is 0.70, so he would be one of the four critics who fall in the average = 0.7 bin. Based on the histogram, majority of the critics have an average rating of 0.6 or higher. The distribution doesn't look normal. Maybe it looks more bimodal. The interesting thing about this distribution is that there seems to be a peak at 0.6 but very few critics have an average between 0.5 and 0.6. This can be because of small sample size. "
   ]
  },
  {
   "cell_type": "markdown",
   "metadata": {},
   "source": [
    "## The Vector Space Model and a Search Engine"
   ]
  },
  {
   "cell_type": "markdown",
   "metadata": {},
   "source": [
    "All the diagrams here are snipped from [*Introduction to Information Retrieval* by Manning et. al.]( http://nlp.stanford.edu/IR-book/) which is a great resource on text processing. For additional information on text mining and natural language processing, see [*Foundations of Statistical Natural Language Processing* by Manning and Schutze](http://nlp.stanford.edu/fsnlp/).\n",
    "\n",
    "Also check out Python packages [`nltk`](http://www.nltk.org/), [`spaCy`](https://spacy.io/), [`pattern`](http://www.clips.ua.ac.be/pattern), and their associated resources. Also see [`word2vec`](https://en.wikipedia.org/wiki/Word2vec).\n",
    "\n",
    "Let us define the vector derived from document $d$ by $\\bar V(d)$. What does this mean? Each document is treated as a vector containing information about the words contained in it. Each vector has the same length and each entry \"slot\" in the vector contains some kind of data about the words that appear in the document such as presence/absence (1/0), count (an integer) or some other statistic. Each vector has the same length because each document shared the same vocabulary across the full collection of documents -- this collection is called a *corpus*.\n",
    "\n",
    "To define the vocabulary, we take a union of all words we have seen in all documents. We then just associate an array index with them. So \"hello\" may be at index 5 and \"world\" at index 99.\n",
    "\n",
    "Suppose we have the following corpus:\n",
    "\n",
    "`A Fox one day spied a beautiful bunch of ripe grapes hanging from a vine trained along the branches of a tree. The grapes seemed ready to burst with juice, and the Fox's mouth watered as he gazed longingly at them.`\n",
    "\n",
    "Suppose we treat each sentence as a document $d$. The vocabulary (often called the *lexicon*) is the following:\n",
    "\n",
    "$V = \\left\\{\\right.$ `a, along, and, as, at, beautiful, branches, bunch, burst, day, fox, fox's, from, gazed, grapes, hanging, he, juice, longingly, mouth, of, one, ready, ripe, seemed, spied, the, them, to, trained, tree, vine, watered, with`$\\left.\\right\\}$\n",
    "\n",
    "Then the document\n",
    "\n",
    "`A Fox one day spied a beautiful bunch of ripe grapes hanging from a vine trained along the branches of a tree`\n",
    "\n",
    "may be represented as the following sparse vector of word counts:\n",
    "\n",
    "$$\\bar V(d) = \\left( 4,1,0,0,0,1,1,1,0,1,1,0,1,0,1,1,0,0,0,0,2,1,0,1,0,0,1,0,0,1,1,1,0,0 \\right)$$\n",
    "\n",
    "or more succinctly as\n",
    "\n",
    "`[(0, 4), (1, 1), (5, 1), (6, 1), (7, 1), (9, 1), (10, 1), (12, 1), (14, 1), (15, 1), (20, 2), (21, 1), (23, 1),`\n",
    "`(26, 1), (29,1), (30, 1), (31, 1)]`\n",
    "\n",
    "along with a dictionary\n",
    "\n",
    "``\n",
    "{\n",
    "    0: a, 1: along, 5: beautiful, 6: branches, 7: bunch, 9: day, 10: fox, 12: from, 14: grapes, 15: hanging, 19: mouth, 20: of, 21: one, 23: ripe, 24: seemed, 25: spied, 26: the, 29:trained, 30: tree, 31: vine, \n",
    "}\n",
    "``\n",
    "\n",
    "Then, a set of documents becomes, in the usual `sklearn` style, a sparse matrix with rows being sparse arrays representing documents and columns representing the features/words in the vocabulary.\n",
    "\n",
    "Notice that this representation loses the relative ordering of the terms in the document. That is \"cat ate rat\" and \"rat ate cat\" are the same. Thus, this representation is also known as the Bag-Of-Words representation.\n",
    "\n",
    "Here is another example, from the book quoted above, although the matrix is transposed here so that documents are columns:\n",
    "\n",
    "![novel terms](terms.png)\n",
    "\n",
    "Such a matrix is also catted a Term-Document Matrix. Here, the terms being indexed could be stemmed before indexing; for instance, `jealous` and `jealousy` after stemming are the same feature. One could also make use of other \"Natural Language Processing\" transformations in constructing the vocabulary. We could use Lemmatization, which reduces words to lemmas: work, working, worked would all reduce to work. We could remove \"stopwords\" from our vocabulary, such as common words like \"the\". We could look for particular parts of speech, such as adjectives. This is often done in Sentiment Analysis. And so on. It all depends on our application.\n",
    "\n",
    "From the book:\n",
    ">The standard way of quantifying the similarity between two documents $d_1$ and $d_2$  is to compute the cosine similarity of their vector representations $\\bar V(d_1)$ and $\\bar V(d_2)$:\n",
    "\n",
    "$$S_{12} = \\frac{\\bar V(d_1) \\cdot \\bar V(d_2)}{|\\bar V(d_1)| \\times |\\bar V(d_2)|}$$\n",
    "\n",
    "![Vector Space Model](vsm.png)\n",
    "\n",
    "\n",
    ">There is a far more compelling reason to represent documents as vectors: we can also view a query as a vector. Consider the query q = jealous gossip. This query turns into the unit vector $\\bar V(q)$ = (0, 0.707, 0.707) on the three coordinates below. \n",
    "\n",
    "![novel terms](terms2.png)\n",
    "\n",
    ">The key idea now: to assign to each document d a score equal to the dot product:\n",
    "\n",
    "$$\\bar V(q) \\cdot \\bar V(d)$$\n",
    "\n",
    "Then we can use this simple Vector Model as a Search engine."
   ]
  },
  {
   "cell_type": "markdown",
   "metadata": {},
   "source": [
    "### In Code"
   ]
  },
  {
   "cell_type": "code",
   "execution_count": 5,
   "metadata": {},
   "outputs": [
    {
     "name": "stdout",
     "output_type": "stream",
     "text": [
      "Original text is\n",
      "Hop on pop\n",
      "Hop off pop\n",
      "Hop Hop hop\n",
      "\n",
      "Transformed text vector is \n",
      "[[1 0 1 1]\n",
      " [1 1 0 1]\n",
      " [3 0 0 0]]\n",
      "\n",
      "Words for each feature:\n",
      "['hop', 'off', 'on', 'pop']\n"
     ]
    }
   ],
   "source": [
    "from sklearn.feature_extraction.text import CountVectorizer\n",
    "\n",
    "text = ['Hop on pop', 'Hop off pop', 'Hop Hop hop']\n",
    "print(\"Original text is\\n{}\".format('\\n'.join(text)))\n",
    "\n",
    "vectorizer = CountVectorizer(min_df=0)\n",
    "\n",
    "# call `fit` to build the vocabulary\n",
    "vectorizer.fit(text)\n",
    "\n",
    "# call `transform` to convert text to a bag of words\n",
    "x = vectorizer.transform(text)\n",
    "\n",
    "# CountVectorizer uses a sparse array to save memory, but it's easier in this assignment to \n",
    "# convert back to a \"normal\" numpy array\n",
    "x = x.toarray()\n",
    "\n",
    "print(\"\")\n",
    "print(\"Transformed text vector is \\n{}\".format(x))\n",
    "\n",
    "# `get_feature_names` tracks which word is associated with each column of the transformed x\n",
    "print(\"\")\n",
    "print(\"Words for each feature:\")\n",
    "print(vectorizer.get_feature_names())\n",
    "\n",
    "# Notice that the bag of words treatment doesn't preserve information about the *order* of words, \n",
    "# just their frequency"
   ]
  },
  {
   "cell_type": "code",
   "execution_count": 6,
   "metadata": {},
   "outputs": [],
   "source": [
    "def make_xy(critics, vectorizer=None):\n",
    "    #Your code here    \n",
    "    if vectorizer is None:\n",
    "        vectorizer = CountVectorizer()\n",
    "    X = vectorizer.fit_transform(critics.quote)\n",
    "    X = X.tocsc()  # some versions of sklearn return COO format\n",
    "    y = (critics.fresh == 'fresh').values.astype(np.int)\n",
    "    return X, y\n",
    "X, y = make_xy(critics)"
   ]
  },
  {
   "cell_type": "markdown",
   "metadata": {},
   "source": [
    "## Naive Bayes"
   ]
  },
  {
   "cell_type": "markdown",
   "metadata": {},
   "source": [
    "From Bayes' Theorem, we have that\n",
    "\n",
    "$$P(c \\vert f) = \\frac{P(c \\cap f)}{P(f)}$$\n",
    "\n",
    "where $c$ represents a *class* or category, and $f$ represents a feature vector, such as $\\bar V(d)$ as above. **We are computing the probability that a document (or whatever we are classifying) belongs to category *c* given the features in the document.** $P(f)$ is really just a normalization constant, so the literature usually writes Bayes' Theorem in context of Naive Bayes as\n",
    "\n",
    "$$P(c \\vert f) \\propto P(f \\vert c) P(c) $$\n",
    "\n",
    "$P(c)$ is called the *prior* and is simply the probability of seeing class $c$. But what is $P(f \\vert c)$? This is the probability that we see feature set $f$ given that this document is actually in class $c$. This is called the *likelihood* and comes from the data. One of the major assumptions of the Naive Bayes model is that the features are *conditionally independent* given the class. While the presence of a particular discriminative word may uniquely identify the document as being part of class $c$ and thus violate general feature independence, conditional independence means that the presence of that term is independent of all the other words that appear *within that class*. This is a very important distinction. Recall that if two events are independent, then:\n",
    "\n",
    "$$P(A \\cap B) = P(A) \\cdot P(B)$$\n",
    "\n",
    "Thus, conditional independence implies\n",
    "\n",
    "$$P(f \\vert c)  = \\prod_i P(f_i | c) $$\n",
    "\n",
    "where $f_i$ is an individual feature (a word in this example).\n",
    "\n",
    "To make a classification, we then choose the class $c$ such that $P(c \\vert f)$ is maximal.\n",
    "\n",
    "There is a small caveat when computing these probabilities. For [floating point underflow](http://nlp.stanford.edu/IR-book/html/htmledition/naive-bayes-text-classification-1.html) we change the product into a sum by going into log space. This is called the LogSumExp trick. So:\n",
    "\n",
    "$$\\log P(f \\vert c)  = \\sum_i \\log P(f_i \\vert c) $$\n",
    "\n",
    "There is another caveat. What if we see a term that didn't exist in the training data? This means that $P(f_i \\vert c) = 0$ for that term, and thus $P(f \\vert c)  = \\prod_i P(f_i | c) = 0$, which doesn't help us at all. Instead of using zeros, we add a small negligible value called $\\alpha$ to each count. This is called Laplace Smoothing.\n",
    "\n",
    "$$P(f_i \\vert c) = \\frac{N_{ic}+\\alpha}{N_c + \\alpha N_i}$$\n",
    "\n",
    "where $N_{ic}$ is the number of times feature $i$ was seen in class $c$, $N_c$ is the number of times class $c$ was seen and $N_i$ is the number of times feature $i$ was seen globally. $\\alpha$ is sometimes called a regularization parameter."
   ]
  },
  {
   "cell_type": "markdown",
   "metadata": {},
   "source": [
    "### Multinomial Naive Bayes and Other Likelihood Functions\n",
    "\n",
    "Since we are modeling word counts, we are using variation of Naive Bayes called Multinomial Naive Bayes. This is because the likelihood function actually takes the form of the multinomial distribution.\n",
    "\n",
    "$$P(f \\vert c) = \\frac{\\left( \\sum_i f_i \\right)!}{\\prod_i f_i!} \\prod_{f_i} P(f_i \\vert c)^{f_i} \\propto \\prod_{i} P(f_i \\vert c)$$\n",
    "\n",
    "where the nasty term out front is absorbed as a normalization constant such that probabilities sum to 1.\n",
    "\n",
    "There are many other variations of Naive Bayes, all which depend on what type of value $f_i$ takes. If $f_i$ is continuous, we may be able to use *Gaussian Naive Bayes*. First compute the mean and variance for each class $c$. Then the likelihood, $P(f \\vert c)$ is given as follows\n",
    "\n",
    "$$P(f_i = v \\vert c) = \\frac{1}{\\sqrt{2\\pi \\sigma^2_c}} e^{- \\frac{\\left( v - \\mu_c \\right)^2}{2 \\sigma^2_c}}$$"
   ]
  },
  {
   "cell_type": "markdown",
   "metadata": {},
   "source": [
    "\n",
    "### Exercise Set II  \n",
    "\n",
    "**Exercise:** Implement a simple Naive Bayes classifier:\n",
    "\n",
    "\n",
    "* Split the data set into a training and test set\n",
    "* Use `scikit-learn`'s `MultinomialNB()` classifier with default parameters.\n",
    "* train the classifier over the training set and test on the test set\n",
    "* print the accuracy scores for both the training and the test sets\n",
    "\n",
    "\n",
    "What do you notice? Is this a good classifier? If not, why not?\n"
   ]
  },
  {
   "cell_type": "code",
   "execution_count": 7,
   "metadata": {},
   "outputs": [
    {
     "name": "stdout",
     "output_type": "stream",
     "text": [
      "Accuracy on training set: 0.9186803770351328\n",
      "Accuracy on test set: 0.7635569262400411\n"
     ]
    }
   ],
   "source": [
    "from sklearn.naive_bayes import MultinomialNB\n",
    "x_train, x_test, y_train, y_test = train_test_split(X, y, train_size = 0.75, test_size = 0.25)\n",
    "multi_nb_model = MultinomialNB()\n",
    "multi_nb_model.fit(x_train, y_train)\n",
    "\n",
    "training_accuracy = multi_nb_model.score(x_train, y_train)\n",
    "print(\"Accuracy on training set: {}\".format(training_accuracy))\n",
    "\n",
    "test_accuracy = multi_nb_model.score(x_test, y_test)\n",
    "print(\"Accuracy on test set: {}\".format(test_accuracy))"
   ]
  },
  {
   "cell_type": "markdown",
   "metadata": {},
   "source": [
    "The accuracy on the training set is pretty good. However, the accuracy on the test is pretty different from the accuracy on the training set. This suggests that the model is overfit."
   ]
  },
  {
   "cell_type": "markdown",
   "metadata": {},
   "source": [
    "### Picking Hyperparameters for Naive Bayes and Text Maintenance"
   ]
  },
  {
   "cell_type": "markdown",
   "metadata": {},
   "source": [
    "We need to know what value to use for $\\alpha$, and we also need to know which words to include in the vocabulary. As mentioned earlier, some words are obvious stopwords. Other words appear so infrequently that they serve as noise, and other words in addition to stopwords appear so frequently that they may also serve as noise."
   ]
  },
  {
   "cell_type": "markdown",
   "metadata": {},
   "source": [
    "First, let's find an appropriate value for `min_df` for the `CountVectorizer`. `min_df` can be either an integer or a float/decimal. If it is an integer, `min_df` represents the minimum number of documents a word must appear in for it to be included in the vocabulary. If it is a float, it represents the minimum *percentage* of documents a word must appear in to be included in the vocabulary. From the documentation:"
   ]
  },
  {
   "cell_type": "markdown",
   "metadata": {},
   "source": [
    ">min_df: When building the vocabulary ignore terms that have a document frequency strictly lower than the given threshold. This value is also called cut-off in the literature. If float, the parameter represents a proportion of documents, integer absolute counts. This parameter is ignored if vocabulary is not None."
   ]
  },
  {
   "cell_type": "markdown",
   "metadata": {},
   "source": [
    "### Exercise Set III  \n",
    "\n",
    "**Exercise:** Construct the cumulative distribution of document frequencies (df). The $x$-axis is a document count $x_i$ and the $y$-axis is the percentage of words that appear less than $x_i$ times. For example, at $x=5$, plot a point representing the percentage or number of words that appear in 5 or fewer documents."
   ]
  },
  {
   "cell_type": "code",
   "execution_count": 8,
   "metadata": {},
   "outputs": [],
   "source": [
    "def ecdf(data):\n",
    "    \"\"\"Compute ECDF for a one-dimensional array of measurements.\"\"\"\n",
    "    # Number of data points: n\n",
    "    n = len(data)\n",
    "\n",
    "    # x-data for the ECDF: x\n",
    "    x = np.sort(data)\n",
    "\n",
    "    # y-data for the ECDF: y\n",
    "    y = np.arange(1, n + 1) / n # increase by 1/n per point\n",
    "\n",
    "    return x, y"
   ]
  },
  {
   "cell_type": "code",
   "execution_count": 9,
   "metadata": {},
   "outputs": [],
   "source": [
    "X_array = X.toarray() # change csc matrix to array\n",
    "X_yes_no = np.where(X_array > 0, 1, 0) # replace values > 0 with 1"
   ]
  },
  {
   "cell_type": "code",
   "execution_count": 10,
   "metadata": {},
   "outputs": [],
   "source": [
    "doc_count_per_word = X_yes_no.sum(axis = 0) # sum columnwise (number of documents a word appears in)"
   ]
  },
  {
   "cell_type": "code",
   "execution_count": 11,
   "metadata": {},
   "outputs": [],
   "source": [
    "# create x and y values for ecdf\n",
    "x_ecdf, y_ecdf = ecdf(doc_count_per_word) # calculate the ecdf points"
   ]
  },
  {
   "cell_type": "code",
   "execution_count": 12,
   "metadata": {},
   "outputs": [],
   "source": [
    "x_subset = x_ecdf[x_ecdf < 40] # subset of ecdf points for zooming in\n",
    "y_subset = y_ecdf[x_ecdf < 40] # subset of ecdf points for zooming in"
   ]
  },
  {
   "cell_type": "code",
   "execution_count": 13,
   "metadata": {},
   "outputs": [
    {
     "data": {
      "image/png": "[encoded data removed]",
      "text/plain": [
       "<Figure size 1152x576 with 2 Axes>"
      ]
     },
     "metadata": {},
     "output_type": "display_data"
    }
   ],
   "source": [
    "# Plot the entire series \n",
    "plt.figure(figsize = (16, 8))\n",
    "\n",
    "# large plot\n",
    "plt.scatter(x = x_ecdf, y = y_ecdf, s = 10)\n",
    "plt.title('Cumulative Distribution of Document Frequencies')\n",
    "plt.xlabel('Document Count ' + r'$x_i$')\n",
    "plt.ylabel('Cumulative Proportion')\n",
    "plt.grid(False)\n",
    "\n",
    "# zoomed in plot\n",
    "plt.axes([0.4, 0.25, 0.35, 0.35])\n",
    "plt.scatter(x = x_subset, y = y_subset, s = 10, color = sns.color_palette().as_hex()[1])\n",
    "plt.title('Cumulative Distribution of Document Frequencies\\n(Zoomed In)')\n",
    "plt.xlabel('Document Count ' + r'$x_i$')\n",
    "plt.ylabel('Cumulative Proportion')\n",
    "plt.grid(False)\n",
    "plt.show()"
   ]
  },
  {
   "cell_type": "markdown",
   "metadata": {},
   "source": [
    "**Exercise:** Look for the point at which the curve begins climbing steeply. This may be a good value for `min_df`. If we were interested in also picking `max_df`, we would likely pick the value where the curve starts to plateau. What value did you choose?"
   ]
  },
  {
   "cell_type": "code",
   "execution_count": 14,
   "metadata": {},
   "outputs": [
    {
     "data": {
      "text/plain": [
       "9586"
      ]
     },
     "execution_count": 14,
     "metadata": {},
     "output_type": "execute_result"
    }
   ],
   "source": [
    "sum(doc_count_per_word == 1)"
   ]
  },
  {
   "cell_type": "code",
   "execution_count": 15,
   "metadata": {},
   "outputs": [
    {
     "data": {
      "text/plain": [
       "0.42762189409822904"
      ]
     },
     "execution_count": 15,
     "metadata": {},
     "output_type": "execute_result"
    }
   ],
   "source": [
    "sum(doc_count_per_word == 1) / len(doc_count_per_word)"
   ]
  },
  {
   "cell_type": "markdown",
   "metadata": {},
   "source": [
    "I will choose `min_df` $= 1$ because there are 9586 words (42.8 % of the words) that appear in only one document.\n",
    "\n",
    "For `max_df`,  I would choose 10, because it seems like the curve starts to plateau from there."
   ]
  },
  {
   "cell_type": "markdown",
   "metadata": {},
   "source": [
    "The parameter $\\alpha$ is chosen to be a small value that simply avoids having zeros in the probability computations. This value can sometimes be chosen arbitrarily with domain expertise, but we will use K-fold cross validation. In K-fold cross-validation, we divide the data into $K$ non-overlapping parts. We train on $K-1$ of the folds and test on the remaining fold. We then iterate, so that each fold serves as the test fold exactly once. The function `cv_score` performs the K-fold cross-validation algorithm for us, but we need to pass a function that measures the performance of the algorithm on each fold. "
   ]
  },
  {
   "cell_type": "code",
   "execution_count": 16,
   "metadata": {},
   "outputs": [],
   "source": [
    "from sklearn.model_selection import KFold\n",
    "def cv_score(clf, X, y, scorefunc):\n",
    "    result = 0.\n",
    "    nfold = 5\n",
    "    for train, test in KFold(nfold).split(X): # split data into train/test groups, 5 times\n",
    "        clf.fit(X[train], y[train]) # fit the classifier, passed is as clf.\n",
    "        result += scorefunc(clf, X[test], y[test]) # evaluate score function on held-out data\n",
    "    return result / nfold # average"
   ]
  },
  {
   "cell_type": "markdown",
   "metadata": {},
   "source": [
    "We use the log-likelihood as the score here in `scorefunc`. The higher the log-likelihood, the better. Indeed, what we do in `cv_score` above is to implement the cross-validation part of `GridSearchCV`.\n",
    "\n",
    "The custom scoring function `scorefunc` allows us to use different metrics depending on the decision risk we care about (precision, accuracy, profit etc.) directly on the validation set. You will often find people using `roc_auc`, precision, recall, or `F1-score` as the scoring function."
   ]
  },
  {
   "cell_type": "code",
   "execution_count": 17,
   "metadata": {},
   "outputs": [],
   "source": [
    "def log_likelihood(clf, x, y):\n",
    "    prob = clf.predict_log_proba(x)\n",
    "    rotten = y == 0\n",
    "    fresh = ~rotten\n",
    "    return prob[rotten, 0].sum() + prob[fresh, 1].sum()"
   ]
  },
  {
   "cell_type": "markdown",
   "metadata": {},
   "source": [
    "We'll cross-validate over the regularization parameter $\\alpha$."
   ]
  },
  {
   "cell_type": "markdown",
   "metadata": {},
   "source": [
    "Let's set up the train and test masks first, and then we can run the cross-validation procedure."
   ]
  },
  {
   "cell_type": "code",
   "execution_count": 18,
   "metadata": {},
   "outputs": [
    {
     "name": "stderr",
     "output_type": "stream",
     "text": [
      "/root/anaconda3/lib/python3.6/site-packages/sklearn/model_selection/_split.py:2026: FutureWarning: From version 0.21, test_size will always complement train_size unless both are specified.\n",
      "  FutureWarning)\n"
     ]
    }
   ],
   "source": [
    "_, itest = train_test_split(range(critics.shape[0]), train_size=0.7, random_state = 123)\n",
    "mask = np.zeros(critics.shape[0], dtype=np.bool)\n",
    "mask[itest] = True # randomly set indices to True for test set"
   ]
  },
  {
   "cell_type": "markdown",
   "metadata": {},
   "source": [
    "### Exercise Set IV  \n",
    "\n",
    "**Exercise:** What does using the function `log_likelihood` as the score mean? What are we trying to optimize for?"
   ]
  },
  {
   "cell_type": "markdown",
   "metadata": {},
   "source": [
    "`log_likelihood` function is a function of the parameter $\\alpha$. That is, given a value of $\\alpha$, what is the probability of obtaining the data that we got? Here, our data is the feature set $f$ given that the the document is in class $c$. The likelihood function for our problem is the following:\n",
    "\n",
    "$$P(f \\vert c)  = \\prod_i P(f_i | c) $$\n",
    "\n",
    "where $f_i$ is an individual feature (a word in this example).\n",
    "\n",
    "As mentioned above, to deal with the case where $P(f_i | c) = 0$, we use Laplace Smoothing. Hence we have \n",
    "\n",
    "$$P(f_i \\vert c) = \\frac{N_{ic}+\\alpha}{N_c + \\alpha N_i}$$\n",
    "\n",
    "and \n",
    "\n",
    "$$P(f \\vert c)  = \\prod_i P(f_i \\vert c) = \\prod_i \\frac{N_{ic}+\\alpha}{N_c + \\alpha N_i} $$\n",
    "\n",
    "where $N_{ic}$ is the number of times feature $i$ was seen in class $c$, $N_c$ is the number of times class $c$ was seen and $N_i$ is the number of times feature $i$ was seen globally.\n",
    "\n",
    "We take the log of this likelihood because log is a monotonic transformation and working with sums is easier than working with products. Hence, our log likelihood function now becomes:\n",
    "\n",
    "$$\\log P(f \\vert c)  = \\sum_i \\log P(f_i \\vert c) $$\n",
    "\n",
    "We want to find $\\alpha$ such that it maximizes the probability of getting the feature vector $f$ given $c$. Ultimately, we are trying to find the probability that a document (or whatever we are classifying) belongs to category *c* given the features in the document. The likelihood function is important because of the following relationship (as mentioned above):\n",
    "\n",
    "$$P(c \\vert f) \\propto P(f \\vert c) P(c) $$\n",
    "\n",
    "We are finding $\\alpha$ to maximize the likelihood function. By doing this, we are trying to optimize by finding the maximum probability $P(c \\vert f)$."
   ]
  },
  {
   "cell_type": "markdown",
   "metadata": {},
   "source": [
    "**Exercise:** Without writing any code, what do you think would happen if you choose a value of $\\alpha$ that is too high?"
   ]
  },
  {
   "cell_type": "markdown",
   "metadata": {},
   "source": [
    "Large values of $\\alpha$ would drown out the signal that we need. That is, given the following:\n",
    "\n",
    "$$P(f_i \\vert c) = \\frac{N_{ic}+\\alpha}{N_c + \\alpha N_i}$$\n",
    "\n",
    "$$\\lim_{\\alpha \\rightarrow \\infty} P(f_i \\vert c) \\rightarrow \\frac{\\alpha}{\\alpha N_i} = \\frac{1}{N_i}$$\n",
    "\n",
    "This means that all the probabilities would represent the inverse of the number of times the feature $i$ (i.e. specific word) was seen globally. However, what we actually want is the probability of feature $i$ appearing in class $c$."
   ]
  },
  {
   "cell_type": "markdown",
   "metadata": {},
   "source": [
    "**Exercise:** Using the skeleton code below, find the best values of the parameter `alpha`, and use the value of `min_df` you chose in the previous exercise set. Use the `cv_score` function above with the `log_likelihood` function for scoring."
   ]
  },
  {
   "cell_type": "code",
   "execution_count": 19,
   "metadata": {},
   "outputs": [],
   "source": [
    "#the grid of parameters to search over\n",
    "alphas = [.1, 1, 5, 10, 50]\n",
    "min_df = 1\n",
    "best_min_df = 1 # YOUR TURN: put your value of min_df here.\n",
    "\n",
    "#Find the best value for alpha and min_df, and the best classifier\n",
    "best_alpha = None\n",
    "maxscore=-np.inf\n",
    "for alpha in alphas:        \n",
    "    vectorizer = CountVectorizer(min_df=best_min_df)       \n",
    "    Xthis, ythis = make_xy(critics, vectorizer)\n",
    "    Xtrainthis = Xthis[mask]\n",
    "    ytrainthis = ythis[mask]\n",
    "    \n",
    "    # create a multinomial model with alpha value\n",
    "    nb_model = MultinomialNB(alpha = alpha)\n",
    "    \n",
    "    # calculate the cross-validation score with log_likelihood as the metric\n",
    "    log_lik = cv_score(nb_model, Xtrainthis, ytrainthis, log_likelihood)\n",
    "    \n",
    "    # find maximum log_lik value\n",
    "    if log_lik > maxscore:\n",
    "        maxscore = log_lik\n",
    "        best_alpha = alpha"
   ]
  },
  {
   "cell_type": "code",
   "execution_count": 20,
   "metadata": {},
   "outputs": [
    {
     "name": "stdout",
     "output_type": "stream",
     "text": [
      "alpha: 1\n"
     ]
    }
   ],
   "source": [
    "print(\"alpha: {}\".format(best_alpha))"
   ]
  },
  {
   "cell_type": "markdown",
   "metadata": {},
   "source": [
    "\n",
    "### Exercise Set V: Working with the Best Parameters  \n",
    "\n",
    "**Exercise:** Using the best value of  `alpha` you just found, calculate the accuracy on the training and test sets. Is this classifier better? Why (not)?\n",
    "\n"
   ]
  },
  {
   "cell_type": "code",
   "execution_count": 21,
   "metadata": {},
   "outputs": [
    {
     "name": "stdout",
     "output_type": "stream",
     "text": [
      "Accuracy on training data: 0.928679\n",
      "Accuracy on test data:     0.726772\n"
     ]
    }
   ],
   "source": [
    "vectorizer = CountVectorizer(min_df=best_min_df)\n",
    "X, y = make_xy(critics, vectorizer)\n",
    "xtrain=X[mask]\n",
    "ytrain=y[mask]\n",
    "xtest=X[~mask]\n",
    "ytest=y[~mask]\n",
    "\n",
    "clf = MultinomialNB(alpha=best_alpha).fit(xtrain, ytrain)\n",
    "\n",
    "#your turn. Print the accuracy on the test and training dataset\n",
    "training_accuracy = clf.score(xtrain, ytrain)\n",
    "test_accuracy = clf.score(xtest, ytest)\n",
    "\n",
    "print(\"Accuracy on training data: {:2f}\".format(training_accuracy))\n",
    "print(\"Accuracy on test data:     {:2f}\".format(test_accuracy))"
   ]
  },
  {
   "cell_type": "markdown",
   "metadata": {},
   "source": [
    "The model is not better than the previous model using default values. The model is not more accurate. It is also overfitting. The reason for this is because the best $\\alpha$ value is the same as the default $\\alpha$ value ($\\alpha = 1$)."
   ]
  },
  {
   "cell_type": "code",
   "execution_count": 22,
   "metadata": {},
   "outputs": [
    {
     "name": "stdout",
     "output_type": "stream",
     "text": [
      "[[1826 2455]\n",
      " [ 521 6090]]\n"
     ]
    }
   ],
   "source": [
    "from sklearn.metrics import confusion_matrix\n",
    "print(confusion_matrix(ytest, clf.predict(xtest)))"
   ]
  },
  {
   "cell_type": "markdown",
   "metadata": {},
   "source": [
    "## Interpretation"
   ]
  },
  {
   "cell_type": "markdown",
   "metadata": {},
   "source": [
    "### What are the strongly predictive features?\n",
    "\n",
    "We use a neat trick to identify strongly predictive features (i.e. words). \n",
    "\n",
    "* first, create a data set such that each row has exactly one feature. This is represented by the identity matrix.\n",
    "* use the trained classifier to make predictions on this matrix\n",
    "* sort the rows by predicted probabilities, and pick the top and bottom $K$ rows"
   ]
  },
  {
   "cell_type": "code",
   "execution_count": 23,
   "metadata": {},
   "outputs": [
    {
     "name": "stdout",
     "output_type": "stream",
     "text": [
      "Good words\t     P(fresh | word)\n",
      "             delight 0.96\n",
      "        entertaining 0.95\n",
      "          remarkable 0.95\n",
      "                rare 0.94\n",
      "         directorial 0.94\n",
      "                myth 0.94\n",
      "            physical 0.93\n",
      "         beautifully 0.93\n",
      "                bold 0.93\n",
      "          mainstream 0.93\n",
      "Bad words\t     P(fresh | word)\n",
      "              unable 0.13\n",
      "         overwrought 0.13\n",
      "               waste 0.13\n",
      "           pointless 0.13\n",
      "          uninspired 0.11\n",
      "                poor 0.10\n",
      "            tiresome 0.09\n",
      "               bland 0.09\n",
      "                lame 0.08\n",
      "       unfortunately 0.06\n"
     ]
    }
   ],
   "source": [
    "words = np.array(vectorizer.get_feature_names())\n",
    "\n",
    "x = np.eye(xtest.shape[1]) # identity matrix with n = number of words (features)\n",
    "probs = clf.predict_log_proba(x)[:, 0] # log of the probabilities; take first column because it represents P(fresh | word)\n",
    "                                       # the other column represents P(rotten | word)\n",
    "ind = np.argsort(probs) # returns the indices that would sort probs\n",
    "\n",
    "good_words = words[ind[:10]]\n",
    "bad_words = words[ind[-10:]]\n",
    "\n",
    "good_prob = probs[ind[:10]]\n",
    "bad_prob = probs[ind[-10:]]\n",
    "\n",
    "print(\"Good words\\t     P(fresh | word)\")\n",
    "for w, p in zip(good_words, good_prob):\n",
    "    print(\"{:>20}\".format(w), \"{:.2f}\".format(1 - np.exp(p)))\n",
    "    \n",
    "print(\"Bad words\\t     P(fresh | word)\")\n",
    "for w, p in zip(bad_words, bad_prob):\n",
    "    print(\"{:>20}\".format(w), \"{:.2f}\".format(1 - np.exp(p)))"
   ]
  },
  {
   "cell_type": "markdown",
   "metadata": {},
   "source": [
    "\n",
    "### Exercise Set VI  \n",
    "\n",
    "**Exercise:** Why does this method work? What does the probability for each row in the identity matrix represent\n",
    "\n"
   ]
  },
  {
   "cell_type": "markdown",
   "metadata": {},
   "source": [
    "This method works because the identity matrix represents data such that the document contains only one occurrence of a specific word. In other words, these are one-word documents. The probability of each row represents $P(c = fresh | f_i)$ where $f_i$ is an individual word. So, given that a document has only one word, $f_i$, what is the probability that the document is in class `fresh`? This is what we calculate. So, selecting the highest ten and lowest ten probabilities represent the top ten and bottom ten words that would help us to classify the document."
   ]
  },
  {
   "cell_type": "markdown",
   "metadata": {},
   "source": [
    "The above exercise is an example of *feature selection*. There are many other feature selection methods. A list of feature selection methods available in `sklearn` is [here](http://scikit-learn.org/stable/modules/classes.html#module-sklearn.feature_selection). The most common feature selection technique for text mining is the chi-squared $\\left( \\chi^2 \\right)$ [method](http://nlp.stanford.edu/IR-book/html/htmledition/feature-selectionchi2-feature-selection-1.html)."
   ]
  },
  {
   "cell_type": "markdown",
   "metadata": {},
   "source": [
    "### Prediction Errors\n",
    "\n",
    "We can see mis-predictions as well."
   ]
  },
  {
   "cell_type": "code",
   "execution_count": 24,
   "metadata": {},
   "outputs": [
    {
     "name": "stdout",
     "output_type": "stream",
     "text": [
      "Mis-predicted Rotten quotes\n",
      "---------------------------\n",
      "Part comedy, part family drama, part romance, part special-effects mystery-adventure, and not entirely satisfying on any of these levels.\n",
      "\n",
      "Walt Disney has for so long parlayed gooey sentiment and stark horror into profitable cartoons that most moviegoers are apt to be more surprised than disappointed to discover that the combination somehow does not work this time.\n",
      "\n",
      "Pollack makes a solid job of it, as does Cruise. But solid isn't enough when it comes to thrillers -- or courtroom dramas, for that matter. Solid is great when it comes to office furniture.\n",
      "\n",
      "As a depiction of a loving-turbulent relationship between a single mom (Susan Sarandon) and her rebellious teenage daughter (Natalie Portman), Wang's meller is nicely crafted but old-fashioned like Hollywood's weepies of yesteryear.\n",
      "\n",
      "What emerges in the end is a strange ambiguity of attitude to the American political system and a hollow humour about cultural values. The cinema of cynicism, really.\n",
      "\n",
      "Mis-predicted Fresh quotes\n",
      "--------------------------\n",
      "Is In the Army Now funny? Yes, Drill Sergeant, Sir! Is it stupid? Yes, sir! Does it kill brain cells? Yes, sirree!\n",
      "\n",
      "The Matrix did not bore me. It interested me so much, indeed, that I wanted to be challenged even more.\n",
      "\n",
      "Consider this the big-screen equivalent of a beach read: Just turn off your brain and wallow in whatever turn-ons -- Whoopi and whoopee -- Stella offers.\n",
      "\n",
      "Nathan Lane, Matthew Broderick and Gary Beach have their singing, dancing and kvetching in the Broadway smash The Producers immortalized on film.\n",
      "\n",
      "This one is neither crude clowning nor crude prejudice, but a literate and knowingly directed satire which lands many a shrewd crack about phony Five Year Plans, collective farms, Communist jargon and pseudo-scientific gab.\n",
      "\n"
     ]
    }
   ],
   "source": [
    "x, y = make_xy(critics, vectorizer)\n",
    "\n",
    "prob = clf.predict_proba(x)[:, 0]\n",
    "predict = clf.predict(x)\n",
    "\n",
    "bad_rotten = np.argsort(prob[y == 0])[:5]\n",
    "bad_fresh = np.argsort(prob[y == 1])[-5:]\n",
    "\n",
    "print(\"Mis-predicted Rotten quotes\")\n",
    "print('---------------------------')\n",
    "for row in bad_rotten:\n",
    "    print(critics[y == 0].quote.iloc[row])\n",
    "    print(\"\")\n",
    "\n",
    "print(\"Mis-predicted Fresh quotes\")\n",
    "print('--------------------------')\n",
    "for row in bad_fresh:\n",
    "    print(critics[y == 1].quote.iloc[row])\n",
    "    print(\"\")"
   ]
  },
  {
   "cell_type": "markdown",
   "metadata": {},
   "source": [
    "\n",
    "### Exercise Set VII: Predicting the Freshness for a New Review  \n",
    "\n",
    "\n",
    "**Exercise:**\n",
    "\n",
    "* Using your best trained classifier, predict the freshness of the following sentence: *'This movie is not remarkable, touching, or superb in any way'*\n",
    "* Is the result what you'd expect? Why (not)?\n",
    "\n",
    "\n"
   ]
  },
  {
   "cell_type": "code",
   "execution_count": 25,
   "metadata": {},
   "outputs": [
    {
     "name": "stdout",
     "output_type": "stream",
     "text": [
      "Fresh\n"
     ]
    }
   ],
   "source": [
    "# movie review\n",
    "review = ['This movie is not remarkable, touching, or superb in any way']\n",
    "\n",
    "# convert review to bag of words\n",
    "bag_of_words_review = vectorizer.transform(review)\n",
    "\n",
    "# predict the class\n",
    "prediction = clf.predict(bag_of_words_review)\n",
    "\n",
    "# print the result\n",
    "if prediction == 1: print('Fresh')\n",
    "else: print('Rotten')"
   ]
  },
  {
   "cell_type": "markdown",
   "metadata": {},
   "source": [
    "The result is not what I expected because the review is supposed to be classified as 'Rotten'. The reason for this is probably because of words like remarkable, touching, and superb. For example, superb is a word that has 95% of being classified as fresh according to the output of the predictive words above."
   ]
  },
  {
   "cell_type": "markdown",
   "metadata": {},
   "source": [
    "### Aside: TF-IDF Weighting for Term Importance\n",
    "\n",
    "TF-IDF stands for \n",
    "\n",
    "`Term-Frequency X Inverse Document Frequency`.\n",
    "\n",
    "In the standard `CountVectorizer` model above, we used just the term frequency in a document of words in our vocabulary. In TF-IDF, we weight this term frequency by the inverse of its popularity in all documents. For example, if the word \"movie\" showed up in all the documents, it would not have much predictive value. It could actually be considered a stopword. By weighing its counts by 1 divided by its overall frequency, we downweight it. We can then use this TF-IDF weighted features as inputs to any classifier. **TF-IDF is essentially a measure of term importance, and of how discriminative a word is in a corpus.** There are a variety of nuances involved in computing TF-IDF, mainly involving where to add the smoothing term to avoid division by 0, or log of 0 errors. The formula for TF-IDF in `scikit-learn` differs from that of most textbooks: \n",
    "\n",
    "$$\\mbox{TF-IDF}(t, d) = \\mbox{TF}(t, d)\\times \\mbox{IDF}(t) = n_{td} \\log{\\left( \\frac{\\vert D \\vert}{\\vert d : t \\in d \\vert} + 1 \\right)}$$\n",
    "\n",
    "where $n_{td}$ is the number of times term $t$ occurs in document $d$, $\\vert D \\vert$ is the number of documents, and $\\vert d : t \\in d \\vert$ is the number of documents that contain $t$"
   ]
  },
  {
   "cell_type": "code",
   "execution_count": 26,
   "metadata": {},
   "outputs": [],
   "source": [
    "# http://scikit-learn.org/dev/modules/feature_extraction.html#text-feature-extraction\n",
    "# http://scikit-learn.org/dev/modules/classes.html#text-feature-extraction-ref\n",
    "from sklearn.feature_extraction.text import TfidfVectorizer, TfidfTransformer\n",
    "tfidfvectorizer = TfidfVectorizer(min_df=1, stop_words='english')\n",
    "Xtfidf=tfidfvectorizer.fit_transform(critics.quote)"
   ]
  },
  {
   "cell_type": "markdown",
   "metadata": {},
   "source": [
    "\n",
    "### Exercise Set VIII: Enrichment **(Optional)**  \n",
    "\n",
    "\n",
    "There are several additional things we could try. Try some of these as exercises:\n",
    "\n",
    "**Build a Naive Bayes model where the features are n-grams instead of words. N-grams are phrases containing n words next to each other: a bigram contains 2 words, a trigram contains 3 words, and 6-gram contains 6 words. This is useful because \"not good\" and \"so good\" mean very different things. On the other hand, as n increases, the model does not scale well since the feature set becomes more sparse.**"
   ]
  },
  {
   "cell_type": "code",
   "execution_count": 27,
   "metadata": {},
   "outputs": [],
   "source": [
    "# suppress warnings\n",
    "import warnings\n",
    "warnings.filterwarnings(\"ignore\")"
   ]
  },
  {
   "cell_type": "code",
   "execution_count": 28,
   "metadata": {},
   "outputs": [],
   "source": [
    "X = critics.quote\n",
    "xtrain=X[mask]\n",
    "ytrain=y[mask]\n",
    "xtest=X[~mask]\n",
    "ytest=y[~mask]"
   ]
  },
  {
   "cell_type": "code",
   "execution_count": 29,
   "metadata": {},
   "outputs": [],
   "source": [
    "# use various values of n-gram values to search for best parameters\n",
    "# parameters to search over\n",
    "alphas = [0, .1, 1, 5, 10, 50]\n",
    "min_dfs = [1e-5, 1e-4, 1e-3, 1e-2, 1e-1]\n",
    "ngram_ranges = [(i, j) for i in range(1, 4) for j in range(1, 4) if i <= j] # create tuple of ngram ranges"
   ]
  },
  {
   "cell_type": "code",
   "execution_count": 30,
   "metadata": {
    "scrolled": false
   },
   "outputs": [
    {
     "name": "stdout",
     "output_type": "stream",
     "text": [
      "Accuracy on training data: 0.9485971300064253\n",
      "Accuracy on testing data: 0.7375137715754683\n",
      "Tuned Model Parameters: {'vectorizer__ngram_range': (1, 1), 'vectorizer__min_df': 0.0001, 'clf__alpha': 1}\n"
     ]
    }
   ],
   "source": [
    "# Naive Bayes\n",
    "# Using pipeline and RandomizedSearchCV to find best parameters and calculate accuracy\n",
    "pl = Pipeline([('vectorizer', CountVectorizer()),\n",
    "               ('clf', MultinomialNB())])\n",
    "\n",
    "param_grid = dict(vectorizer__min_df = min_dfs,\n",
    "                  vectorizer__ngram_range = ngram_ranges,\n",
    "                  clf__alpha = alphas)\n",
    "\n",
    "grid_search = RandomizedSearchCV(pl, param_distributions=param_grid, error_score=0, cv = 5)\n",
    "\n",
    "grid_search.fit(xtrain, ytrain)\n",
    "\n",
    "print('Accuracy on training data: {}'.format(grid_search.score(xtrain, ytrain)))\n",
    "\n",
    "print('Accuracy on testing data: {}'.format(grid_search.score(xtest, ytest)))\n",
    "\n",
    "print(\"Tuned Model Parameters: {}\".format(grid_search.best_params_))"
   ]
  },
  {
   "cell_type": "markdown",
   "metadata": {},
   "source": [
    "From the results, I can see that the best ngram_range is (1, 1). I also searched for best parameters for $\\alpha$ and min_df. They came out to 1 and .0001, respectively. The accuracy on the test set has not improved. The model seems to be overfit still due to the difference in accuracy on training data and test data"
   ]
  },
  {
   "cell_type": "markdown",
   "metadata": {},
   "source": [
    "**Try a model besides Naive Bayes, one that would allow for interactions between words -- for example, a Random Forest classifier.**"
   ]
  },
  {
   "cell_type": "code",
   "execution_count": 31,
   "metadata": {},
   "outputs": [
    {
     "name": "stdout",
     "output_type": "stream",
     "text": [
      "Accuracy on training data: 1.0\n",
      "Accuracy on testing data: 0.6747153874403232\n",
      "Tuned Model Parameters: {'vectorizer__ngram_range': (1, 3), 'vectorizer__min_df': 1e-05, 'clf__n_estimators': 15, 'clf__min_samples_split': 7, 'clf__min_samples_leaf': 1, 'clf__max_features': 1, 'clf__max_depth': None, 'clf__criterion': 'gini', 'clf__bootstrap': False}\n"
     ]
    }
   ],
   "source": [
    "# RandomForest\n",
    "\n",
    "# Using pipeline and RandomizedSearchCV to find best parameters and calculate accuracy\n",
    "pl = Pipeline([('vectorizer', CountVectorizer()),\n",
    "               ('clf', RandomForestClassifier())])\n",
    "\n",
    "param_grid = dict(vectorizer__min_df = min_dfs,\n",
    "                  vectorizer__ngram_range = ngram_ranges,\n",
    "                  clf__n_estimators = [10, 12, 15, 18, 20],\n",
    "                  clf__max_depth= [3, None],\n",
    "                  clf__max_features= ['auto', 1, 3, 5, 7, 10],\n",
    "                  clf__min_samples_split= [2, 3, 5, 7, 10],\n",
    "                  clf__min_samples_leaf= [1, 3, 5, 7, 10],\n",
    "                  clf__bootstrap= [True, False],\n",
    "                  clf__criterion= ['gini', 'entropy'])\n",
    "\n",
    "grid_search = RandomizedSearchCV(pl, param_distributions = param_grid, error_score=0.0, cv = 5)\n",
    "\n",
    "grid_search.fit(xtrain, ytrain)\n",
    "\n",
    "print('Accuracy on training data: {}'.format(grid_search.score(xtrain, ytrain)))\n",
    "\n",
    "print('Accuracy on testing data: {}'.format(grid_search.score(xtest, ytest)))\n",
    "\n",
    "print(\"Tuned Model Parameters: {}\".format(grid_search.best_params_))"
   ]
  },
  {
   "cell_type": "code",
   "execution_count": 32,
   "metadata": {},
   "outputs": [
    {
     "name": "stdout",
     "output_type": "stream",
     "text": [
      "Accuracy on training data: 0.6149068322981367\n",
      "Accuracy on testing data: 0.6069592361366141\n",
      "Tuned Model Parameters: {'vectorizer__ngram_range': (1, 2), 'vectorizer__min_df': 0.0001, 'clf__kernel': 'sigmoid', 'clf__gamma': 100, 'clf__C': 0.0001}\n"
     ]
    }
   ],
   "source": [
    "# Support Vector Machine\n",
    "\n",
    "# Using pipeline and RandomizedSearchCV to find best parameters and calculate accuracy\n",
    "pl = Pipeline([('vectorizer', CountVectorizer()),\n",
    "               ('scaler', StandardScaler(with_mean = False)),\n",
    "               ('clf', SVC())])\n",
    "\n",
    "param_grid = dict(vectorizer__min_df = min_dfs,\n",
    "                  vectorizer__ngram_range = ngram_ranges,\n",
    "                  clf__kernel = ['linear', 'poly', 'rbf', 'sigmoid'],\n",
    "                  clf__C = [1e-5, 1e-4, 1e-3, 1e-2, 1e-1, 1, 10, 100],\n",
    "                  clf__gamma = [1e-5, 1e-4, 1e-3, 1e-2, 1e-1, 1, 10, 100])\n",
    "\n",
    "grid_search = RandomizedSearchCV(pl, param_distributions=param_grid, error_score=0.0, cv = 5)\n",
    "\n",
    "grid_search.fit(xtrain, ytrain)\n",
    "\n",
    "print('Accuracy on training data: {}'.format(grid_search.score(xtrain, ytrain)))\n",
    "\n",
    "print('Accuracy on testing data: {}'.format(grid_search.score(xtest, ytest)))\n",
    "\n",
    "print(\"Tuned Model Parameters: {}\".format(grid_search.best_params_))"
   ]
  },
  {
   "cell_type": "code",
   "execution_count": 33,
   "metadata": {},
   "outputs": [
    {
     "name": "stdout",
     "output_type": "stream",
     "text": [
      "Accuracy on training data: 1.0\n",
      "Accuracy on testing data: 0.7161219243481455\n",
      "Tuned Model Parameters: {'vectorizer__ngram_range': (1, 3), 'vectorizer__min_df': 1e-05, 'clf__C': 0.01}\n"
     ]
    }
   ],
   "source": [
    "# Logistic Regression\n",
    "\n",
    "# Using pipeline and RandomizedSearchCV to find best parameters and calculate accuracy\n",
    "pl = Pipeline([('vectorizer', CountVectorizer()),\n",
    "               ('scaler', StandardScaler(with_mean = False)),\n",
    "               ('clf', LogisticRegression())])\n",
    "\n",
    "param_grid = dict(vectorizer__min_df = min_dfs,\n",
    "                  vectorizer__ngram_range = ngram_ranges,\n",
    "                  clf__C = [1e-5, 1e-4, 1e-3, 1e-2, 1e-1, 1, 10, 100])\n",
    "\n",
    "grid_search = RandomizedSearchCV(pl, param_distributions=param_grid, error_score=0.0, cv = 5)\n",
    "\n",
    "grid_search.fit(xtrain, ytrain)\n",
    "\n",
    "print('Accuracy on training data: {}'.format(grid_search.score(xtrain, ytrain)))\n",
    "\n",
    "print('Accuracy on testing data: {}'.format(grid_search.score(xtest, ytest)))\n",
    "\n",
    "print(\"Tuned Model Parameters: {}\".format(grid_search.best_params_))"
   ]
  },
  {
   "cell_type": "markdown",
   "metadata": {},
   "source": [
    "Random forest, support vector machine, and logistic regression all seem to not improve the accuracy."
   ]
  },
  {
   "cell_type": "markdown",
   "metadata": {},
   "source": [
    "**Use TF-IDF weighting instead of word counts. I will examine Naive Bayes, Random Forest, SVM, and Logistic Regression.**"
   ]
  },
  {
   "cell_type": "code",
   "execution_count": 34,
   "metadata": {},
   "outputs": [],
   "source": [
    "# use various values of n-gram values to search for best parameters\n",
    "# parameters to search over\n",
    "alphas = [0, .1, 1, 5, 10, 50]\n",
    "min_dfs = [1e-5, 1e-4, 1e-3, 1e-2, 1e-1]\n",
    "ngram_ranges = [(i, j) for i in range(1, 4) for j in range(1, 4) if i <= j] # create tuple of ngram ranges"
   ]
  },
  {
   "cell_type": "code",
   "execution_count": 37,
   "metadata": {},
   "outputs": [
    {
     "name": "stdout",
     "output_type": "stream",
     "text": [
      "Accuracy on training data: 0.8209466695223817\n",
      "Accuracy on testing data: 0.6986779287550495\n",
      "Tuned Model Parameters: {'tfidfvectorizer__ngram_range': (1, 3), 'tfidfvectorizer__min_df': 0.001, 'clf__alpha': 1}\n"
     ]
    }
   ],
   "source": [
    "# Naive Bayes\n",
    "# Using pipeline and RandomizedSearchCV to find best parameters and calculate accuracy\n",
    "pl = Pipeline([('tfidfvectorizer', TfidfVectorizer(stop_words = 'english')),\n",
    "               ('clf', MultinomialNB())])\n",
    "\n",
    "param_grid = dict(tfidfvectorizer__min_df = min_dfs,\n",
    "                  tfidfvectorizer__ngram_range = ngram_ranges,\n",
    "                  clf__alpha = alphas)\n",
    "\n",
    "grid_search = RandomizedSearchCV(pl, param_distributions=param_grid, error_score=0.0)\n",
    "\n",
    "grid_search.fit(xtrain, ytrain)\n",
    "\n",
    "print('Accuracy on training data: {}'.format(grid_search.score(xtrain, ytrain)))\n",
    "\n",
    "print('Accuracy on testing data: {}'.format(grid_search.score(xtest, ytest)))\n",
    "\n",
    "print(\"Tuned Model Parameters: {}\".format(grid_search.best_params_))"
   ]
  },
  {
   "cell_type": "code",
   "execution_count": 38,
   "metadata": {},
   "outputs": [
    {
     "name": "stdout",
     "output_type": "stream",
     "text": [
      "Accuracy on training data: 1.0\n",
      "Accuracy on testing data: 0.6955563716489166\n",
      "Tuned Model Parameters: {'vectorizer__ngram_range': (1, 1), 'vectorizer__min_df': 1e-05, 'clf__n_estimators': 20, 'clf__min_samples_split': 5, 'clf__min_samples_leaf': 1, 'clf__max_features': 3, 'clf__max_depth': None, 'clf__criterion': 'gini', 'clf__bootstrap': False}\n"
     ]
    }
   ],
   "source": [
    "# RandomForest\n",
    "\n",
    "# Using pipeline and RandomizedSearchCV to find best parameters and calculate accuracy\n",
    "pl = Pipeline([('vectorizer', TfidfVectorizer(stop_words = 'english')),\n",
    "               ('clf', RandomForestClassifier())])\n",
    "\n",
    "param_grid = dict(vectorizer__min_df = min_dfs,\n",
    "                  vectorizer__ngram_range = ngram_ranges,\n",
    "                  clf__n_estimators = [10, 12, 15, 18, 20],\n",
    "                  clf__max_depth= [3, None],\n",
    "                  clf__max_features= ['auto', 1, 3, 5, 7, 10],\n",
    "                  clf__min_samples_split= [2, 3, 5, 7, 10],\n",
    "                  clf__min_samples_leaf= [1, 3, 5, 7, 10],\n",
    "                  clf__bootstrap= [True, False],\n",
    "                  clf__criterion= ['gini', 'entropy'])\n",
    "\n",
    "grid_search = RandomizedSearchCV(pl, param_distributions=param_grid, error_score=0.0, cv = 5)\n",
    "\n",
    "grid_search.fit(xtrain, ytrain)\n",
    "\n",
    "print('Accuracy on training data: {}'.format(grid_search.score(xtrain, ytrain)))\n",
    "\n",
    "print('Accuracy on testing data: {}'.format(grid_search.score(xtest, ytest)))\n",
    "\n",
    "print(\"Tuned Model Parameters: {}\".format(grid_search.best_params_))"
   ]
  },
  {
   "cell_type": "code",
   "execution_count": 39,
   "metadata": {},
   "outputs": [
    {
     "name": "stdout",
     "output_type": "stream",
     "text": [
      "Accuracy on training data: 0.6149068322981367\n",
      "Accuracy on testing data: 0.6069592361366141\n",
      "Tuned Model Parameters: {'vectorizer__ngram_range': (2, 2), 'vectorizer__min_df': 0.001, 'clf__kernel': 'linear', 'clf__gamma': 0.1, 'clf__C': 0.0001}\n"
     ]
    }
   ],
   "source": [
    "# Support Vector Machine\n",
    "\n",
    "# Using pipeline and RandomizedSearchCV to find best parameters and calculate accuracy\n",
    "pl = Pipeline([('vectorizer', TfidfVectorizer(stop_words = 'english')),\n",
    "               ('scaler', StandardScaler(with_mean = False)),\n",
    "               ('clf', SVC())])\n",
    "\n",
    "param_grid = dict(vectorizer__min_df = min_dfs,\n",
    "                  vectorizer__ngram_range = ngram_ranges,\n",
    "                  clf__kernel = ['linear', 'poly', 'rbf', 'sigmoid'],\n",
    "                  clf__C = [1e-5, 1e-4, 1e-3, 1e-2, 1e-1, 1, 10, 100],\n",
    "                  clf__gamma = [1e-5, 1e-4, 1e-3, 1e-2, 1e-1, 1, 10, 100])\n",
    "\n",
    "grid_search = RandomizedSearchCV(pl, param_distributions=param_grid, error_score=0.0, cv = 5)\n",
    "\n",
    "grid_search.fit(xtrain, ytrain)\n",
    "\n",
    "print('Accuracy on training data: {}'.format(grid_search.score(xtrain, ytrain)))\n",
    "\n",
    "print('Accuracy on testing data: {}'.format(grid_search.score(xtest, ytest)))\n",
    "\n",
    "print(\"Tuned Model Parameters: {}\".format(grid_search.best_params_))"
   ]
  },
  {
   "cell_type": "code",
   "execution_count": 40,
   "metadata": {},
   "outputs": [
    {
     "name": "stdout",
     "output_type": "stream",
     "text": [
      "Accuracy on training data: 1.0\n",
      "Accuracy on testing data: 0.7127249357326478\n",
      "Tuned Model Parameters: {'vectorizer__ngram_range': (1, 2), 'vectorizer__min_df': 1e-05, 'clf__C': 10}\n"
     ]
    }
   ],
   "source": [
    "# Logistic Regression\n",
    "\n",
    "# Using pipeline and RandomizedSearchCV to find best parameters and calculate accuracy\n",
    "pl = Pipeline([('vectorizer', TfidfVectorizer(stop_words = 'english')),\n",
    "               ('scaler', StandardScaler(with_mean = False)),\n",
    "               ('clf', LogisticRegression())])\n",
    "\n",
    "param_grid = dict(vectorizer__min_df = min_dfs,\n",
    "                  vectorizer__ngram_range = ngram_ranges,\n",
    "                  clf__C = [1e-5, 1e-4, 1e-3, 1e-2, 1e-1, 1, 10, 100])\n",
    "\n",
    "grid_search = RandomizedSearchCV(pl, param_distributions=param_grid, error_score=0.0, cv = 5)\n",
    "\n",
    "grid_search.fit(xtrain, ytrain)\n",
    "\n",
    "print('Accuracy on training data: {}'.format(grid_search.score(xtrain, ytrain)))\n",
    "\n",
    "print('Accuracy on testing data: {}'.format(grid_search.score(xtest, ytest)))\n",
    "\n",
    "print(\"Tuned Model Parameters: {}\".format(grid_search.best_params_))"
   ]
  },
  {
   "cell_type": "markdown",
   "metadata": {},
   "source": [
    "Using the TF-IDF weighting, it seems like the accuracy has not improved."
   ]
  },
  {
   "cell_type": "markdown",
   "metadata": {},
   "source": [
    "**Next, I will try using the HashingVectorizer. I'll implement Naive Bayes, logistic regression, random forest, and support vector machines.**"
   ]
  },
  {
   "cell_type": "code",
   "execution_count": 41,
   "metadata": {},
   "outputs": [
    {
     "name": "stdout",
     "output_type": "stream",
     "text": [
      "Accuracy on training data: 0.9974298565003212\n",
      "Accuracy on testing data: 0.6613110539845758\n",
      "Tuned Model Parameters: {'vectorizer__ngram_range': (2, 2), 'clf__alpha': 0.1}\n"
     ]
    }
   ],
   "source": [
    "# Naive Bayes\n",
    "# Using pipeline and RandomizedSearchCV to find best parameters and calculate accuracy\n",
    "pl = Pipeline([('vectorizer', HashingVectorizer(norm=None, binary=False, non_negative=True)),\n",
    "               ('clf', MultinomialNB())])\n",
    "\n",
    "param_grid = dict(vectorizer__ngram_range = ngram_ranges,\n",
    "                  clf__alpha = alphas)\n",
    "\n",
    "grid_search = RandomizedSearchCV(pl, param_distributions = param_grid, error_score=0.0, cv = 5)\n",
    "\n",
    "grid_search.fit(xtrain, ytrain)\n",
    "\n",
    "print('Accuracy on training data: {}'.format(grid_search.score(xtrain, ytrain)))\n",
    "\n",
    "print('Accuracy on testing data: {}'.format(grid_search.score(xtest, ytest)))\n",
    "\n",
    "print(\"Tuned Model Parameters: {}\".format(grid_search.best_params_))"
   ]
  },
  {
   "cell_type": "code",
   "execution_count": 42,
   "metadata": {},
   "outputs": [
    {
     "name": "stdout",
     "output_type": "stream",
     "text": [
      "Accuracy on training data: 1.0\n",
      "Accuracy on testing data: 0.7224568490635329\n",
      "Tuned Model Parameters: {'vectorizer__ngram_range': (1, 2), 'clf__C': 10}\n"
     ]
    }
   ],
   "source": [
    "# Logistic Regression\n",
    "\n",
    "# Using pipeline and RandomizedSearchCV to find best parameters and calculate accuracy\n",
    "pl = Pipeline([('vectorizer', HashingVectorizer(norm=None, binary=False, non_negative=True)),\n",
    "               ('scaler', StandardScaler(with_mean = False)),\n",
    "               ('clf', LogisticRegression())])\n",
    "\n",
    "param_grid = dict(vectorizer__ngram_range = ngram_ranges,\n",
    "                  clf__C = [1e-5, 1e-4, 1e-3, 1e-2, 1e-1, 1, 10, 100])\n",
    "\n",
    "grid_search = RandomizedSearchCV(pl, param_distributions=param_grid, error_score=0.0, cv = 5)\n",
    "\n",
    "grid_search.fit(xtrain, ytrain)\n",
    "\n",
    "print('Accuracy on training data: {}'.format(grid_search.score(xtrain, ytrain)))\n",
    "\n",
    "print('Accuracy on testing data: {}'.format(grid_search.score(xtest, ytest)))\n",
    "\n",
    "print(\"Tuned Model Parameters: {}\".format(grid_search.best_params_))"
   ]
  },
  {
   "cell_type": "code",
   "execution_count": 43,
   "metadata": {},
   "outputs": [
    {
     "name": "stdout",
     "output_type": "stream",
     "text": [
      "Accuracy on training data: 0.9965731420004283\n",
      "Accuracy on testing data: 0.6460705104663974\n",
      "Tuned Model Parameters: {'vectorizer__ngram_range': (1, 3), 'clf__n_estimators': 20, 'clf__min_samples_split': 10, 'clf__min_samples_leaf': 1, 'clf__max_features': 10, 'clf__max_depth': None, 'clf__criterion': 'entropy', 'clf__bootstrap': True}\n"
     ]
    }
   ],
   "source": [
    "# RandomForest\n",
    "\n",
    "# Using pipeline and RandomizedSearchCV to find best parameters and calculate accuracy\n",
    "pl = Pipeline([('vectorizer', HashingVectorizer(norm=None, binary=False, non_negative=True)),\n",
    "               ('clf', RandomForestClassifier())])\n",
    "\n",
    "param_grid = dict(vectorizer__ngram_range = ngram_ranges,\n",
    "                  clf__n_estimators = [10, 12, 15, 18, 20],\n",
    "                  clf__max_depth= [3, None],\n",
    "                  clf__max_features= ['auto', 1, 3, 5, 7, 10],\n",
    "                  clf__min_samples_split= [2, 3, 5, 7, 10],\n",
    "                  clf__min_samples_leaf= [1, 3, 5, 7, 10],\n",
    "                  clf__bootstrap= [True, False],\n",
    "                  clf__criterion= ['gini', 'entropy'])\n",
    "\n",
    "grid_search = RandomizedSearchCV(pl, param_distributions=param_grid, error_score=0.0, cv = 5)\n",
    "\n",
    "grid_search.fit(xtrain, ytrain)\n",
    "\n",
    "print('Accuracy on training data: {}'.format(grid_search.score(xtrain, ytrain)))\n",
    "\n",
    "print('Accuracy on testing data: {}'.format(grid_search.score(xtest, ytest)))\n",
    "\n",
    "print(\"Tuned Model Parameters: {}\".format(grid_search.best_params_))"
   ]
  },
  {
   "cell_type": "code",
   "execution_count": 44,
   "metadata": {
    "scrolled": false
   },
   "outputs": [
    {
     "name": "stdout",
     "output_type": "stream",
     "text": [
      "Accuracy on training data: 1.0\n",
      "Accuracy on testing data: 0.6500183621006244\n",
      "Tuned Model Parameters: {'vectorizer__ngram_range': (1, 3), 'clf__kernel': 'linear', 'clf__gamma': 10, 'clf__C': 100}\n"
     ]
    }
   ],
   "source": [
    "# Support Vector Machine\n",
    "\n",
    "# Using pipeline and RandomizedSearchCV to find best parameters and calculate accuracy\n",
    "pl = Pipeline([('vectorizer', HashingVectorizer(norm=None, binary=False, non_negative=True)),\n",
    "               ('scaler', StandardScaler(with_mean = False)),\n",
    "               ('clf', SVC())])\n",
    "\n",
    "param_grid = dict(vectorizer__ngram_range = ngram_ranges,\n",
    "                  clf__kernel = ['linear', 'poly', 'rbf', 'sigmoid'],\n",
    "                  clf__C = [1e-5, 1e-4, 1e-3, 1e-2, 1e-1, 1, 10, 100],\n",
    "                  clf__gamma = [1e-5, 1e-4, 1e-3, 1e-2, 1e-1, 1, 10, 100])\n",
    "\n",
    "grid_search = RandomizedSearchCV(pl, param_distributions=param_grid, error_score=0.0, cv = 5)\n",
    "\n",
    "grid_search.fit(xtrain, ytrain)\n",
    "\n",
    "print('Accuracy on training data: {}'.format(grid_search.score(xtrain, ytrain)))\n",
    "\n",
    "print('Accuracy on testing data: {}'.format(grid_search.score(xtest, ytest)))\n",
    "\n",
    "print(\"Tuned Model Parameters: {}\".format(grid_search.best_params_))"
   ]
  },
  {
   "cell_type": "markdown",
   "metadata": {},
   "source": [
    "The accuracy when using HashingVectorizer doesn't seem to be too accurate."
   ]
  }
 ],
 "metadata": {
  "kernelspec": {
   "display_name": "Python 3",
   "language": "python",
   "name": "python3"
  },
  "language_info": {
   "codemirror_mode": {
    "name": "ipython",
    "version": 3
   },
   "file_extension": ".py",
   "mimetype": "text/x-python",
   "name": "python",
   "nbconvert_exporter": "python",
   "pygments_lexer": "ipython3",
   "version": "3.6.5"
  }
 },
 "nbformat": 4,
 "nbformat_minor": 1
}
